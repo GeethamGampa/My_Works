{
  "nbformat": 4,
  "nbformat_minor": 0,
  "metadata": {
    "colab": {
      "provenance": [],
      "authorship_tag": "ABX9TyPsttGJWLdFQmN7LyEIOtJ8",
      "include_colab_link": true
    },
    "kernelspec": {
      "name": "python3",
      "display_name": "Python 3"
    },
    "language_info": {
      "name": "python"
    }
  },
  "cells": [
    {
      "cell_type": "markdown",
      "metadata": {
        "id": "view-in-github",
        "colab_type": "text"
      },
      "source": [
        "<a href=\"https://colab.research.google.com/github/GeethamGampa/My_Works/blob/main/Work_I.ipynb\" target=\"_parent\"><img src=\"https://colab.research.google.com/assets/colab-badge.svg\" alt=\"Open In Colab\"/></a>"
      ]
    },
    {
      "cell_type": "markdown",
      "source": [
        "# ***NUMBER GUESSING GAME***"
      ],
      "metadata": {
        "id": "YJ7mHOV1CBic"
      }
    },
    {
      "cell_type": "markdown",
      "source": [
        "> ***Build a Number guessing game, in which the user selects a range.***\n",
        "\n",
        "> ***Let's say User selected a range, i.e., from A to B, where A and B belong to Integer.***\n",
        "\n",
        "> ***Some random integer will be selected by the system and the user has to guess that integer in the minimum number of guesses***"
      ],
      "metadata": {
        "id": "wX49NowYAuHW"
      }
    },
    {
      "cell_type": "markdown",
      "source": [
        "**Steps Breakdown :**\n",
        "\n",
        "> *Generate a random number within a range (user input)* *for this I need to import random*\n",
        "\n",
        "> *Ask the user to guess that number*\n",
        "\n",
        "> *Provide hints (too high, too low) based on the user's guesses*\n",
        "\n",
        "> *Calculate the minimum number of guesses required to find the number.*\n",
        "*Need to use formula and also import math*\n",
        "\n",
        "> *Stop the game if the user guesses the correct number, or if they exceed the allowed guesses*"
      ],
      "metadata": {
        "id": "7bScY6byIP6t"
      }
    },
    {
      "cell_type": "code",
      "source": [
        "import random  #helps to pick a random number\n",
        "\n",
        "# gives access to math functions (math.log2())\n",
        "# to calculate how many guesses are needed\n",
        "import math\n",
        "\n",
        "print(\"Welcome to the Number Guessing Game!\")  #Welcome message\n",
        "\n",
        "# Get the range from the user\n",
        "lower = int(input(\"Enter the lower number: \"))\n",
        "upper = int(input(\"Enter the upper number: \"))\n",
        "\n",
        "# Random number selection\n",
        "# tells system to pick one secret number randomly between upper and lower\n",
        "secret_number = random.randint(lower, upper)\n",
        "\n",
        "# Calculate the minimum number of guesses\n",
        "# Formula : Minimum number of guessing = log2(Upper bound – lower bound + 1)\n",
        "# Since the number of guesses has to be a whole number, we round the result to the nearest integer.\n",
        "# log2 tells us how many times you can divide a number by 2 until we reach 1\n",
        "# eg: 8 > 4 > 2 > 1\n",
        "min_guesses = round(math.log2(upper - lower + 1))\n",
        "print(f\"You should try to guess the number in {min_guesses} tries or less.\\n\")\n",
        "\n",
        "# Start guessing\n",
        "tries = 0 # counts how many times the user has guessed\n",
        "\n",
        "while tries < min_guesses:\n",
        "    guess = int(input(\"Guess the number: \"))\n",
        "    tries += 1 # increase the tries count by 1\n",
        "\n",
        "    if guess < secret_number:\n",
        "        print(\"Your guess is low! Try again.\\n\")\n",
        "    elif guess > secret_number:\n",
        "        print(\"Your guess is high! Try again.\\n\")\n",
        "    else:\n",
        "        print(f\"Congratulations! You guessed it! in {tries} tries.\")\n",
        "        print(\"Thanks for playing!\")\n",
        "        break\n",
        "else:\n",
        "    print(f\"Oops! You did not guess the number. The correct number was {secret_number}.\\nBetter Luck Next Time!!\")\n"
      ],
      "metadata": {
        "colab": {
          "base_uri": "https://localhost:8080/"
        },
        "id": "EOZ3X2-XCPKX",
        "outputId": "22bab6fa-26b7-4449-fb81-3760e373438a"
      },
      "execution_count": 3,
      "outputs": [
        {
          "output_type": "stream",
          "name": "stdout",
          "text": [
            "Welcome to the Number Guessing Game!\n",
            "Enter the lower number: 10\n",
            "Enter the upper number: 50\n",
            "You should try to guess the number in 5 tries or less.\n",
            "\n",
            "Guess the number: 15\n",
            "Your guess is low! Try again.\n",
            "\n",
            "Guess the number: 45\n",
            "Your guess is low! Try again.\n",
            "\n",
            "Guess the number: 46\n",
            "Your guess is low! Try again.\n",
            "\n",
            "Guess the number: 48\n",
            "Congratulations! You guessed it! in 4 tries.\n",
            "Thanks for playing!\n"
          ]
        }
      ]
    }
  ]
}