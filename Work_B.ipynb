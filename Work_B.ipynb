{
  "nbformat": 4,
  "nbformat_minor": 0,
  "metadata": {
    "colab": {
      "provenance": [],
      "authorship_tag": "ABX9TyOVhoyua6o8oaozSHZ7r31d",
      "include_colab_link": true
    },
    "kernelspec": {
      "name": "python3",
      "display_name": "Python 3"
    },
    "language_info": {
      "name": "python"
    }
  },
  "cells": [
    {
      "cell_type": "markdown",
      "metadata": {
        "id": "view-in-github",
        "colab_type": "text"
      },
      "source": [
        "<a href=\"https://colab.research.google.com/github/GeethamGampa/My_Works/blob/main/Work_B.ipynb\" target=\"_parent\"><img src=\"https://colab.research.google.com/assets/colab-badge.svg\" alt=\"Open In Colab\"/></a>"
      ]
    },
    {
      "cell_type": "markdown",
      "source": [
        "***Function to Convert Lowercase Letters to Uppercase in a String***"
      ],
      "metadata": {
        "id": "nfnw_XAciBX2"
      }
    },
    {
      "cell_type": "code",
      "execution_count": 6,
      "metadata": {
        "colab": {
          "base_uri": "https://localhost:8080/"
        },
        "id": "5y21foHdh9Zr",
        "outputId": "68d3681e-0f94-4cfe-ea9f-95396dc1b5f3"
      },
      "outputs": [
        {
          "output_type": "stream",
          "name": "stdout",
          "text": [
            " hello\n"
          ]
        }
      ],
      "source": [
        "a = \"HELLO\"\n",
        "def to_upper(a):\n",
        "  re = ' '\n",
        "  for i in a:\n",
        "    ascii = ord(i)\n",
        "    if 65 <= ascii <= 90:\n",
        "      upp = ascii + 32\n",
        "      re += chr(upp)\n",
        "    else:\n",
        "      re += i\n",
        "  return re\n",
        "print(to_upper(a))"
      ]
    },
    {
      "cell_type": "markdown",
      "source": [
        "***Function to Convert Uppercase Letters to Lowercase in a String***"
      ],
      "metadata": {
        "id": "NNqpbzR_4wr2"
      }
    },
    {
      "cell_type": "code",
      "source": [
        "a = \"world\"\n",
        "def to_lower(a):\n",
        "  re = ' '\n",
        "  for i in a:\n",
        "    ascii = ord(i)\n",
        "    if 97 <= ascii <= 122:\n",
        "      low = ascii - 32\n",
        "      re += chr(low)\n",
        "    else:\n",
        "      re += i\n",
        "  return re\n",
        "print(to_lower(a))"
      ],
      "metadata": {
        "colab": {
          "base_uri": "https://localhost:8080/"
        },
        "id": "3zFw4dL4iAql",
        "outputId": "400c9639-10f4-44e4-bffa-40b69a0dae68"
      },
      "execution_count": 7,
      "outputs": [
        {
          "output_type": "stream",
          "name": "stdout",
          "text": [
            " WORLD\n"
          ]
        }
      ]
    },
    {
      "cell_type": "markdown",
      "source": [
        "***Function to Capitalize the First Letter of a String***"
      ],
      "metadata": {
        "id": "bM7ElNJr45hg"
      }
    },
    {
      "cell_type": "code",
      "source": [
        "a = \"programming\"\n",
        "def capitalize(a):\n",
        "  first = True #to make sure only the first letter is capitalised\n",
        "  re = ' '\n",
        "  for i in a:\n",
        "    ascii = ord(i)\n",
        "    if first and 97 <= ascii <= 122:\n",
        "      upp = ascii - 32\n",
        "      re += chr(upp)\n",
        "\n",
        "      #setting back to false after capitalizing the first character\n",
        "      first = False\n",
        "    else:\n",
        "      re += i\n",
        "  return re\n",
        "print(capitalize(a))"
      ],
      "metadata": {
        "colab": {
          "base_uri": "https://localhost:8080/"
        },
        "id": "MckyditXiAnD",
        "outputId": "d50f6f79-8fce-49f7-b850-cd5bdef86fc3"
      },
      "execution_count": 8,
      "outputs": [
        {
          "output_type": "stream",
          "name": "stdout",
          "text": [
            " Programming\n"
          ]
        }
      ]
    },
    {
      "cell_type": "markdown",
      "source": [
        "***Function to Check for Anagrams Between Two Strings***"
      ],
      "metadata": {
        "id": "E-g7mc2w49Kh"
      }
    },
    {
      "cell_type": "code",
      "source": [
        "def check_anagrams(str1,str2):\n",
        "  if (sorted(str1) == sorted(str2)):\n",
        "    print(sorted(str1))\n",
        "    print(sorted(str2))\n",
        "\n",
        "    print(\"The strings are anagrams\")\n",
        "  else:\n",
        "    print(\"The strings are not anagrams\")\n",
        "\n",
        "str1 = input(\"Enter first string: \")\n",
        "str2 = input(\"Enter second string: \")\n",
        "check_anagrams(str1,str2)"
      ],
      "metadata": {
        "colab": {
          "base_uri": "https://localhost:8080/"
        },
        "id": "rtUO_DQiiAkP",
        "outputId": "095eaa4d-a1f9-4731-bd01-ec6abbc30c0a"
      },
      "execution_count": 15,
      "outputs": [
        {
          "output_type": "stream",
          "name": "stdout",
          "text": [
            "Enter first string: silent\n",
            "Enter second string: listen\n",
            "['e', 'i', 'l', 'n', 's', 't']\n",
            "['e', 'i', 'l', 'n', 's', 't']\n",
            "The strings are anagrams\n"
          ]
        }
      ]
    },
    {
      "cell_type": "code",
      "source": [
        "def check_anagrams(str1,str2):\n",
        "  if (sorted(str1) == sorted(str2)):\n",
        "\n",
        "    print(\"The strings are anagrams\")\n",
        "  else:\n",
        "    print(\"The strings are not anagrams\")\n",
        "\n",
        "str1 = input(\"Enter first string: \")\n",
        "str2 = input(\"Enter second string: \")\n",
        "check_anagrams(str1,str2)"
      ],
      "metadata": {
        "colab": {
          "base_uri": "https://localhost:8080/"
        },
        "id": "UAXEXCpgiAhF",
        "outputId": "277b485c-ad1d-452b-9fb5-a105219cae7b"
      },
      "execution_count": 4,
      "outputs": [
        {
          "output_type": "stream",
          "name": "stdout",
          "text": [
            "Enter first string: bad\n",
            "Enter second string: dad\n",
            "The strings are not anagrams\n"
          ]
        }
      ]
    },
    {
      "cell_type": "code",
      "source": [
        "def anagrams(s1,s2):\n",
        " return sorted(s1) == sorted(s2)\n",
        "\n",
        "print(anagrams(\"listen\",\"silent\"))"
      ],
      "metadata": {
        "colab": {
          "base_uri": "https://localhost:8080/"
        },
        "id": "-WynOOXkOTo5",
        "outputId": "bb22f09f-aa22-45ef-ce32-6c91127f40a3"
      },
      "execution_count": 20,
      "outputs": [
        {
          "output_type": "stream",
          "name": "stdout",
          "text": [
            "True\n"
          ]
        }
      ]
    },
    {
      "cell_type": "markdown",
      "source": [
        "***Counting Character Frequencies in a String***"
      ],
      "metadata": {
        "id": "4XRRSMVW5Eir"
      }
    },
    {
      "cell_type": "code",
      "source": [
        "s = 'mississippi'\n",
        "freq = {}\n",
        "for char in s:\n",
        "  if char not in freq:\n",
        "    freq[char] = 1\n",
        "  else:\n",
        "    freq[char] += 1\n",
        "print(freq)"
      ],
      "metadata": {
        "colab": {
          "base_uri": "https://localhost:8080/"
        },
        "id": "rG8788gEiAeD",
        "outputId": "5bd57b87-0ba7-486f-e0da-d8aa2724a23f"
      },
      "execution_count": 17,
      "outputs": [
        {
          "output_type": "stream",
          "name": "stdout",
          "text": [
            "{'m': 1, 'i': 4, 's': 4, 'p': 2}\n"
          ]
        }
      ]
    },
    {
      "cell_type": "code",
      "source": [
        "s = 'mississippi'\n",
        "freq = {} #empty dictionary to store freq count\n",
        "for char in s:\n",
        "  if char not in freq:\n",
        "    freq[char] = 1\n",
        "  else:\n",
        "    freq[char] += 1\n",
        "print(freq)\n",
        "max_freq = max(freq.values())\n",
        "print(max_freq)\n",
        "result = {char for char, freq in freq.items()  #set comprehension\n",
        "          if freq == max_freq}\n",
        "print(result)"
      ],
      "metadata": {
        "colab": {
          "base_uri": "https://localhost:8080/"
        },
        "id": "vAsZayIliAbP",
        "outputId": "5f34f8cb-d0d4-40a4-8a75-77067397bef5"
      },
      "execution_count": 8,
      "outputs": [
        {
          "output_type": "stream",
          "name": "stdout",
          "text": [
            "{'m': 1, 'i': 4, 's': 4, 'p': 2}\n",
            "4\n",
            "{'s', 'i'}\n"
          ]
        }
      ]
    },
    {
      "cell_type": "markdown",
      "source": [
        "***Removing Duplicate Characters from a String***"
      ],
      "metadata": {
        "id": "bfaq3LbJ5OaY"
      }
    },
    {
      "cell_type": "code",
      "source": [
        "def rm_duplicates(n):\n",
        "    re = \"\"\n",
        "    for char in n:\n",
        "        if char not in re:\n",
        "            re += char\n",
        "    return re\n",
        "\n",
        "a = input(\"Enter the string: \")\n",
        "output = rm_duplicates(a)\n",
        "print(\"String after removing the duplicates:\", output)\n"
      ],
      "metadata": {
        "colab": {
          "base_uri": "https://localhost:8080/"
        },
        "id": "iVmgw66RiAYr",
        "outputId": "d82c4a31-45ac-48e4-8385-9e8666548936"
      },
      "execution_count": 22,
      "outputs": [
        {
          "output_type": "stream",
          "name": "stdout",
          "text": [
            "Enter the string: banana\n",
            "String after removing the duplicates: ban\n"
          ]
        }
      ]
    },
    {
      "cell_type": "markdown",
      "source": [
        "***Printing an Hourglass Pattern of Stars***"
      ],
      "metadata": {
        "id": "AKmejCRU5UNP"
      }
    },
    {
      "cell_type": "code",
      "source": [
        "def hourglass_pattern(n):\n",
        "  #top half\n",
        "  for i in range(n,0,-1):\n",
        "    print(\" \" * (n-i) + \"* \" * i) #prints * for each row\n",
        "\n",
        "  #bottom half\n",
        "  for i in range(2,n+1):\n",
        "    print(\" \" * (n-i) + \"* \" * i)  #prints * for each row\n",
        "\n",
        "n = int(input(\"Enter the number of rows: \"))\n",
        "hourglass_pattern(n)"
      ],
      "metadata": {
        "colab": {
          "base_uri": "https://localhost:8080/"
        },
        "id": "ZKQBSmCIiAV9",
        "outputId": "a233e6c5-b7fd-4145-ec30-acfd2b052931"
      },
      "execution_count": 25,
      "outputs": [
        {
          "output_type": "stream",
          "name": "stdout",
          "text": [
            "Enter the number of rows: 5\n",
            "* * * * * \n",
            " * * * * \n",
            "  * * * \n",
            "   * * \n",
            "    * \n",
            "   * * \n",
            "  * * * \n",
            " * * * * \n",
            "* * * * * \n"
          ]
        }
      ]
    },
    {
      "cell_type": "markdown",
      "source": [
        "***Counting Vowels and Consonants in a String:***"
      ],
      "metadata": {
        "id": "IFbXPU1o5c2g"
      }
    },
    {
      "cell_type": "code",
      "source": [
        "def count_vowels(name):\n",
        "    count = 0\n",
        "    for i in range(0, len(name)):\n",
        "        if name[i] == 'a' or name[i] == 'e' or name[i] == 'i' or name[i] == 'o' or name[i] == 'u':\n",
        "            count += 1\n",
        "    return count\n",
        "\n",
        "def consonants(name):\n",
        "    count = 0\n",
        "    for i in range(0, len(name)):\n",
        "        if name[i] not in 'aeiou':\n",
        "            count += 1\n",
        "    return count\n",
        "\n",
        "def check_v_c(name):\n",
        "    if 'a' in name or 'e' in name or 'i' in name or 'o' in name or 'u' in name:\n",
        "        c_vowels = count_vowels(name)\n",
        "        c_con = consonants(name)\n",
        "    else:\n",
        "        c_vowels = 0  # If no vowels, count as 0\n",
        "        c_con = consonants(name)\n",
        "    return (c_vowels, c_con)\n",
        "\n",
        "print(check_v_c(\"pavan\"))  # calling main function\n"
      ],
      "metadata": {
        "colab": {
          "base_uri": "https://localhost:8080/"
        },
        "id": "KeeEIFl4iAS7",
        "outputId": "de897086-bae9-43a1-ae61-053b23611551"
      },
      "execution_count": 29,
      "outputs": [
        {
          "output_type": "stream",
          "name": "stdout",
          "text": [
            "(2, 3)\n"
          ]
        }
      ]
    },
    {
      "cell_type": "markdown",
      "source": [
        "***isalnum()***"
      ],
      "metadata": {
        "id": "DUWL-L-OGy1g"
      }
    },
    {
      "cell_type": "code",
      "source": [
        "a = \"HELLO123\"\n",
        "def is_alnum(a):\n",
        "    re = True\n",
        "    for i in a:\n",
        "        ascii = ord(i)\n",
        "         # Checking if it's not a letter or number\n",
        "        if not (65 <= ascii <= 90 or 97 <= ascii <= 122 or 48 <= ascii <= 57):\n",
        "            re = False\n",
        "            break\n",
        "    return re\n",
        "\n",
        "print(is_alnum(a))\n"
      ],
      "metadata": {
        "colab": {
          "base_uri": "https://localhost:8080/"
        },
        "id": "Hv_ZxekDiAPu",
        "outputId": "f7b0cd41-a160-49c1-b6de-aa698bbfb2d1"
      },
      "execution_count": 31,
      "outputs": [
        {
          "output_type": "stream",
          "name": "stdout",
          "text": [
            "True\n"
          ]
        }
      ]
    },
    {
      "cell_type": "markdown",
      "source": [
        "***encode()***"
      ],
      "metadata": {
        "id": "spl-BUHpG3Cw"
      }
    },
    {
      "cell_type": "code",
      "source": [
        "a = \"HELLO\"\n",
        "def encode(a):\n",
        "    return a.encode(\"utf-8\")\n",
        "\n",
        "encoded_str = encode(a)\n",
        "print(encoded_str)\n"
      ],
      "metadata": {
        "colab": {
          "base_uri": "https://localhost:8080/"
        },
        "id": "Bo3tAdf6iAMO",
        "outputId": "7f80c6d6-af54-4ad5-c629-015c22279e26"
      },
      "execution_count": 1,
      "outputs": [
        {
          "output_type": "stream",
          "name": "stdout",
          "text": [
            "b'HELLO'\n"
          ]
        }
      ]
    },
    {
      "cell_type": "markdown",
      "source": [
        "***count()***"
      ],
      "metadata": {
        "id": "ohdl83GTG6sF"
      }
    },
    {
      "cell_type": "code",
      "source": [
        "a = \"Programming\"\n",
        "def count(a, char):\n",
        "    count = 0\n",
        "    for i in a:\n",
        "        if i == char:\n",
        "            count += 1\n",
        "    return count\n",
        "\n",
        "print(count(a, 'm'))\n"
      ],
      "metadata": {
        "colab": {
          "base_uri": "https://localhost:8080/"
        },
        "id": "6QIBXANxiABY",
        "outputId": "bc609fef-de02-404f-e5ae-f895bd6c681c"
      },
      "execution_count": 3,
      "outputs": [
        {
          "output_type": "stream",
          "name": "stdout",
          "text": [
            "2\n"
          ]
        }
      ]
    },
    {
      "cell_type": "markdown",
      "source": [
        "***isdecimal()***"
      ],
      "metadata": {
        "id": "rgzchGrTG-Zk"
      }
    },
    {
      "cell_type": "code",
      "source": [
        "def isdecimal(a):\n",
        "    for char in s:\n",
        "        if char < '0' or char > '9':  # Check if character is not between '0' and '9'\n",
        "            return False\n",
        "    return True\n",
        "\n",
        "s = input(\"Enter a string: \")\n",
        "if isdecimal(a):\n",
        "    print(\"The string is decimal.\")\n",
        "else:\n",
        "    print(\"The string is not decimal.\")\n"
      ],
      "metadata": {
        "colab": {
          "base_uri": "https://localhost:8080/"
        },
        "id": "w7BG4DNlE847",
        "outputId": "e1d6c9ee-6cd5-449d-b0c6-b9864c3e9341"
      },
      "execution_count": 10,
      "outputs": [
        {
          "output_type": "stream",
          "name": "stdout",
          "text": [
            "Enter a string: 12w\n",
            "The string is not decimal.\n"
          ]
        }
      ]
    },
    {
      "cell_type": "code",
      "source": [
        "def isdecimal(a):\n",
        "    for char in s:\n",
        "        if char < '0' or char > '9':  # Check if character is not between '0' and '9'\n",
        "            return False\n",
        "    return True\n",
        "\n",
        "s = input(\"Enter a string: \")\n",
        "if isdecimal(a):\n",
        "    print(\"The string is decimal.\")\n",
        "else:\n",
        "    print(\"The string is not decimal.\")"
      ],
      "metadata": {
        "colab": {
          "base_uri": "https://localhost:8080/"
        },
        "id": "yvD9IuXhFNQj",
        "outputId": "0a189332-464b-4080-aff7-4a088ca84335"
      },
      "execution_count": 11,
      "outputs": [
        {
          "output_type": "stream",
          "name": "stdout",
          "text": [
            "Enter a string: 1234\n",
            "The string is decimal.\n"
          ]
        }
      ]
    },
    {
      "cell_type": "markdown",
      "source": [
        "***swapcase()***"
      ],
      "metadata": {
        "id": "U3uzvfZQHBqb"
      }
    },
    {
      "cell_type": "code",
      "source": [
        "def swap_case(a):\n",
        "    return a.swapcase()\n",
        "\n",
        "a = input(\"Enter a string: \")\n",
        "result = swap_case(a)\n",
        "print(\"String after swapping case:\", result)\n"
      ],
      "metadata": {
        "colab": {
          "base_uri": "https://localhost:8080/"
        },
        "id": "BYywzyb3F__o",
        "outputId": "3c053059-fc5e-48a1-9677-226b87cb09a0"
      },
      "execution_count": 13,
      "outputs": [
        {
          "output_type": "stream",
          "name": "stdout",
          "text": [
            "Enter a string: hello\n",
            "String after swapping case: HELLO\n"
          ]
        }
      ]
    },
    {
      "cell_type": "code",
      "source": [
        "def swap_case(a):\n",
        "    return a.swapcase()\n",
        "\n",
        "a = input(\"Enter a string: \")\n",
        "result = swap_case(a)\n",
        "print(\"String after swapping case:\", result)"
      ],
      "metadata": {
        "colab": {
          "base_uri": "https://localhost:8080/"
        },
        "id": "efsf4UIsGaTy",
        "outputId": "4622663e-b326-431f-ebb9-57a3883f2aff"
      },
      "execution_count": 15,
      "outputs": [
        {
          "output_type": "stream",
          "name": "stdout",
          "text": [
            "Enter a string: HELLO\n",
            "String after swapping case: hello\n"
          ]
        }
      ]
    },
    {
      "cell_type": "markdown",
      "source": [
        "***isalpha()***"
      ],
      "metadata": {
        "id": "0xhA81FyLot8"
      }
    },
    {
      "cell_type": "code",
      "source": [
        "def isalpha(a):\n",
        "\n",
        "    if len(a) == 0:\n",
        "        return False\n",
        "    for char in a:\n",
        "        if not char.isalpha():\n",
        "            return False\n",
        "    return True\n",
        "print(isalpha(\"Python\"))\n",
        "print(isalpha(\"Python123\"))"
      ],
      "metadata": {
        "colab": {
          "base_uri": "https://localhost:8080/"
        },
        "id": "1etVgU5qLRHz",
        "outputId": "7de37296-0a4a-4639-e5ea-9ce72a7df2a5"
      },
      "execution_count": 18,
      "outputs": [
        {
          "output_type": "stream",
          "name": "stdout",
          "text": [
            "True\n",
            "False\n"
          ]
        }
      ]
    },
    {
      "cell_type": "code",
      "source": [
        "def remove_spaces(s):\n",
        "    res = ''\n",
        "    space_found = False\n",
        "    for char in s:\n",
        "        if ord(char) == 32:\n",
        "\n",
        "            if not space_found:\n",
        "                res += char\n",
        "                space_found = True\n",
        "        else:\n",
        "          # to add non-space char directly\n",
        "            res += char\n",
        "\n",
        "\n",
        "            space_found = False\n",
        "    return res.strip()# Remove spaces if found\n",
        "\n",
        "a = \"python is     cool\"\n",
        "output = remove_spaces(a)\n",
        "print(output)"
      ],
      "metadata": {
        "colab": {
          "base_uri": "https://localhost:8080/"
        },
        "id": "PPV0CurSVlpD",
        "outputId": "e9dc4157-7bda-4f63-fac1-b3fe8bb6c3e2"
      },
      "execution_count": 8,
      "outputs": [
        {
          "output_type": "stream",
          "name": "stdout",
          "text": [
            "python is cool\n"
          ]
        }
      ]
    },
    {
      "cell_type": "code",
      "source": [
        "def remove_spaces(a):\n",
        "    result = \"\"\n",
        "\n",
        "    for char in a:\n",
        "        if not (result and ord(result[-1]) == 32 and ord(char) == 32):\n",
        "            result += char\n",
        "    return result.strip()\n",
        "\n",
        "a = \"    Python      is        Cool\"\n",
        "print(remove_spaces(a))"
      ],
      "metadata": {
        "colab": {
          "base_uri": "https://localhost:8080/"
        },
        "id": "a3Y1NeQhznPU",
        "outputId": "384573be-40b6-4e16-e048-ba4285c676ea"
      },
      "execution_count": 7,
      "outputs": [
        {
          "output_type": "stream",
          "name": "stdout",
          "text": [
            "Python is Cool\n"
          ]
        }
      ]
    }
  ]
}