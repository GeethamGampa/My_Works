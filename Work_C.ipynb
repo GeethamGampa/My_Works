{
  "nbformat": 4,
  "nbformat_minor": 0,
  "metadata": {
    "colab": {
      "provenance": [],
      "authorship_tag": "ABX9TyOrppWhIgtPRjfotixN5HMm",
      "include_colab_link": true
    },
    "kernelspec": {
      "name": "python3",
      "display_name": "Python 3"
    },
    "language_info": {
      "name": "python"
    }
  },
  "cells": [
    {
      "cell_type": "markdown",
      "metadata": {
        "id": "view-in-github",
        "colab_type": "text"
      },
      "source": [
        "<a href=\"https://colab.research.google.com/github/GeethamGampa/My_Works/blob/main/Work_C.ipynb\" target=\"_parent\"><img src=\"https://colab.research.google.com/assets/colab-badge.svg\" alt=\"Open In Colab\"/></a>"
      ]
    },
    {
      "cell_type": "markdown",
      "source": [
        "***partition():***"
      ],
      "metadata": {
        "id": "rbryKX3eX74r"
      }
    },
    {
      "cell_type": "code",
      "execution_count": null,
      "metadata": {
        "id": "NmhYAU_XOqOp"
      },
      "outputs": [],
      "source": [
        "def par(string, sepe):\n",
        "    length_sep = len(sepe)\n",
        "    index = string.find(sepe)\n",
        "    after_sep_index = index + length_sep\n",
        "\n",
        "\n",
        "    before_sep = string[0:index]\n",
        "    sep = string[index:len(sep)]\n",
        "    after_sep = string[after_sep_index:]\n",
        "\n",
        "    result = (before_sep, sep, after_sep)\n",
        "\n",
        "    return result"
      ]
    },
    {
      "cell_type": "markdown",
      "source": [
        "***Remove spaces between words and make it single spaced***\n",
        "\n",
        "***Steps breakdown:***\n",
        "*1. Iterate Over Each Character*\n",
        "\n",
        "*2. Check for Consecutive Spaces*"
      ],
      "metadata": {
        "id": "lI8LUTijYBTQ"
      }
    },
    {
      "cell_type": "code",
      "source": [
        "def remove_spaces(a):\n",
        "    result = \"\"\n",
        "\n",
        "    for char in a:\n",
        "\n",
        "        # Check if the last stored character and the current character are both spaces\n",
        "        # If both conditions are True, it skips adding the current space.\n",
        "        # result ensures we're not checking an empty string for consecutive spaces.\n",
        "        if not (result and ord(result[-1]) == 32 and ord(char) == 32):\n",
        "\n",
        "            result += char\n",
        "    return result.strip()\n",
        "\n",
        "a = \"    Python      is        Cool    \"\n",
        "print(remove_spaces(a))"
      ],
      "metadata": {
        "colab": {
          "base_uri": "https://localhost:8080/"
        },
        "id": "eRPGgwbrSkLh",
        "outputId": "f15c479d-2691-4596-e155-e25ad7994fc7"
      },
      "execution_count": 3,
      "outputs": [
        {
          "output_type": "stream",
          "name": "stdout",
          "text": [
            "Python is Cool\n"
          ]
        }
      ]
    },
    {
      "cell_type": "markdown",
      "source": [
        "***Print only the integers from the sentence : There are 24 apples and 12 oranges using ascii***\n",
        "\n",
        "***Steps breakdown:***\n",
        "*1. Check if the Character is a Digit Using ASCII Values*\n",
        "\n",
        "*2. If a Non-Digit Character is Found, Print and Reset*"
      ],
      "metadata": {
        "id": "zTKrdBFB05zf"
      }
    },
    {
      "cell_type": "code",
      "source": [
        "\n",
        "sentence = \"There are 24 apples and 12 oranges\"\n",
        "\n",
        "\n",
        "num = \"\"\n",
        "\n",
        "\n",
        "for char in sentence:\n",
        "    if char.isdigit():  # Check if the character is a digit (0-9)\n",
        "        num += char  # Append the digit to the num string\n",
        "    else:\n",
        "        if num:  # If num is not empty (i.e., a number was being formed)\n",
        "            print(num)  # Print the number found\n",
        "            num = \"\"  # Reset num to start collecting the next number\n",
        "\n",
        "# After the loop, check if there's a remaining number to print\n",
        "if num:\n",
        "    print(num)\n"
      ],
      "metadata": {
        "colab": {
          "base_uri": "https://localhost:8080/"
        },
        "id": "HOo9sOxuZiur",
        "outputId": "84624bd7-9cfb-4984-edf0-1a17e53272b5"
      },
      "execution_count": null,
      "outputs": [
        {
          "output_type": "stream",
          "name": "stdout",
          "text": [
            "24\n",
            "12\n"
          ]
        }
      ]
    },
    {
      "cell_type": "code",
      "source": [
        "\n",
        "sentence = \"There are 24 apples and 12 oranges\"\n",
        "\n",
        "\n",
        "num = \"\"\n",
        "\n",
        "\n",
        "for char in sentence:\n",
        "\n",
        "    # Check if the character is a digit using ASCII values\n",
        "    # '0' to '9' have ASCII values from 48 to 57\n",
        "    if 48 <= ord(char) <= 57:\n",
        "        num += char  # Append the digit to the num string\n",
        "    else:\n",
        "        if num:  # If num is not empty (i.e., a number was being formed)\n",
        "            print(num)  # Print the number found\n",
        "            num = \"\"  # Reset num to start collecting the next number\n",
        "\n",
        "# After the loop, check if there's a remaining number to print\n",
        "if num:\n",
        "    print(num)\n"
      ],
      "metadata": {
        "colab": {
          "base_uri": "https://localhost:8080/"
        },
        "id": "R2bHYekiSkH5",
        "outputId": "7cbc5a34-da6a-4291-c68d-92c33b7bb864"
      },
      "execution_count": 5,
      "outputs": [
        {
          "output_type": "stream",
          "name": "stdout",
          "text": [
            "24\n",
            "12\n"
          ]
        }
      ]
    },
    {
      "cell_type": "markdown",
      "source": [
        "***Check whether the email is 'Valid' or 'Invalid'***"
      ],
      "metadata": {
        "id": "jwSxIv7zcW4K"
      }
    },
    {
      "cell_type": "code",
      "source": [
        "\n",
        "def valid_email(email):\n",
        "    # Checks if the email contains '@' and ends with '.com'\n",
        "    return \"@\" in email and email.endswith(\".com\")\n",
        "\n",
        "# Taking user input for an email\n",
        "email = input(\"Enter an email: \")\n",
        "\n",
        "# Checking if the email is valid and printing the result\n",
        "if valid_email(email):\n",
        "    print(email, \"Valid\")  # If valid, print \"Valid\"\n",
        "else:\n",
        "    print(email, \"Invalid\")  # If not valid, print \"Invalid\"\n"
      ],
      "metadata": {
        "colab": {
          "base_uri": "https://localhost:8080/"
        },
        "id": "OxBmlPBkSkAt",
        "outputId": "858a9c2b-0791-473e-84ac-0ad51d4624ab"
      },
      "execution_count": null,
      "outputs": [
        {
          "output_type": "stream",
          "name": "stdout",
          "text": [
            "Enter an email: geetha@gmail.com\n",
            "geetha@gmail.com Valid\n"
          ]
        }
      ]
    },
    {
      "cell_type": "code",
      "source": [
        "def valid_email(email):\n",
        "    return \"@\" in email and email.endswith(\".com\")\n",
        "\n",
        "\n",
        "email = input(\"Enter an email: \")\n",
        "\n",
        "if valid_email(email):\n",
        "    print(email, \"Valid\")\n",
        "else:\n",
        "    print(email, \"Invalid\")\n"
      ],
      "metadata": {
        "colab": {
          "base_uri": "https://localhost:8080/"
        },
        "id": "rlL8wNWvSj9i",
        "outputId": "b24e848a-4fc2-4a2e-8d16-bd14cb0783f2"
      },
      "execution_count": null,
      "outputs": [
        {
          "output_type": "stream",
          "name": "stdout",
          "text": [
            "Enter an email: geetha.com\n",
            "geetha.com Invalid\n"
          ]
        }
      ]
    },
    {
      "cell_type": "markdown",
      "source": [
        "***input:\"test@example.com\" - 1check- .com, 2nd check- @***\n",
        "***output:check if it is an email or not***\n",
        "\n",
        "***Steps breakdown:***\n",
        "*1. Check if the email contains '@'*\n",
        "\n",
        "*2. Check if the email ends with '.com'*"
      ],
      "metadata": {
        "id": "Pfikmn8EyOfK"
      }
    },
    {
      "cell_type": "code",
      "source": [
        "def valid_email(email):\n",
        "\n",
        "    # Check if the email contains '@'\n",
        "    at_symbol = False\n",
        "\n",
        "    for char in email:\n",
        "        if ord(char) == 64:  # ASCII value of '@' is 64\n",
        "            at_symbol = True\n",
        "            break\n",
        "\n",
        "    # Check if the email ends with '.com'\n",
        "    dot_com = False\n",
        "\n",
        "    # '.com' in ASCII: 46, 99, 111, 109\n",
        "    #email[-4:] to check last 4 characters (.com)\n",
        "    if email[-4:] == chr(46) + chr(99) + chr(111) + chr(109):\n",
        "        dot_com = True\n",
        "\n",
        "    # Return True only if both conditions are satisfied\n",
        "    return at_symbol and dot_com\n",
        "\n",
        "email = input(\"Enter an email: \")\n",
        "\n",
        "if valid_email(email):\n",
        "    print(email, \"Valid\")\n",
        "else:\n",
        "    print(email, \"Invalid\")\n"
      ],
      "metadata": {
        "colab": {
          "base_uri": "https://localhost:8080/"
        },
        "id": "9poGzImKyNzZ",
        "outputId": "01427667-76b6-42c0-a9e4-3d09a85568d8"
      },
      "execution_count": 2,
      "outputs": [
        {
          "output_type": "stream",
          "name": "stdout",
          "text": [
            "Enter an email: test@example.com\n",
            "test@example.com Valid\n"
          ]
        }
      ]
    },
    {
      "cell_type": "code",
      "source": [
        "def valid_email(email):\n",
        "\n",
        "    # Check if the email contains '@'\n",
        "    at_symbol = False\n",
        "    for char in email:\n",
        "        if ord(char) == 64:  # ASCII value of '@' is 64\n",
        "            at_symbol = True\n",
        "            break\n",
        "\n",
        "    # Check if the email ends with '.com'\n",
        "    dot_com = False\n",
        "\n",
        "    # '.com' in ASCII: 46, 99, 111, 109   #email[-4:] to check last 4 characters (.com)\n",
        "    if email[-4:] == chr(46) + chr(99) + chr(111) + chr(109):\n",
        "        dot_com = True\n",
        "\n",
        "    # Return True only if both conditions are satisfied\n",
        "    return at_symbol and dot_com\n",
        "\n",
        "email = input(\"Enter an email: \")\n",
        "\n",
        "if valid_email(email):\n",
        "    print(email, \"Valid\")\n",
        "else:\n",
        "    print(email, \"Invalid\")\n"
      ],
      "metadata": {
        "colab": {
          "base_uri": "https://localhost:8080/"
        },
        "id": "7nNuOtSq0bHA",
        "outputId": "765cbcbe-c0ae-4522-8607-8fe1d34117ee"
      },
      "execution_count": 3,
      "outputs": [
        {
          "output_type": "stream",
          "name": "stdout",
          "text": [
            "Enter an email: test@example\n",
            "test@example Invalid\n"
          ]
        }
      ]
    },
    {
      "cell_type": "markdown",
      "source": [
        "***Find all words starting with capital letter(captalize, ascii)***\n",
        "***input: \"Today is Good Day\"***\n",
        "***output:'Today', 'Good', 'Day'***\n",
        "\n",
        "*1) split using comma( output (Today, is, Good , Day))*\n",
        "\n",
        "*2) for loop len(split())*\n",
        "\n",
        "*3)if search*\n",
        "\n",
        "*I used a list ([]) instead of a tuple (()) because lists are mutable,* *meaning we can add words dynamically using .append().*\n",
        "*Tuples are immutable, so they cannot be changed after creation. *\n",
        "*Since we need to collect capitalized words while processing the sentence,* *I used the list.*"
      ],
      "metadata": {
        "id": "zJoAxqcdm3yp"
      }
    },
    {
      "cell_type": "code",
      "source": [
        "def find_capitals(sentence):\n",
        "    # Step 1: Split the sentence into words\n",
        "    words = sentence.split(\" \") #[\"Today\", \"is\", \"Good\", \"Day\"]\n",
        "\n",
        "    # Step 2: Initializing an empty list to store capitalized words\n",
        "    capital_words = []\n",
        "\n",
        "    # Step 3: Loop through each word\n",
        "    for i in range(len(words)): #Loops through each word in the list using its index (i)\n",
        "\n",
        "        # Step 4: Check if the first letter is a capital letter using ASCII values\n",
        "        if 'A' <= words[i][0] <= 'Z':\n",
        "\n",
        "            #If the word starts with a capital letter, it is added to the capital_words list\n",
        "            capital_words.append(words[i])\n",
        "\n",
        "    return capital_words\n",
        "\n",
        "\n",
        "sentence = \"Today is Good Day\"\n",
        "print(find_capitals(sentence))\n"
      ],
      "metadata": {
        "colab": {
          "base_uri": "https://localhost:8080/"
        },
        "id": "AQG2bqt3Sj7G",
        "outputId": "e06fc2d6-b8e9-4779-95f7-cdf6a1382874"
      },
      "execution_count": 3,
      "outputs": [
        {
          "output_type": "stream",
          "name": "stdout",
          "text": [
            "['Today', 'Good', 'Day']\n"
          ]
        }
      ]
    },
    {
      "cell_type": "code",
      "source": [
        "def find_capitals(sentence):\n",
        "    # Step 1: Split the sentence into words (creates a tuple of words)\n",
        "    words = tuple(sentence.split(\" \"))  # Example: (\"Today\", \"is\", \"Good\", \"Day\")\n",
        "\n",
        "    # Step 2: Initializing an empty tuple to store capitalized words\n",
        "    capital_words = ()\n",
        "\n",
        "    # Step 3: Loop through each word\n",
        "    for i in range(len(words)):  # Loops through each word using its index (i)\n",
        "\n",
        "        # Step 4: Check if the first letter is a capital letter using ASCII values\n",
        "        if 'A' <= words[i][0] <= 'Z': #gets the first letter of each word\n",
        "\n",
        "            # If the word starts with a capital letter, it is added to the capital_words\n",
        "            capital_words += (words[i],)  # Adding an element to a tuple\n",
        "\n",
        "    return capital_words\n",
        "\n",
        "\n",
        "sentence = \"Today is Good Day\"\n",
        "\n",
        "\n",
        "print(find_capitals(sentence))\n"
      ],
      "metadata": {
        "colab": {
          "base_uri": "https://localhost:8080/"
        },
        "id": "3oCDQBYZ1gUa",
        "outputId": "0009e84e-b9d6-46cf-933a-a41ea40cc081"
      },
      "execution_count": 6,
      "outputs": [
        {
          "output_type": "stream",
          "name": "stdout",
          "text": [
            "('Today', 'Good', 'Day')\n"
          ]
        }
      ]
    }
  ]
}