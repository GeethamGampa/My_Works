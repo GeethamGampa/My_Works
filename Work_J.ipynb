{
  "nbformat": 4,
  "nbformat_minor": 0,
  "metadata": {
    "colab": {
      "provenance": [],
      "authorship_tag": "ABX9TyM68GTgdYZMK2deJzls7ULx",
      "include_colab_link": true
    },
    "kernelspec": {
      "name": "python3",
      "display_name": "Python 3"
    },
    "language_info": {
      "name": "python"
    }
  },
  "cells": [
    {
      "cell_type": "markdown",
      "metadata": {
        "id": "view-in-github",
        "colab_type": "text"
      },
      "source": [
        "<a href=\"https://colab.research.google.com/github/GeethamGampa/My_Works/blob/main/Work_J.ipynb\" target=\"_parent\"><img src=\"https://colab.research.google.com/assets/colab-badge.svg\" alt=\"Open In Colab\"/></a>"
      ]
    },
    {
      "cell_type": "markdown",
      "source": [
        "# **TUPLE**"
      ],
      "metadata": {
        "id": "uOBF0J1-hYpQ"
      }
    },
    {
      "cell_type": "markdown",
      "source": [
        "*It is an ordered, immutable collection of elements.*\n",
        "\n",
        "- *Ordered: The items have a fixed order.*\n",
        "\n",
        "- *Immutable: Once created, you cannot change (add, remove, or modify) the items - crud operations*"
      ],
      "metadata": {
        "id": "5S-qaduShbJy"
      }
    },
    {
      "cell_type": "code",
      "execution_count": 1,
      "metadata": {
        "colab": {
          "base_uri": "https://localhost:8080/"
        },
        "id": "1hFhWWcXhFqV",
        "outputId": "515f59f1-0c87-4289-a615-888f24d987d0"
      },
      "outputs": [
        {
          "output_type": "stream",
          "name": "stdout",
          "text": [
            "2\n"
          ]
        }
      ],
      "source": [
        "my_tuple = (1,2,3)\n",
        "print(my_tuple[1])\n"
      ]
    },
    {
      "cell_type": "markdown",
      "source": [
        "# **Why do we use Tuples?**"
      ],
      "metadata": {
        "id": "tTu0X1NMh0fP"
      }
    },
    {
      "cell_type": "markdown",
      "source": [
        "- *They are faster than lists.*\n",
        "\n",
        "- *They protect data from being changed accidentally.*\n",
        "\n",
        "- *Can be used as keys in dictionaries if they contain only immutable items.*"
      ],
      "metadata": {
        "id": "EM6AqwU6h5TX"
      }
    },
    {
      "cell_type": "markdown",
      "source": [
        "# **Tuple inbuilt functions**"
      ],
      "metadata": {
        "id": "NZJVBOkLiCMW"
      }
    },
    {
      "cell_type": "markdown",
      "source": [
        "- *len()- Returns the number of elements*\n",
        "- *max()- Returns the maximum value*\n",
        "- *min()- Returns the minimum value*\n",
        "- *sum()- Returns the sum of elements*\n",
        "- *tuple()- Converts an iterable to a tuple*\n",
        "- *count(x)- Returns number of times x appears*\n",
        "- *index(x)- Returns first index of x*"
      ],
      "metadata": {
        "id": "jkrPkFVGiGZF"
      }
    },
    {
      "cell_type": "markdown",
      "source": [
        "# **Examples**"
      ],
      "metadata": {
        "id": "AZUIoFyVizvI"
      }
    },
    {
      "cell_type": "markdown",
      "source": [
        "***To access the elements***"
      ],
      "metadata": {
        "id": "XUDkFjc6kiZZ"
      }
    },
    {
      "cell_type": "code",
      "source": [
        "t = (\"apple\", \"mango\", \"strawberry\")\n",
        "print(t[0])\n",
        "print(t[-2])\n"
      ],
      "metadata": {
        "colab": {
          "base_uri": "https://localhost:8080/"
        },
        "id": "MRfXQ_kni-3s",
        "outputId": "be661982-d321-41f1-929e-f6744d0571a3"
      },
      "execution_count": 2,
      "outputs": [
        {
          "output_type": "stream",
          "name": "stdout",
          "text": [
            "apple\n",
            "mango\n"
          ]
        }
      ]
    },
    {
      "cell_type": "markdown",
      "source": [
        "***To count the number of occurrences***"
      ],
      "metadata": {
        "id": "IgnRi4zxio9e"
      }
    },
    {
      "cell_type": "code",
      "source": [
        "nums = (1, 2, 2, 3, 4, 2, 4, 5, 4, 4 )\n",
        "print(nums.count(4))\n"
      ],
      "metadata": {
        "colab": {
          "base_uri": "https://localhost:8080/"
        },
        "id": "V7M_BMN2ktS9",
        "outputId": "30951312-fab7-4929-d799-c846b3338990"
      },
      "execution_count": 4,
      "outputs": [
        {
          "output_type": "stream",
          "name": "stdout",
          "text": [
            "4\n"
          ]
        }
      ]
    },
    {
      "cell_type": "markdown",
      "source": [
        "***To find index***"
      ],
      "metadata": {
        "id": "YmNM96HTmY3Z"
      }
    },
    {
      "cell_type": "code",
      "source": [
        "names = (\"Christy\", \"Sara\", \"Charlie\")\n",
        "print(names.index(\"Sara\"))\n"
      ],
      "metadata": {
        "colab": {
          "base_uri": "https://localhost:8080/"
        },
        "id": "Egd0m89uma6Y",
        "outputId": "4fe5319a-e9fc-4277-9c17-20d177ff08a0"
      },
      "execution_count": 5,
      "outputs": [
        {
          "output_type": "stream",
          "name": "stdout",
          "text": [
            "1\n"
          ]
        }
      ]
    },
    {
      "cell_type": "markdown",
      "source": [
        "***Tuple with loop***"
      ],
      "metadata": {
        "id": "zSDt30Fomj6k"
      }
    },
    {
      "cell_type": "code",
      "source": [
        "fruits = (\"apple\", \"mango\", \"cherry\")\n",
        "for fruit in fruits:\n",
        "    print(fruit)\n"
      ],
      "metadata": {
        "colab": {
          "base_uri": "https://localhost:8080/"
        },
        "id": "LfSBDj2MmmfS",
        "outputId": "f2a49e5f-c57d-48d7-ee2e-8b6a0585dbfd"
      },
      "execution_count": 6,
      "outputs": [
        {
          "output_type": "stream",
          "name": "stdout",
          "text": [
            "apple\n",
            "mango\n",
            "cherry\n"
          ]
        }
      ]
    },
    {
      "cell_type": "markdown",
      "source": [
        "***Unpacking tuples***"
      ],
      "metadata": {
        "id": "XAWBsEIHmsK5"
      }
    },
    {
      "cell_type": "code",
      "source": [
        "person = (\"Sri\", 25, \"USA\")\n",
        "name, age, country = person\n",
        "print(\"Name : \", name)\n",
        "print(\"Age : \", age)\n",
        "print(\"Country : \", country)\n"
      ],
      "metadata": {
        "colab": {
          "base_uri": "https://localhost:8080/"
        },
        "id": "soxmS4D5muu7",
        "outputId": "7260b2b6-8df3-4427-a14e-bee8d7544b76"
      },
      "execution_count": 8,
      "outputs": [
        {
          "output_type": "stream",
          "name": "stdout",
          "text": [
            "Name :  Sri\n",
            "Age :  25\n",
            "Country :  USA\n"
          ]
        }
      ]
    },
    {
      "cell_type": "markdown",
      "source": [
        "***Sum and Average***"
      ],
      "metadata": {
        "id": "gpTdAa6FnCaH"
      }
    },
    {
      "cell_type": "code",
      "source": [
        "marks = (70, 85, 90, 60)\n",
        "total = sum(marks)\n",
        "\n",
        "# Average = total / number of items\n",
        "average = total / len(marks)\n",
        "\n",
        "print(\"Total Marks:\", total)\n",
        "print(\"Average Marks:\", average)\n"
      ],
      "metadata": {
        "colab": {
          "base_uri": "https://localhost:8080/"
        },
        "id": "giklH83WnPAn",
        "outputId": "b55a4f7f-4d3b-42eb-d924-0e49fa504724"
      },
      "execution_count": 9,
      "outputs": [
        {
          "output_type": "stream",
          "name": "stdout",
          "text": [
            "Total Marks: 305\n",
            "Average Marks: 76.25\n"
          ]
        }
      ]
    },
    {
      "cell_type": "markdown",
      "source": [
        "***Given the participants' score sheet for your University Sports Day, you are required to find the runner-up score. You are given n scores. Store them in a list and find the score of the runner-up.***"
      ],
      "metadata": {
        "id": "oyqwZex2nXJS"
      }
    },
    {
      "cell_type": "markdown",
      "source": [
        "***Steps Breakdown***\n",
        "\n",
        "> *We need to take all the scores from the user and store them in a list.*\n",
        "\n",
        "> *Remove repeated scores using a set.*\n",
        "\n",
        "> *Sort the list in descending order (highest to lowest).*\n",
        "\n",
        "> *Pick the second number in the sorted list — that's the runner-up score.*"
      ],
      "metadata": {
        "id": "uptfML6noasI"
      }
    },
    {
      "cell_type": "code",
      "source": [
        "if __name__ == '__main__':\n",
        "    n = int(input())\n",
        "    arr = list(map(int, input().split()))\n",
        "\n",
        "    # Remove duplicates by converting to a set\n",
        "    scores = list(set(arr))\n",
        "\n",
        "    # Sort in descending order\n",
        "    scores.sort(reverse=True)\n",
        "\n",
        "    # Print the second highest (runner-up)\n",
        "    print(scores[1])\n"
      ],
      "metadata": {
        "colab": {
          "base_uri": "https://localhost:8080/"
        },
        "id": "BesxaTAXnwy9",
        "outputId": "5f6778f4-6d5a-411c-b718-cfe3b24c4fad"
      },
      "execution_count": 10,
      "outputs": [
        {
          "output_type": "stream",
          "name": "stdout",
          "text": [
            "5\n",
            "2 3 6 6 5\n",
            "5\n"
          ]
        }
      ]
    },
    {
      "cell_type": "markdown",
      "source": [
        "***Given an integer, n, and  n space-separated integers as input, create a tuple, t, of those n integers. Then compute and print the result of hash(t)***"
      ],
      "metadata": {
        "id": "suXLg5nmpcvZ"
      }
    },
    {
      "cell_type": "markdown",
      "source": [
        "**Breakdown**\n",
        "\n",
        "*To solve this, we need to create a tuple from the given integers, and then compute the hash value of that tuple using Python's built-in hash() function.*\n",
        "\n"
      ],
      "metadata": {
        "id": "NnhxKtVIsOSu"
      }
    },
    {
      "cell_type": "code",
      "source": [
        "if __name__ == '__main__':\n",
        "    n = int(input())\n",
        "    integer_list = map(int, input().split())\n",
        "\n",
        "     # Convert the map object to a tuple\n",
        "    int_tuple = tuple(integer_list)\n",
        "\n",
        "    # Print the hash value of the tuple\n",
        "    print(hash(int_tuple))"
      ],
      "metadata": {
        "colab": {
          "base_uri": "https://localhost:8080/"
        },
        "id": "Wwf7knbxs3B8",
        "outputId": "5fbe8d7d-99ef-4175-ecd3-7b60f75ca2b7"
      },
      "execution_count": 15,
      "outputs": [
        {
          "output_type": "stream",
          "name": "stdout",
          "text": [
            "2\n",
            "1 2\n",
            "-3550055125485641917\n"
          ]
        }
      ]
    },
    {
      "cell_type": "markdown",
      "source": [
        "# **SUDOKU**"
      ],
      "metadata": {
        "id": "IcbMwsaSzoUi"
      }
    },
    {
      "cell_type": "code",
      "source": [
        "\n",
        "#    0 1 2 3\n",
        "#0 #1 0 0 4\n",
        "#1 #0 0 3 0\n",
        "#2 #0 3 0 0\n",
        "#3 #4 0 0 2\n",
        "\n",
        "#       row column\n",
        "#        ^  ^\n",
        "#        |  |\n",
        "# sudoko[0][0]=1, sudoko[0][1]=0, sudoko[0][2]=0, sudoko[0][3]=4\n",
        "# sudoko[1][0]=0, sudoko[1][1]=0, sudoko[1][2]=3, sudoko[1][3]=0\n",
        "# sudoko[2][0]=0, sudoko[2][1]=3, sudoko[2][2]=0, sudoko[2][3]=0\n",
        "# sudoko[3][0]=4, sudoko[3][1]=0, sudoko[3][2]=0, sudoko[3][3]=2\n",
        "\n",
        "sudoko = [[1,0,0,4],\n",
        "          [0,0,3,0],\n",
        "          [0,3,0,0],\n",
        "          [4,0,0,2]]\n",
        "\n",
        "def is_valid(board, row, col, num):\n",
        "  for i in range(0,4):\n",
        "    if board[row][i]==num or board[i][col]==num:\n",
        "      return False\n",
        "  start_row, start_col = 2 *(row//2), 2*(col//2)\n",
        "  for i in range(start_row, start_row+2):\n",
        "    for j in range(start_col, start_col+2):\n",
        "      if board[i][j]==num:\n",
        "         return False\n",
        "\n",
        "  return True\n",
        "\n",
        "def solve_sudoko(board):\n",
        "  for row in range(0,4):\n",
        "    for col in range(0,4):\n",
        "      if board[row][col]==0:\n",
        "        for num in range(1,5): #need 4 numbers(1,2,3,4)\n",
        "          if is_valid(board, row, col, num):\n",
        "            board[row][col]=num\n",
        "\n",
        "            if solve_sudoko(board): #backtracking\n",
        "             return True\n",
        "          else:\n",
        "            board[row][col]=0\n",
        "        return False\n",
        "  return True\n",
        "\n",
        "# def print_board(board):\n",
        "#   for row in board:\n",
        "#     print(\" \".join(str(num) for num in row))\n",
        "\n",
        "def print_board(board):\n",
        "  for row in board:\n",
        "    print(row)\n",
        "\n",
        "if solve_sudoko(sudoko)==True:\n",
        "  print(\"Solution\")\n",
        "  print_board(sudoko)\n",
        "else:\n",
        "  print(\"No solution\")"
      ],
      "metadata": {
        "colab": {
          "base_uri": "https://localhost:8080/"
        },
        "id": "-p8P0HLHNhFi",
        "outputId": "2ed55e30-69f6-439a-ce11-1e85b96aebc1"
      },
      "execution_count": 15,
      "outputs": [
        {
          "output_type": "stream",
          "name": "stdout",
          "text": [
            "No solution\n"
          ]
        }
      ]
    },
    {
      "cell_type": "code",
      "source": [
        "def is_valid(board, row, col, num):\n",
        "    # Check if the number is not repeated in the row\n",
        "    for i in range(4):\n",
        "        if board[row][i] == num:\n",
        "            return False\n",
        "\n",
        "    # Check if the number is not repeated in the column\n",
        "    for i in range(4):\n",
        "        if board[i][col] == num:\n",
        "            return False\n",
        "\n",
        "    # Check if the number is not repeated in the 2x2 subgrid\n",
        "    start_row, start_col = 2 * (row // 2), 2 * (col // 2)\n",
        "    for i in range(start_row, start_row + 2):\n",
        "        for j in range(start_col, start_col + 2):\n",
        "            if board[i][j] == num:\n",
        "                return False\n",
        "\n",
        "    return True\n",
        "\n",
        "def solve_sudoku(board):\n",
        "    for row in range(4):\n",
        "        for col in range(4):\n",
        "            if board[row][col] == 0:  # Find an empty cell\n",
        "                for num in range(1, 5):  # Try numbers 1 to 4\n",
        "                    if is_valid(board, row, col, num):\n",
        "                        board[row][col] = num\n",
        "                        if solve_sudoku(board):\n",
        "                            return True\n",
        "                        board[row][col] = 0  # Backtrack\n",
        "                return False\n",
        "    return True\n",
        "\n",
        "def print_board(board):\n",
        "    for row in board:\n",
        "        print(row)\n",
        "\n",
        "\n",
        "# Given Sudoku puzzle\n",
        "sudoku = [\n",
        "    [1, 0, 0, 4],\n",
        "    [0, 0, 1, 0],\n",
        "    [3, 0, 0, 0],\n",
        "    [4, 0, 0, 1]\n",
        "]\n",
        "\n",
        "if solve_sudoku(sudoku):\n",
        "    print(\"Solution:\")\n",
        "    print_board(sudoku)\n",
        "else:\n",
        "    print(\"No solution\")\n"
      ],
      "metadata": {
        "colab": {
          "base_uri": "https://localhost:8080/"
        },
        "id": "0GXqPTHAQ95n",
        "outputId": "5049be6c-9962-4417-b029-4293ad119f4c"
      },
      "execution_count": 12,
      "outputs": [
        {
          "output_type": "stream",
          "name": "stdout",
          "text": [
            "Solution:\n",
            "[1, 3, 2, 4]\n",
            "[2, 4, 1, 3]\n",
            "[3, 1, 4, 2]\n",
            "[4, 2, 3, 1]\n"
          ]
        }
      ]
    },
    {
      "cell_type": "code",
      "source": [
        "import time\n",
        "start_time = time.time()\n",
        "def is_valid(board, row, col, num):\n",
        "\n",
        "   # Check if placing 'num' in board[row][col] is valid.\n",
        "\n",
        "    # Check if 'num' is already in the same row\n",
        "    for i in range(4):\n",
        "        if board[row][i] == num:\n",
        "            return False  # 'num' found in the row, not valid\n",
        "\n",
        "    # Check if 'num' is already in the same column\n",
        "    for i in range(4):\n",
        "        if board[i][col] == num:\n",
        "            return False  # 'num' found in the column, not valid\n",
        "\n",
        "    # Determine the starting row and column of the 2x2 subgrid\n",
        "    start_row = (row // 2) * 2\n",
        "    start_col = (col // 2) * 2\n",
        "\n",
        "    # Check if 'num' is already in the 2x2 subgrid\n",
        "    for i in range(start_row, start_row + 2):\n",
        "        for j in range(start_col, start_col + 2):\n",
        "            if board[i][j] == num:\n",
        "                return False  # 'num' found in the subgrid, not valid\n",
        "\n",
        "    return True  # 'num' is valid in this position\n",
        "\n",
        "def solve_sudoku(board):\n",
        "\n",
        "    # Solve the Sudoku puzzle using backtracking.\n",
        "\n",
        "\n",
        "    # Loop through each cell in the 4x4 board\n",
        "    # for row in range(4):\n",
        "    #     for col in range(4):\n",
        " def solve_sudoko(board, row = 0, col = 0):\n",
        "    if row == 4:\n",
        "        return True\n",
        "    if col == 4:\n",
        "        return solve_sudoko(board, row+1, 0)\n",
        "\n",
        "    if board[row][col] != 0:\n",
        "        return solve_sudoko(board, row, col+1)\n",
        "\n",
        "    for num in range(1,5):\n",
        "        if is_valid(board, row, col, num) == True:\n",
        "            board[row][col] = num\n",
        "            if solve_sudoko(board, row, col+1):\n",
        "                        return True\n",
        "            board[row][col] = 0\n",
        "    return False\n",
        "\n",
        "# start_time = time.time()\n",
        "def print_board(board):\n",
        "\n",
        "    # Print the Sudoku board in a readable format.\n",
        "\n",
        "    for row in board:\n",
        "        print(*row)\n",
        "    # for row in board:\n",
        "    #     print(\" \".join(str(num) for num in row))\n",
        "\n",
        "# Sample Sudoku puzzle\n",
        "sudoku = [\n",
        "    [1, 0, 0, 4],\n",
        "    [0, 0, 1, 0],\n",
        "    [3, 0, 0, 0],\n",
        "    [4, 0, 0, 1]\n",
        "]\n",
        "\n",
        "# Attempt to solve the Sudoku puzzle\n",
        "if solve_sudoku(sudoku):\n",
        "    print(\"Solution:\")\n",
        "    print_board(sudoku)  # Print the solved board\n",
        "else:\n",
        "    print(\"No solution\")  # No solution exists for this puzzle\n",
        "end_time = time.time()\n",
        "print(end_time - start_time)"
      ],
      "metadata": {
        "colab": {
          "base_uri": "https://localhost:8080/"
        },
        "id": "G2nqDeCnRsE_",
        "outputId": "2baa33ab-d41f-4f35-fb16-8e35f4c2dd7d"
      },
      "execution_count": 4,
      "outputs": [
        {
          "output_type": "stream",
          "name": "stdout",
          "text": [
            "No solution\n",
            "0.0006794929504394531\n"
          ]
        }
      ]
    },
    {
      "cell_type": "code",
      "source": [
        "import time\n",
        "start_time = time.time()\n",
        "i = 0\n",
        "while i < 10:\n",
        "    print(i)\n",
        "    i+=1\n",
        "end_time = time.time()\n",
        "print(end_time - start_time)"
      ],
      "metadata": {
        "colab": {
          "base_uri": "https://localhost:8080/"
        },
        "id": "RnAdRAsQ3DBE",
        "outputId": "78bb9f5b-a45c-4e17-d7fd-ddde4db33f53"
      },
      "execution_count": 33,
      "outputs": [
        {
          "output_type": "stream",
          "name": "stdout",
          "text": [
            "0\n",
            "1\n",
            "2\n",
            "3\n",
            "4\n",
            "5\n",
            "6\n",
            "7\n",
            "8\n",
            "9\n",
            "0.00048732757568359375\n"
          ]
        }
      ]
    },
    {
      "cell_type": "code",
      "source": [
        "start_time = time.time()\n",
        "for i in range(0,10):\n",
        "    print(i)\n",
        "end_time = time.time()\n",
        "print(end_time - start_time)"
      ],
      "metadata": {
        "colab": {
          "base_uri": "https://localhost:8080/"
        },
        "id": "XXLxcVde5Mvx",
        "outputId": "6db5b9a7-c56c-4618-b832-94e66eec86f3"
      },
      "execution_count": 34,
      "outputs": [
        {
          "output_type": "stream",
          "name": "stdout",
          "text": [
            "0\n",
            "1\n",
            "2\n",
            "3\n",
            "4\n",
            "5\n",
            "6\n",
            "7\n",
            "8\n",
            "9\n",
            "0.0002582073211669922\n"
          ]
        }
      ]
    },
    {
      "cell_type": "markdown",
      "source": [
        "[1, 0, 0],\n",
        "\n",
        "[0, 2, 0],\n",
        "\n",
        "[0, 0, 3]\n",
        "\n",
        "> *Try a number in an empty cell.*\n",
        "\n",
        "> *If it's valid, move to the next cell.*\n",
        "\n",
        "> *If no number works, go back and try another number in the previous cell.*\n",
        "\n",
        "> *Repeat until the full matrix is solved.*\n"
      ],
      "metadata": {
        "id": "fWgeRSMFeKWw"
      }
    },
    {
      "cell_type": "code",
      "source": [
        "   #   0  1  2\n",
        "   #0 [1, 0, 0],\n",
        "   #1 [0, 2, 0],\n",
        "   #2 [0, 0, 3]\n",
        "\n",
        "# Initial 3x3 Sudoku board where 0 -> an empty cell\n",
        "board = [\n",
        "    [1, 0, 0],\n",
        "    [0, 2, 0],\n",
        "    [0, 0, 3]\n",
        "]\n",
        "\n",
        "# Function to check if placing 'num' at board[row][col] is valid\n",
        "def is_valid(board, row, col, num):\n",
        "\n",
        "    # The loop goes through the columns and rows to check if the number\n",
        "    # we trying to place already exists in the current row or column.\n",
        "    for i in range(3):\n",
        "\n",
        "        # To check whether the number I want to place already in the same row or column?\n",
        "        # For eg: i = 0:\n",
        "        # board[0][0] == 2? → 1 == 2 -> No - can be placed\n",
        "        # board[0][0] == 2? → 1 == 2 -> No - can be placed\n",
        "\n",
        "        #i = 1:\n",
        "        # board[0][1] == 2? → 0 == 2 -> No - can be placed\n",
        "        # board[1][0] == 2? → 0 == 2 -> No - can be placed\n",
        "\n",
        "        # i = 2:\n",
        "        # board[0][2] == 2? → 0 == 2 -> No - can be placed\n",
        "        # board[2][0] == 2? → 0 == 2 -> No - can be placed\n",
        "\n",
        "        # we’re not checking whether the cell is empty\n",
        "        # we're checking whether the number we're trying to insert (2) is\n",
        "        # already present in that row or column\n",
        "\n",
        "        if board[row][i] == num or board[i][col] == num:\n",
        "            # If the number we're trying to place is already present\n",
        "            # in either the row or the column, the function returns False\n",
        "            # will try a different number\n",
        "            return False  # Not valid if found\n",
        "\n",
        "    # does not actually place the number; it simply indicates that the number can be placed\n",
        "    return True  # Valid if not found in row or column\n",
        "\n",
        "\n",
        "# Recursive function that solves the board using backtracking\n",
        "def solve_sudoku(board):\n",
        "    for row in range(3):             # Go through all rows\n",
        "        for col in range(3):         # Go through all columns\n",
        "            if board[row][col] == 0:  # If the cell is empty\n",
        "                for num in range(1, 4):  # Try numbers 1 to 3\n",
        "\n",
        "                    if is_valid(board, row, col, num):  # Check if number is valid\n",
        "                        board[row][col] = num  # Place the number\n",
        "\n",
        "                        if solve_sudoku(board):  # Recursively solve the rest of the board\n",
        "                            return True  # If it leads to a solution, return True\n",
        "\n",
        "                        # if the current empty cell can't be filled with any valid number (1, 2, or 3), then:\n",
        "                        # go back to the previous cell we filled, and try a different number there.\n",
        "                        # To do that, we reset that previous cell to 0,\n",
        "\n",
        "                        board[row][col] = 0  # Backtrack if it doesn't lead to solution\n",
        "\n",
        "                return False  # No number is valid for this cell, trigger backtracking\n",
        "    return True  # All cells filled successfully\n",
        "\n",
        "# Function to print the board\n",
        "def print_board(board):\n",
        "    for row in board:\n",
        "        print(*row)  # Unpacks the row and prints it\n",
        "\n",
        "# Try to solve the board and print the solution\n",
        "if solve_sudoku(board):\n",
        "    print(\"Solution:\")\n",
        "    print_board(board)\n",
        "else:\n",
        "    print(\"No solution\")\n"
      ],
      "metadata": {
        "colab": {
          "base_uri": "https://localhost:8080/"
        },
        "id": "mgAJt5zMQ5kM",
        "outputId": "0561e493-b34b-45fd-c29b-a3df51574b7d"
      },
      "execution_count": 5,
      "outputs": [
        {
          "output_type": "stream",
          "name": "stdout",
          "text": [
            "Solution:\n",
            "1 3 2\n",
            "3 2 1\n",
            "2 1 3\n"
          ]
        }
      ]
    },
    {
      "cell_type": "code",
      "source": [
        "import time\n",
        "\n",
        "# Initial 3x3 Sudoku board where 0 -> an empty cell\n",
        "board = [\n",
        "    [1, 0, 0],\n",
        "    [0, 2, 0],\n",
        "    [0, 0, 3]\n",
        "]\n",
        "\n",
        "# Function to check if placing 'num' at board[row][col] is valid\n",
        "def is_valid(board, row, col, num):\n",
        "    # Loop through rows and columns to check if 'num' is already present\n",
        "\n",
        "    # Time complexity like O(3) tells how many times the loop runs\n",
        "    for i in range(3):  # Checking 3 cells in row and column (O(3))\n",
        "        if board[row][i] == num or board[i][col] == num:\n",
        "            return False  # Not valid if found in row or column\n",
        "    return True  # Valid if 'num' is not found\n",
        "\n",
        "# Recursive function to solve the Sudoku board using backtracking\n",
        "def solve_sudoku(board):\n",
        "    for row in range(3):  # O(3) - iterating through rows\n",
        "        for col in range(3):  # O(3) - iterating through columns\n",
        "            if board[row][col] == 0:  # Check if the cell is empty\n",
        "                for num in range(1, 4):  # Try numbers 1 to 3 (O(3))\n",
        "                    if is_valid(board, row, col, num):  # O(3) - check validity\n",
        "                        board[row][col] = num  # Place number\n",
        "                        if solve_sudoku(board):  # Recursively solve the rest (recursive call)\n",
        "                            return True  # If solution is found, return True\n",
        "                        board[row][col] = 0  # Backtrack if no solution found\n",
        "                return False  # No valid number found, trigger backtracking\n",
        "    return True  # All cells filled successfully\n",
        "\n",
        "# Function to print the board\n",
        "def print_board(board):\n",
        "    for row in board:\n",
        "        print(*row)  # Print each row\n",
        "\n",
        "# Measure time taken to solve the puzzle\n",
        "start_time = time.time()\n",
        "\n",
        "# solve the board and print the solution\n",
        "if solve_sudoku(board):\n",
        "    print(\"Solution:\")\n",
        "    print_board(board)\n",
        "else:\n",
        "    print(\"No solution\")\n",
        "\n",
        "# Measure the end time and calculate the execution time\n",
        "end_time = time.time()\n",
        "print(\"Time taken to solve the Sudoku:\", end_time - start_time)\n"
      ],
      "metadata": {
        "colab": {
          "base_uri": "https://localhost:8080/"
        },
        "id": "7_tgMA3Adgy4",
        "outputId": "ec44dec0-5610-4def-ffa3-4ee88a84ab42"
      },
      "execution_count": 6,
      "outputs": [
        {
          "output_type": "stream",
          "name": "stdout",
          "text": [
            "Solution:\n",
            "1 3 2\n",
            "3 2 1\n",
            "2 1 3\n",
            "Time taken to solve the Sudoku: 0.0005853176116943359\n"
          ]
        }
      ]
    },
    {
      "cell_type": "code",
      "source": [
        "import time\n",
        "\n",
        "# Sample 9x9 Sudoku board (0 means empty cell)\n",
        "board = [\n",
        "    [5, 3, 0, 0, 7, 0, 0, 0, 0],\n",
        "    [6, 0, 0, 1, 9, 5, 0, 0, 0],\n",
        "    [0, 9, 8, 0, 0, 0, 0, 6, 0],\n",
        "\n",
        "    [8, 0, 0, 0, 6, 0, 0, 0, 3],\n",
        "    [4, 0, 0, 8, 0, 3, 0, 0, 1],\n",
        "    [7, 0, 0, 0, 2, 0, 0, 0, 6],\n",
        "\n",
        "    [0, 6, 0, 0, 0, 0, 2, 8, 0],\n",
        "    [0, 0, 0, 4, 1, 9, 0, 0, 5],\n",
        "    [0, 0, 0, 0, 8, 0, 0, 7, 9]\n",
        "]\n",
        "\n",
        "# Function to check if placing 'num' at board[row][col] is valid\n",
        "def is_valid(board, row, col, num):\n",
        "\n",
        "    # Check if 'num' is already in the current row or column\n",
        "    for i in range(9):\n",
        "        if board[row][i] == num or board[i][col] == num:\n",
        "            return False  # Not valid if number already exists in row or column\n",
        "\n",
        "    # In a 9x9 Sudoku, the grid is divided into 3x3 blocks\n",
        "    # So, we get the block's starting row and column like this:\n",
        "    start_row = (row // 3) * 3\n",
        "    start_col = (col // 3) * 3\n",
        "\n",
        "    # Check all cells in the 3x3 subgrid\n",
        "    # For eg:  we're checking cell at row = 4, col = 5\n",
        "    # start_row = (4 // 3) * 3 = 1 * 3 = 3\n",
        "    # start_col = (5 // 3) * 3 = 1 * 3 = 3\n",
        "    # This means we are in the subgrid that starts at cell (3, 3)\n",
        "\n",
        "    # for i in range(3, 6):  # rows 3, 4, 5\n",
        "    # for j in range(3, 6):  # cols 3, 4, 5\n",
        "\n",
        "    # (3,3) (3,4) (3,5)\n",
        "    # (4,3) (4,4) (4,5)\n",
        "    # (5,3) (5,4) (5,5)\n",
        "\n",
        "    # any of these cells already has the same num, it returns False\n",
        "\n",
        "\n",
        "    for i in range(start_row, start_row + 3):\n",
        "        for j in range(start_col, start_col + 3):\n",
        "            if board[i][j] == num:\n",
        "                return False  # Not valid if number already exists in the block\n",
        "\n",
        "    return True  # All checks passed, it's valid\n",
        "\n",
        "# Function to solve the Sudoku using backtracking\n",
        "def solve_sudoku(board):\n",
        "    for row in range(9):\n",
        "        for col in range(9):\n",
        "            if board[row][col] == 0:  # Look for an empty cell\n",
        "                for num in range(1, 10):  # Try numbers 1 to 9\n",
        "                    if is_valid(board, row, col, num):  # Check if it's safe to place the number\n",
        "                        board[row][col] = num  # Place number\n",
        "                        if solve_sudoku(board):  # Recursive call to solve the rest\n",
        "                            return True\n",
        "                        board[row][col] = 0  # Backtrack if no solution\n",
        "                return False  # No valid number found, trigger backtracking\n",
        "    return True  # Puzzle solved successfully\n",
        "\n",
        "# Function to print the Sudoku board\n",
        "def print_board(board):\n",
        "    for row in board:\n",
        "        print(*row)  # Print each row\n",
        "\n",
        "# Measure time taken to solve the puzzle\n",
        "start_time = time.time()\n",
        "\n",
        "# Solve and print solution\n",
        "if solve_sudoku(board):\n",
        "    print(\"Solution:\")\n",
        "    print_board(board)\n",
        "else:\n",
        "    print(\"No solution\")\n",
        "\n",
        "# Show time taken to solve\n",
        "end_time = time.time()\n",
        "print(\"Time taken to solve the Sudoku:\", end_time - start_time)\n"
      ],
      "metadata": {
        "colab": {
          "base_uri": "https://localhost:8080/"
        },
        "id": "Xp5C1rUknUdd",
        "outputId": "298e4a7c-9bd7-4934-baa9-a3181f89fcdd"
      },
      "execution_count": 11,
      "outputs": [
        {
          "output_type": "stream",
          "name": "stdout",
          "text": [
            "Solution:\n",
            "5 3 4 6 7 8 9 1 2\n",
            "6 7 2 1 9 5 3 4 8\n",
            "1 9 8 3 4 2 5 6 7\n",
            "8 5 9 7 6 1 4 2 3\n",
            "4 2 6 8 5 3 7 9 1\n",
            "7 1 3 9 2 4 8 5 6\n",
            "9 6 1 5 3 7 2 8 4\n",
            "2 8 7 4 1 9 6 3 5\n",
            "3 4 5 2 8 6 1 7 9\n",
            "Time taken to solve the Sudoku: 0.03624701499938965\n"
          ]
        }
      ]
    },
    {
      "cell_type": "markdown",
      "source": [
        "# ***With Recursion***"
      ],
      "metadata": {
        "id": "F_VEzKqxXyFj"
      }
    },
    {
      "cell_type": "code",
      "source": [
        "import time\n",
        "start_time = time.time()\n",
        "\n",
        "def is_valid(board, row, col, num):\n",
        "    for i in range(4):\n",
        "        if board[row][i] == num or board[i][col] == num:\n",
        "            return False\n",
        "\n",
        "    start_row = (row // 2) * 2\n",
        "    start_col = (col // 2) * 2\n",
        "    for i in range(start_row, start_row + 2):\n",
        "        for j in range(start_col, start_col + 2):\n",
        "            if board[i][j] == num:\n",
        "                return False\n",
        "    return True\n",
        "\n",
        "def solve_sudoku(board, row=0, col=0):\n",
        "    if row == 4:\n",
        "        return True\n",
        "    if col == 4:\n",
        "        return solve_sudoku(board, row + 1, 0)\n",
        "\n",
        "    if board[row][col] != 0:\n",
        "        return solve_sudoku(board, row, col + 1)\n",
        "\n",
        "    for num in range(1, 5):\n",
        "        if is_valid(board, row, col, num):\n",
        "            board[row][col] = num\n",
        "            if solve_sudoku(board, row, col + 1):\n",
        "                return True\n",
        "            board[row][col] = 0\n",
        "    return False\n",
        "\n",
        "def print_board(board):\n",
        "    for row in board:\n",
        "        print(*row)\n",
        "\n",
        "sudoku = [\n",
        "    [1, 0, 0, 4],\n",
        "    [0, 0, 1, 0],\n",
        "    [3, 0, 0, 0],\n",
        "    [4, 0, 0, 1]\n",
        "]\n",
        "\n",
        "if solve_sudoku(sudoku):\n",
        "    print(\"Solution:\")\n",
        "    print_board(sudoku)\n",
        "else:\n",
        "    print(\"No solution\")\n",
        "\n",
        "end_time = time.time()\n",
        "print(\"Time:\", end_time - start_time)\n"
      ],
      "metadata": {
        "colab": {
          "base_uri": "https://localhost:8080/"
        },
        "id": "t6KkjzzPWn15",
        "outputId": "d3ecdfc2-5668-4f90-e646-2a33c1d0738c"
      },
      "execution_count": 5,
      "outputs": [
        {
          "output_type": "stream",
          "name": "stdout",
          "text": [
            "Solution:\n",
            "1 3 2 4\n",
            "2 4 1 3\n",
            "3 1 4 2\n",
            "4 2 3 1\n",
            "Time: 0.0017578601837158203\n"
          ]
        }
      ]
    },
    {
      "cell_type": "markdown",
      "source": [
        "# ***Without Recursion***"
      ],
      "metadata": {
        "id": "1jNPj2GfXWbs"
      }
    },
    {
      "cell_type": "code",
      "source": [
        "import time\n",
        "start_time = time.time()\n",
        "\n",
        "def is_valid(board, row, col, num):\n",
        "    # Check if the number is not repeated in the row\n",
        "    for i in range(4):\n",
        "        if board[row][i] == num:\n",
        "            return False\n",
        "\n",
        "    # Check if the number is not repeated in the column\n",
        "    for i in range(4):\n",
        "        if board[i][col] == num:\n",
        "            return False\n",
        "\n",
        "    # Check if the number is not repeated in the 2x2 subgrid\n",
        "    start_row, start_col = 2 * (row // 2), 2 * (col // 2)\n",
        "    for i in range(start_row, start_row + 2):\n",
        "        for j in range(start_col, start_col + 2):\n",
        "            if board[i][j] == num:\n",
        "                return False\n",
        "\n",
        "    return True\n",
        "\n",
        "def solve_sudoku(board):\n",
        "    for row in range(4):\n",
        "        for col in range(4):\n",
        "            if board[row][col] == 0:  # Find an empty cell\n",
        "                for num in range(1, 5):  # Try numbers 1 to 4\n",
        "                    if is_valid(board, row, col, num):\n",
        "                        board[row][col] = num\n",
        "                        if solve_sudoku(board):\n",
        "                            return True\n",
        "                        board[row][col] = 0  # Backtrack\n",
        "                return False\n",
        "    return True\n",
        "\n",
        "def print_board(board):\n",
        "    for row in board:\n",
        "        print(*row)\n",
        "\n",
        "\n",
        "# Given Sudoku puzzle\n",
        "sudoku = [\n",
        "    [1, 0, 0, 4],\n",
        "    [0, 0, 1, 0],\n",
        "    [3, 0, 0, 0],\n",
        "    [4, 0, 0, 1]\n",
        "]\n",
        "\n",
        "if solve_sudoku(sudoku):\n",
        "    print(\"Solution:\")\n",
        "    print_board(sudoku)\n",
        "else:\n",
        "    print(\"No solution\")\n",
        "\n",
        "end_time = time.time()\n",
        "print(\"Time:\", end_time - start_time)"
      ],
      "metadata": {
        "colab": {
          "base_uri": "https://localhost:8080/"
        },
        "id": "-Rm3NuicXJQF",
        "outputId": "9b73e907-0120-4e78-bec5-d748e9e19397"
      },
      "execution_count": 7,
      "outputs": [
        {
          "output_type": "stream",
          "name": "stdout",
          "text": [
            "Solution:\n",
            "1 3 2 4\n",
            "2 4 1 3\n",
            "3 1 4 2\n",
            "4 2 3 1\n",
            "Time: 0.001569986343383789\n"
          ]
        }
      ]
    }
  ]
}