{
  "nbformat": 4,
  "nbformat_minor": 0,
  "metadata": {
    "colab": {
      "provenance": [],
      "authorship_tag": "ABX9TyOPEOZntIioMLZbOaX4pFg/",
      "include_colab_link": true
    },
    "kernelspec": {
      "name": "python3",
      "display_name": "Python 3"
    },
    "language_info": {
      "name": "python"
    }
  },
  "cells": [
    {
      "cell_type": "markdown",
      "metadata": {
        "id": "view-in-github",
        "colab_type": "text"
      },
      "source": [
        "<a href=\"https://colab.research.google.com/github/GeethamGampa/My_Works/blob/main/Work_G.ipynb\" target=\"_parent\"><img src=\"https://colab.research.google.com/assets/colab-badge.svg\" alt=\"Open In Colab\"/></a>"
      ]
    },
    {
      "cell_type": "markdown",
      "source": [
        "# **PASSWORD GENERATOR**"
      ],
      "metadata": {
        "id": "Pt_LGPA0Kim0"
      }
    },
    {
      "cell_type": "markdown",
      "source": [
        "> *12 digit password\" -> step 1*\n",
        "\n",
        "> *12 digit password minimum 1 digit -> step2*\n",
        "\n",
        "> *12 digit password minimum 1 digit, special character check(Hint: ascill)-> step3*\n",
        "\n",
        "> *12 digit password minimum 1 digit,minimum 1 Upper case, special character check(Hint: ascill)-> step4*"
      ],
      "metadata": {
        "id": "rvoyr46-K6U_"
      }
    },
    {
      "cell_type": "markdown",
      "source": [
        "**12 digit password\" -> step 1**"
      ],
      "metadata": {
        "id": "rCZFrnIjLdZP"
      }
    },
    {
      "cell_type": "code",
      "execution_count": 1,
      "metadata": {
        "colab": {
          "base_uri": "https://localhost:8080/"
        },
        "id": "dmAx6zyzKgCa",
        "outputId": "29abb95f-76c6-4276-cf86-6c85e49a0038"
      },
      "outputs": [
        {
          "output_type": "stream",
          "name": "stdout",
          "text": [
            "Enter Your Name: geetha\n",
            "Enter Your Password: qwerty\n",
            "Password is Invalid\n"
          ]
        }
      ],
      "source": [
        "name = input(\"Enter Your Name: \")\n",
        "password = input(\"Enter Your Password: \")\n",
        "\n",
        "if len(password) == 12:\n",
        "  print(\"Password is Valid\")\n",
        "else:\n",
        "  print(\"Password is Invalid\")"
      ]
    },
    {
      "cell_type": "markdown",
      "source": [
        "**12 digit password minimum 1 digit -> step2**"
      ],
      "metadata": {
        "id": "XR16X58OLcTL"
      }
    },
    {
      "cell_type": "code",
      "source": [
        "name = input(\"Enter Your Name: \")\n",
        "password = input(\"Enter Your Password: \")\n",
        "\n",
        "if len(password) >= 12:\n",
        "    if any(char.isdigit() for char in password):\n",
        "        print(\"Password is Valid\")\n",
        "    else:\n",
        "        print(\"Your password should have at least one integer\")\n",
        "else:\n",
        "    print(\"Password is Invalid\")\n"
      ],
      "metadata": {
        "colab": {
          "base_uri": "https://localhost:8080/"
        },
        "id": "a0TcCJfOLmAx",
        "outputId": "119cbd1b-29b7-4aaf-9095-4e357e3d15e1"
      },
      "execution_count": 5,
      "outputs": [
        {
          "output_type": "stream",
          "name": "stdout",
          "text": [
            "Enter Your Name: geetha\n",
            "Enter Your Password: qwertyuioplk\n",
            "Your password should have at least one integer\n"
          ]
        }
      ]
    },
    {
      "cell_type": "markdown",
      "source": [
        "**12 digit password minimum 1 digit, special character check(Hint: ascill)-> step3**"
      ],
      "metadata": {
        "id": "TEszVDQBMm4U"
      }
    },
    {
      "cell_type": "code",
      "source": [
        "name = input(\"Enter Your Name: \")\n",
        "password = input(\"Enter Your Password: \")\n",
        "\n",
        "if len(password) >= 12:\n",
        "    # Check if password has at least one digit\n",
        "    if any(char.isdigit() for char in password):\n",
        "        # Check if password has at least one special character using ASCII values\n",
        "        if any(\n",
        "            33 <= ord(char) <= 47 or\n",
        "            58 <= ord(char) <= 64 or\n",
        "            91 <= ord(char) <= 96 or\n",
        "            123 <= ord(char) <= 126\n",
        "            for char in password ):\n",
        "\n",
        "            print(\"Password is Valid\")\n",
        "        else:\n",
        "            print(\"Your password should have at least one special character\")\n",
        "    else:\n",
        "        print(\"Your password should have at least one digit\")\n",
        "else:\n",
        "    print(\"Password is Invalid\")\n"
      ],
      "metadata": {
        "colab": {
          "base_uri": "https://localhost:8080/"
        },
        "id": "popk94TtNnRT",
        "outputId": "a8913215-4748-45a2-df1e-9ba7ce327755"
      },
      "execution_count": 9,
      "outputs": [
        {
          "output_type": "stream",
          "name": "stdout",
          "text": [
            "Enter Your Name: geetha\n",
            "Enter Your Password: qwerthyjd09@g\n",
            "Password is Valid\n"
          ]
        }
      ]
    },
    {
      "cell_type": "markdown",
      "source": [
        "**12 digit password minimum 1 digit,minimum 1 Upper case, special character check(Hint: ascill)-> step4**"
      ],
      "metadata": {
        "id": "_u8GCRRGOHpa"
      }
    },
    {
      "cell_type": "code",
      "source": [
        "name = input(\"Enter Your Name: \")\n",
        "password = input(\"Enter Your Password: \")\n",
        "\n",
        "# Check if the password is at least 12 characters long\n",
        "if len(password) >= 12:\n",
        "\n",
        "    # Check if the password contains at least one digit\n",
        "    if any(char.isdigit() for char in password):\n",
        "\n",
        "        # Check if the password contains at least one uppercase letter\n",
        "        if any(char.isupper() for char in password):\n",
        "\n",
        "            # Check if the password contains at least one special character using ASCII values\n",
        "            if any(\n",
        "                33 <= ord(char) <= 47 or\n",
        "                58 <= ord(char) <= 64 or\n",
        "                91 <= ord(char) <= 96 or\n",
        "                123 <= ord(char) <= 126\n",
        "                for char in password\n",
        "            ):\n",
        "                print(\"Password is Valid\")\n",
        "            else:\n",
        "                print(\"Your password should have at least one special character\")\n",
        "        else:\n",
        "            print(\"Your password should have at least one uppercase letter\")\n",
        "    else:\n",
        "        print(\"Your password should have at least one digit\")\n",
        "else:\n",
        "    print(\"Password is Invalid\")\n"
      ],
      "metadata": {
        "colab": {
          "base_uri": "https://localhost:8080/"
        },
        "id": "WA_huIyZOCj4",
        "outputId": "a506dd9a-30bc-4b87-c395-5957ba25ab80"
      },
      "execution_count": 10,
      "outputs": [
        {
          "output_type": "stream",
          "name": "stdout",
          "text": [
            "Enter Your Name: geetha\n",
            "Enter Your Password: qweerhtyf98@nd\n",
            "Your password should have at least one uppercase letter\n"
          ]
        }
      ]
    },
    {
      "cell_type": "code",
      "source": [
        "name = input(\"Enter Your Name: \")\n",
        "password = input(\"Enter Your Password: \")\n",
        "\n",
        "# Check if the password is at least 12 characters long\n",
        "if len(password) >= 12:\n",
        "\n",
        "    # Check if the password contains at least one digit\n",
        "    if any(char.isdigit() for char in password):\n",
        "\n",
        "        # Check if the password contains at least one uppercase letter\n",
        "        if any(char.isupper() for char in password):\n",
        "\n",
        "            # Check if the password contains at least one special character using ASCII values\n",
        "            if any(\n",
        "                33 <= ord(char) <= 47 or\n",
        "                58 <= ord(char) <= 64 or\n",
        "                91 <= ord(char) <= 96 or\n",
        "                123 <= ord(char) <= 126\n",
        "                for char in password\n",
        "            ):\n",
        "                print(\"Password is Valid\")\n",
        "            else:\n",
        "                print(\"Your password should have at least one special character\")\n",
        "        else:\n",
        "            print(\"Your password should have at least one uppercase letter\")\n",
        "    else:\n",
        "        print(\"Your password should have at least one digit\")\n",
        "else:\n",
        "    print(\"Password is Invalid\")\n"
      ],
      "metadata": {
        "colab": {
          "base_uri": "https://localhost:8080/"
        },
        "id": "gYovuj_IOpoq",
        "outputId": "743d4814-06f6-4061-9b37-1085fd1b1230"
      },
      "execution_count": 11,
      "outputs": [
        {
          "output_type": "stream",
          "name": "stdout",
          "text": [
            "Enter Your Name: geetha\n",
            "Enter Your Password: qwertyYuio98@\n",
            "Password is Valid\n"
          ]
        }
      ]
    }
  ]
}