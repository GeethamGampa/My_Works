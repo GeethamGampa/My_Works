{
  "nbformat": 4,
  "nbformat_minor": 0,
  "metadata": {
    "colab": {
      "provenance": [],
      "authorship_tag": "ABX9TyMKTpU7NRb1CdgT8aqX28Yn",
      "include_colab_link": true
    },
    "kernelspec": {
      "name": "python3",
      "display_name": "Python 3"
    },
    "language_info": {
      "name": "python"
    }
  },
  "cells": [
    {
      "cell_type": "markdown",
      "metadata": {
        "id": "view-in-github",
        "colab_type": "text"
      },
      "source": [
        "<a href=\"https://colab.research.google.com/github/GeethamGampa/My_Works/blob/main/Work_D.ipynb\" target=\"_parent\"><img src=\"https://colab.research.google.com/assets/colab-badge.svg\" alt=\"Open In Colab\"/></a>"
      ]
    },
    {
      "cell_type": "markdown",
      "source": [
        "***Calculator (using lambda expresion)***"
      ],
      "metadata": {
        "id": "TBuwromN6k_d"
      }
    },
    {
      "cell_type": "code",
      "execution_count": 23,
      "metadata": {
        "colab": {
          "base_uri": "https://localhost:8080/"
        },
        "id": "-XDo_KI15q0I",
        "outputId": "b36ca30b-b3f6-4b47-cef3-9d63503e2b2f"
      },
      "outputs": [
        {
          "output_type": "stream",
          "name": "stdout",
          "text": [
            "Enter your first number: 5\n",
            "Enter your second number: 7\n",
            "5.0 + 7.0 = 12.0\n",
            "5.0 - 7.0 = -2.0\n",
            "5.0 * 7.0 = 35.0\n",
            "5.0 / 7.0 = 0.7142857142857143\n"
          ]
        }
      ],
      "source": [
        "# Lambda functions\n",
        "addition = lambda x, y: x + y\n",
        "subtraction = lambda x, y: x - y\n",
        "multiplication = lambda x, y: x * y\n",
        "division = lambda x, y: x / y if y != 0 else \"Error! Division by zero.\"\n",
        "\n",
        "\n",
        "num1 = float(input(\"Enter your first number: \"))\n",
        "num2 = float(input(\"Enter your second number: \"))\n",
        "\n",
        "\n",
        "print(num1, \"+\", num2, \"=\", addition(num1, num2))\n",
        "print(num1, \"-\", num2, \"=\", subtraction(num1, num2))\n",
        "print(num1, \"*\", num2, \"=\", multiplication(num1, num2))\n",
        "print(num1, \"/\", num2, \"=\", division(num1, num2))"
      ]
    },
    {
      "cell_type": "code",
      "source": [
        "\n",
        "def addition(x, y):\n",
        "    return (lambda x, y: x + y)(x, y)  # Adds x and y and returns the result\n",
        "\n",
        "def subtraction(x, y):\n",
        "    return (lambda x, y: x - y)(x, y)  # Subtracts y from x and returns the result\n",
        "\n",
        "\n",
        "def multiplication(x, y):\n",
        "    return (lambda x, y: x * y)(x, y)  # Multiplies x and y and returns the result\n",
        "\n",
        "\n",
        "def division(x, y):\n",
        "    return (lambda x, y: x / y if y != 0 else \"Error! Division by zero.\")(x, y)\n",
        "    # Performs division if y is not zero, otherwise returns an error message\n",
        "\n",
        "\n",
        "num1 = float(input(\"Enter your first number: \"))\n",
        "num2 = float(input(\"Enter your second number: \"))\n",
        "\n",
        "# Displaying the results of the operations\n",
        "print(num1, \"+\", num2, \"=\", addition(num1, num2))\n",
        "print(num1, \"-\", num2, \"=\", subtraction(num1, num2))\n",
        "print(num1, \"*\", num2, \"=\", multiplication(num1, num2))\n",
        "print(num1, \"/\", num2, \"=\", division(num1, num2))\n"
      ],
      "metadata": {
        "colab": {
          "base_uri": "https://localhost:8080/"
        },
        "id": "pdTW8AYF8ijw",
        "outputId": "04b4ee44-57e3-4efa-8648-fa476d285508"
      },
      "execution_count": 3,
      "outputs": [
        {
          "output_type": "stream",
          "name": "stdout",
          "text": [
            "Enter your first number: 4\n",
            "Enter your second number: 0\n",
            "4.0 + 0.0 = 4.0\n",
            "4.0 - 0.0 = 4.0\n",
            "4.0 * 0.0 = 0.0\n",
            "4.0 / 0.0 = Error! Division by zero.\n"
          ]
        }
      ]
    },
    {
      "cell_type": "markdown",
      "source": [
        "***Calculator(using *args)***\n"
      ],
      "metadata": {
        "id": "X-XFEQWZ9rEx"
      }
    },
    {
      "cell_type": "code",
      "source": [
        "def calculator(operation, *args):\n",
        "\n",
        "    if operation == \"add\":\n",
        "        return sum(args)  # Adds all the numbers in args and returns the sum\n",
        "\n",
        "    elif operation == \"subtract\":\n",
        "        result = args[0]  # Start with the first number\n",
        "        for num in args[1:]:  # Loop through the remaining numbers\n",
        "            result -= num  # Subtract each subsequent number from the result\n",
        "        return result\n",
        "\n",
        "    # elif operation == \"multiply\":\n",
        "    #     result = 1  # Initialize result to 1 (multiplicative identity)\n",
        "    #     for num in args:  # Loop through all numbers in args\n",
        "    #         result *= num  # Multiply each number with the result\n",
        "    #     return result\n",
        "\n",
        "    elif operation == \"multiply\":\n",
        "        result = args[0]  # Start with first number\n",
        "        for num in args[1:]:  # Loop through all numbers in args\n",
        "            result *= num  # Multiply each number with the result\n",
        "        return result\n",
        "\n",
        "    elif operation == \"divide\":\n",
        "        result = args[0]  # Start with the first number\n",
        "        for num in args[1:]:  # Loop through the rest of the numbers\n",
        "            if num != 0:  # Prevent division by zero\n",
        "                result /= num  # Divide result by the current number\n",
        "            else:\n",
        "                return \"Cannot divide by zero\"  # Return an error message if division by zero is attempted\n",
        "        return result\n",
        "\n",
        "    else:\n",
        "        return \"Invalid operation\"  # If operation is not recognized, return an error message\n",
        "\n",
        "\n",
        "print(calculator(\"add\", 2, 4, 5))\n",
        "print(calculator(\"subtract\", 100, 50, 25))\n",
        "print(calculator(\"multiply\", 3, 4, 5))\n",
        "print(calculator(\"divide\", 100, 5, 2))\n"
      ],
      "metadata": {
        "colab": {
          "base_uri": "https://localhost:8080/"
        },
        "id": "kqu9jHiwWueH",
        "outputId": "e248b7e9-50e3-497b-f473-80acbeecea0b"
      },
      "execution_count": 2,
      "outputs": [
        {
          "output_type": "stream",
          "name": "stdout",
          "text": [
            "11\n",
            "25\n",
            "60\n",
            "10.0\n"
          ]
        }
      ]
    },
    {
      "cell_type": "markdown",
      "source": [
        "##***lambda()***\n",
        "\n",
        "syntax: lambda arguments: expression\n"
      ],
      "metadata": {
        "id": "XmDnaQ91WS4y"
      }
    },
    {
      "cell_type": "markdown",
      "source": [
        "***Examples***"
      ],
      "metadata": {
        "id": "5LucczFgWjtk"
      }
    },
    {
      "cell_type": "markdown",
      "source": [
        "***Addition***"
      ],
      "metadata": {
        "id": "A2hpweZLXAK5"
      }
    },
    {
      "cell_type": "code",
      "source": [
        "add = lambda x, y: x + y\n",
        "print(add(3, 5))\n"
      ],
      "metadata": {
        "colab": {
          "base_uri": "https://localhost:8080/"
        },
        "id": "FKlgNYqGW6Cp",
        "outputId": "e7f5645b-c149-4dd7-88a9-ef8a658ccb88"
      },
      "execution_count": 1,
      "outputs": [
        {
          "output_type": "stream",
          "name": "stdout",
          "text": [
            "8\n"
          ]
        }
      ]
    },
    {
      "cell_type": "markdown",
      "source": [
        "***Square of a Number*** : *A lambda function can be used to compute the square of a number by multiplying the number by itself.*"
      ],
      "metadata": {
        "id": "RNfJwMdeYK7H"
      }
    },
    {
      "cell_type": "code",
      "source": [
        "square = lambda x: x * x\n",
        "print(square(10))\n"
      ],
      "metadata": {
        "colab": {
          "base_uri": "https://localhost:8080/"
        },
        "id": "VXlWaJA2WSe9",
        "outputId": "fa1fd977-717a-4384-8963-510ea2b1fb57"
      },
      "execution_count": 4,
      "outputs": [
        {
          "output_type": "stream",
          "name": "stdout",
          "text": [
            "100\n"
          ]
        }
      ]
    },
    {
      "cell_type": "markdown",
      "source": [
        "***x to the power of x***"
      ],
      "metadata": {
        "id": "20gxTjh1Y8rN"
      }
    },
    {
      "cell_type": "code",
      "source": [
        "power_self = lambda x: x ** x\n",
        "print(power_self(2))"
      ],
      "metadata": {
        "colab": {
          "base_uri": "https://localhost:8080/"
        },
        "id": "Hp_KCK1BZOMy",
        "outputId": "a133acbf-be19-4927-f0ff-f1ac728771fd"
      },
      "execution_count": 6,
      "outputs": [
        {
          "output_type": "stream",
          "name": "stdout",
          "text": [
            "4\n"
          ]
        }
      ]
    },
    {
      "cell_type": "markdown",
      "source": [
        "***Using Lambda in map()***\n",
        "\n",
        "*Syntax : map(function, iterable)*\n"
      ],
      "metadata": {
        "id": "y4OC0mkrDI-P"
      }
    },
    {
      "cell_type": "code",
      "source": [
        "numbers = [1, 2, 3, 4, 5]\n",
        "squared = list(map(lambda x: x ** 2, numbers))\n",
        "print(squared)\n"
      ],
      "metadata": {
        "colab": {
          "base_uri": "https://localhost:8080/"
        },
        "id": "wHUrsRWTDNSJ",
        "outputId": "e1e58c02-f30d-4a3c-cdc8-9280f577e9a6"
      },
      "execution_count": 6,
      "outputs": [
        {
          "output_type": "stream",
          "name": "stdout",
          "text": [
            "[1, 4, 9, 16, 25]\n"
          ]
        }
      ]
    },
    {
      "cell_type": "markdown",
      "source": [
        "***Using Lambda in filter()***\n",
        "\n",
        "*The filter() function is used to filter elements from an iterable based on a given condition. *\n",
        "\n"
      ],
      "metadata": {
        "id": "iKbiqUDADct-"
      }
    },
    {
      "cell_type": "code",
      "source": [
        "numbers = [1, 2, 3, 4, 5, 6]\n",
        "evens = list(filter(lambda x: x % 2 == 0, numbers))\n",
        "print(evens)\n"
      ],
      "metadata": {
        "colab": {
          "base_uri": "https://localhost:8080/"
        },
        "id": "FFpqzckQDew0",
        "outputId": "a09a4dc6-8408-45ea-c48e-fb60cce90033"
      },
      "execution_count": 3,
      "outputs": [
        {
          "output_type": "stream",
          "name": "stdout",
          "text": [
            "[2, 4, 6]\n"
          ]
        }
      ]
    },
    {
      "cell_type": "markdown",
      "source": [
        "***Filtering Words that Start with a Specific Letter***"
      ],
      "metadata": {
        "id": "5fAWvrl6JDov"
      }
    },
    {
      "cell_type": "code",
      "source": [
        "words = [\"Apple\", \"Banana\", \"Mango\", \"Strawberry\"]\n",
        "a_words = list(filter(lambda word: word[0] == \"A\", words))\n",
        "print(a_words)\n"
      ],
      "metadata": {
        "colab": {
          "base_uri": "https://localhost:8080/"
        },
        "id": "VsV5cy9XJHDz",
        "outputId": "067b794e-1145-4b01-a384-2caf35f194ca"
      },
      "execution_count": 15,
      "outputs": [
        {
          "output_type": "stream",
          "name": "stdout",
          "text": [
            "['Apple']\n"
          ]
        }
      ]
    },
    {
      "cell_type": "markdown",
      "source": [
        "***Using Lambda in sorted()***\n",
        "\n",
        "*The filter() function is used to\n",
        " filter elements from an iterable based\n",
        " on a given condition.*"
      ],
      "metadata": {
        "id": "2d1suz7GDo3r"
      }
    },
    {
      "cell_type": "code",
      "source": [
        "people = [(\"Geetha\", 20), (\"Hari\", 24), (\"Mahanthi\", 23)]\n",
        "sort_people = sorted(people, key=lambda x: x[1])  # Sort by age\n",
        "print(sort_people)\n",
        "\n"
      ],
      "metadata": {
        "colab": {
          "base_uri": "https://localhost:8080/"
        },
        "id": "YH31OVDODqw0",
        "outputId": "1a38e1cb-5d86-4e46-a13c-4eb447356cb7"
      },
      "execution_count": 9,
      "outputs": [
        {
          "output_type": "stream",
          "name": "stdout",
          "text": [
            "[('Geetha', 20), ('Mahanthi', 23), ('Hari', 24)]\n"
          ]
        }
      ]
    },
    {
      "cell_type": "code",
      "source": [
        "people = [(\"Geetha\", 20), (\"Hari\", 24), (\"Mahanthi\", 23)]\n",
        "sort_people = sorted(people, key = lambda x: x[0]) #sort by name\n",
        "print(sort_people)\n",
        "\n"
      ],
      "metadata": {
        "colab": {
          "base_uri": "https://localhost:8080/"
        },
        "id": "tMfeePcyEY1b",
        "outputId": "14381608-45ee-4207-d3ef-74a04581d919"
      },
      "execution_count": 14,
      "outputs": [
        {
          "output_type": "stream",
          "name": "stdout",
          "text": [
            "[('Geetha', 20), ('Hari', 24), ('Mahanthi', 23)]\n"
          ]
        }
      ]
    },
    {
      "cell_type": "markdown",
      "source": [
        "***Multiplying All Elements in a List by a Constant***\n",
        "\n",
        "*Using map() with lambda to multiply all numbers in a list by 10*"
      ],
      "metadata": {
        "id": "D4S0benTIBVV"
      }
    },
    {
      "cell_type": "code",
      "source": [
        "numbers = [1, 2, 3, 4]\n",
        "result = list(map(lambda x: x * 10, numbers))\n",
        "print(result)\n"
      ],
      "metadata": {
        "colab": {
          "base_uri": "https://localhost:8080/"
        },
        "id": "ReGgC5knIf72",
        "outputId": "670579c5-a220-4d18-fd35-87c138143f07"
      },
      "execution_count": 4,
      "outputs": [
        {
          "output_type": "stream",
          "name": "stdout",
          "text": [
            "[10, 20, 30, 40]\n"
          ]
        }
      ]
    },
    {
      "cell_type": "markdown",
      "source": [
        "***check if a number is even or odd***"
      ],
      "metadata": {
        "id": "pWdSvwbLIx9j"
      }
    },
    {
      "cell_type": "code",
      "source": [
        "even_or_odd = lambda x: \"Even\" if x % 2 == 0 else \"Odd\"\n",
        "print(even_or_odd(4))\n",
        "print(even_or_odd(7))\n"
      ],
      "metadata": {
        "colab": {
          "base_uri": "https://localhost:8080/"
        },
        "id": "7mcFPe9uI0NI",
        "outputId": "e723f120-fa60-4335-eba1-cc17f1da5bc7"
      },
      "execution_count": 5,
      "outputs": [
        {
          "output_type": "stream",
          "name": "stdout",
          "text": [
            "Even\n",
            "Odd\n"
          ]
        }
      ]
    },
    {
      "cell_type": "markdown",
      "source": [
        "***Finding the Length of Each String in a List***"
      ],
      "metadata": {
        "id": "pQSIAbJ9Jhtb"
      }
    },
    {
      "cell_type": "code",
      "source": [
        "words = [\"apple\", \"banana\", \"orange\"]\n",
        "length = list(map(lambda word: len(word), words))\n",
        "print(length)\n"
      ],
      "metadata": {
        "colab": {
          "base_uri": "https://localhost:8080/"
        },
        "id": "HTjASE_7JkPv",
        "outputId": "fc4b02a0-f342-4024-d9ae-bbbcb966cbe4"
      },
      "execution_count": 16,
      "outputs": [
        {
          "output_type": "stream",
          "name": "stdout",
          "text": [
            "[5, 6, 6]\n"
          ]
        }
      ]
    },
    {
      "cell_type": "markdown",
      "source": [
        "***Reversing a String***"
      ],
      "metadata": {
        "id": "Wfv4ECGUJ2gn"
      }
    },
    {
      "cell_type": "code",
      "source": [
        "reverse = lambda s: s[::-1]\n",
        "print(reverse(\"Python\"))\n"
      ],
      "metadata": {
        "colab": {
          "base_uri": "https://localhost:8080/"
        },
        "id": "G0cxsQD9J4b5",
        "outputId": "7f519ab6-cf47-497a-c32e-a3a855ac5929"
      },
      "execution_count": 17,
      "outputs": [
        {
          "output_type": "stream",
          "name": "stdout",
          "text": [
            "nohtyP\n"
          ]
        }
      ]
    },
    {
      "cell_type": "code",
      "source": [],
      "metadata": {
        "id": "IpoKGrOutGOW"
      },
      "execution_count": null,
      "outputs": []
    }
  ]
}