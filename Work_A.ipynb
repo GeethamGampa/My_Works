{
  "nbformat": 4,
  "nbformat_minor": 0,
  "metadata": {
    "colab": {
      "provenance": [],
      "authorship_tag": "ABX9TyOKSDYYr6UKoqE1Azql06qX",
      "include_colab_link": true
    },
    "kernelspec": {
      "name": "python3",
      "display_name": "Python 3"
    },
    "language_info": {
      "name": "python"
    }
  },
  "cells": [
    {
      "cell_type": "markdown",
      "metadata": {
        "id": "view-in-github",
        "colab_type": "text"
      },
      "source": [
        "<a href=\"https://colab.research.google.com/github/GeethamGampa/My_Works/blob/main/Work_A.ipynb\" target=\"_parent\"><img src=\"https://colab.research.google.com/assets/colab-badge.svg\" alt=\"Open In Colab\"/></a>"
      ]
    },
    {
      "cell_type": "markdown",
      "source": [
        "String Methods:"
      ],
      "metadata": {
        "id": "IV4mq_CMDRuw"
      }
    },
    {
      "cell_type": "markdown",
      "source": [
        "1. upper() : converts all letters to uppercase."
      ],
      "metadata": {
        "id": "-nWL2ow1DW0b"
      }
    },
    {
      "cell_type": "code",
      "execution_count": 1,
      "metadata": {
        "colab": {
          "base_uri": "https://localhost:8080/"
        },
        "id": "4lQRHhMSC4oU",
        "outputId": "c15ec044-b34b-45ce-f3da-79ebe6282c34"
      },
      "outputs": [
        {
          "output_type": "stream",
          "name": "stdout",
          "text": [
            "HELLO WORLD\n"
          ]
        }
      ],
      "source": [
        "a = \"hello world\"\n",
        "print(a.upper())"
      ]
    },
    {
      "cell_type": "markdown",
      "source": [
        "2. lower() : converts all letters to lowercase."
      ],
      "metadata": {
        "id": "n1_gGsQRD55O"
      }
    },
    {
      "cell_type": "code",
      "source": [
        "a = \"HELLO WORLD\"\n",
        "print(a.lower())"
      ],
      "metadata": {
        "colab": {
          "base_uri": "https://localhost:8080/"
        },
        "id": "WkAPa079D8N9",
        "outputId": "6a0291cf-a28f-4785-b9e8-fb0b236dc1c2"
      },
      "execution_count": 2,
      "outputs": [
        {
          "output_type": "stream",
          "name": "stdout",
          "text": [
            "hello world\n"
          ]
        }
      ]
    },
    {
      "cell_type": "markdown",
      "source": [
        "3. capitalize() : Makes the first letter uppercase."
      ],
      "metadata": {
        "id": "sZius2KGEAYU"
      }
    },
    {
      "cell_type": "code",
      "source": [
        "a = \"hello world\"\n",
        "print(a.capitalize())"
      ],
      "metadata": {
        "colab": {
          "base_uri": "https://localhost:8080/"
        },
        "id": "qYnUDc54EQvF",
        "outputId": "f70ed720-27bf-46c4-a75c-34b1e6ef054c"
      },
      "execution_count": 3,
      "outputs": [
        {
          "output_type": "stream",
          "name": "stdout",
          "text": [
            "Hello world\n"
          ]
        }
      ]
    },
    {
      "cell_type": "markdown",
      "source": [],
      "metadata": {
        "id": "jY9k6VVQEQJa"
      }
    },
    {
      "cell_type": "markdown",
      "source": [
        "4. title() : makes the first letter of each world uppercase."
      ],
      "metadata": {
        "id": "BAfkR_cGEVHV"
      }
    },
    {
      "cell_type": "code",
      "source": [
        "a = \"hello world\"\n",
        "print(a.title())"
      ],
      "metadata": {
        "colab": {
          "base_uri": "https://localhost:8080/"
        },
        "id": "H68BMV-0EbZ_",
        "outputId": "4709dafb-642b-4901-8eac-0086e52f12d6"
      },
      "execution_count": 4,
      "outputs": [
        {
          "output_type": "stream",
          "name": "stdout",
          "text": [
            "Hello World\n"
          ]
        }
      ]
    },
    {
      "cell_type": "markdown",
      "source": [
        "5. **strip()** : removes spaces from both sides.\n",
        "**a. lstrip()** : removes spaces from the left side.\n",
        "**b. rstrip()** : removes spaces from the right side."
      ],
      "metadata": {
        "id": "-5S13RbTEgSt"
      }
    },
    {
      "cell_type": "code",
      "source": [
        "a = \"  hello  \"\n",
        "print(a.strip())\n",
        "print(a.lstrip())\n",
        "print(a.rstrip())"
      ],
      "metadata": {
        "colab": {
          "base_uri": "https://localhost:8080/"
        },
        "id": "FVwhKcl_Eyjd",
        "outputId": "184bb351-7584-414b-dc79-637a9b261443"
      },
      "execution_count": 6,
      "outputs": [
        {
          "output_type": "stream",
          "name": "stdout",
          "text": [
            "hello\n",
            "hello  \n",
            "  hello\n"
          ]
        }
      ]
    },
    {
      "cell_type": "markdown",
      "source": [
        "6. replace(old,new) : replaces part of a string."
      ],
      "metadata": {
        "id": "WlsDo_TlFI3D"
      }
    },
    {
      "cell_type": "code",
      "source": [
        "a = \"hello world\"\n",
        "print(a.replace(\"hello\",\"hi\"))"
      ],
      "metadata": {
        "colab": {
          "base_uri": "https://localhost:8080/"
        },
        "id": "IDJmM2SwFboD",
        "outputId": "122a53b7-88b1-4985-9f79-1abc19d31748"
      },
      "execution_count": 7,
      "outputs": [
        {
          "output_type": "stream",
          "name": "stdout",
          "text": [
            "hi world\n"
          ]
        }
      ]
    },
    {
      "cell_type": "markdown",
      "source": [
        "7. split() : splits a string into a list"
      ],
      "metadata": {
        "id": "DVR7UGE8Fikg"
      }
    },
    {
      "cell_type": "code",
      "source": [
        "a = \"hello,world,welcome\"\n",
        "print(a.split(\",\"))"
      ],
      "metadata": {
        "colab": {
          "base_uri": "https://localhost:8080/"
        },
        "id": "khUx3IuzFoPm",
        "outputId": "b794df93-2fc2-4807-9bab-8fd13d166f36"
      },
      "execution_count": 8,
      "outputs": [
        {
          "output_type": "stream",
          "name": "stdout",
          "text": [
            "['hello', 'world', 'welcome']\n"
          ]
        }
      ]
    },
    {
      "cell_type": "markdown",
      "source": [
        "8. join() : joins elements of a list into a string."
      ],
      "metadata": {
        "id": "SS0RVUKBFy5T"
      }
    },
    {
      "cell_type": "code",
      "source": [
        "a = ['hello','hi','welcome']\n",
        "print(\", \".join(a))"
      ],
      "metadata": {
        "colab": {
          "base_uri": "https://localhost:8080/"
        },
        "id": "G8ntvgwJF4SH",
        "outputId": "4f2917dd-917c-464f-cae4-aff855520c8b"
      },
      "execution_count": 14,
      "outputs": [
        {
          "output_type": "stream",
          "name": "stdout",
          "text": [
            "hello, hi, welcome\n"
          ]
        }
      ]
    },
    {
      "cell_type": "markdown",
      "source": [
        "9. find() : finds the position of a word and returns -1 if not found."
      ],
      "metadata": {
        "id": "A23EcZyvGtaE"
      }
    },
    {
      "cell_type": "code",
      "source": [
        "a = \"hello world\"\n",
        "print(a.find(\"world\"))"
      ],
      "metadata": {
        "colab": {
          "base_uri": "https://localhost:8080/"
        },
        "id": "bfSwSaWiGX26",
        "outputId": "3ee54edb-6e96-4b06-b3d6-45e1669d4a35"
      },
      "execution_count": 15,
      "outputs": [
        {
          "output_type": "stream",
          "name": "stdout",
          "text": [
            "6\n"
          ]
        }
      ]
    },
    {
      "cell_type": "code",
      "source": [
        "a = \"hello world\"\n",
        "print(a.find(\"hi\"))"
      ],
      "metadata": {
        "colab": {
          "base_uri": "https://localhost:8080/"
        },
        "id": "wytWISN3G_Mk",
        "outputId": "a1e37d07-1e8b-4c9a-82e5-787ec06b90b9"
      },
      "execution_count": 16,
      "outputs": [
        {
          "output_type": "stream",
          "name": "stdout",
          "text": [
            "-1\n"
          ]
        }
      ]
    },
    {
      "cell_type": "markdown",
      "source": [],
      "metadata": {
        "id": "-WQrvFs9GUff"
      }
    },
    {
      "cell_type": "markdown",
      "source": [
        "10. count() : counts the occurrences of a word or a letter."
      ],
      "metadata": {
        "id": "eE7u7RSbHF57"
      }
    },
    {
      "cell_type": "code",
      "source": [
        "a = \"hello world\"\n",
        "print(a.count(\"l\"))"
      ],
      "metadata": {
        "colab": {
          "base_uri": "https://localhost:8080/"
        },
        "id": "pK54F2JgHVH5",
        "outputId": "49ac4cec-59cc-47cf-ab33-013156880fb0"
      },
      "execution_count": 17,
      "outputs": [
        {
          "output_type": "stream",
          "name": "stdout",
          "text": [
            "3\n"
          ]
        }
      ]
    },
    {
      "cell_type": "code",
      "source": [
        "a = \"hello world\"\n",
        "print(a.count(\"hello\"))"
      ],
      "metadata": {
        "colab": {
          "base_uri": "https://localhost:8080/"
        },
        "id": "LGrmOXf2HadT",
        "outputId": "6881fd5d-93b7-4bbf-f040-d8cc7858dff1"
      },
      "execution_count": 18,
      "outputs": [
        {
          "output_type": "stream",
          "name": "stdout",
          "text": [
            "1\n"
          ]
        }
      ]
    },
    {
      "cell_type": "code",
      "source": [
        "a = \"hello world\"\n",
        "print(a.count(\"m\"))"
      ],
      "metadata": {
        "colab": {
          "base_uri": "https://localhost:8080/"
        },
        "id": "18ZARmv_Hdis",
        "outputId": "4a8d163f-7713-4b6f-d306-f256649fce0c"
      },
      "execution_count": 19,
      "outputs": [
        {
          "output_type": "stream",
          "name": "stdout",
          "text": [
            "0\n"
          ]
        }
      ]
    },
    {
      "cell_type": "markdown",
      "source": [
        "11. startswith() : checks if a string starts with a word."
      ],
      "metadata": {
        "id": "v-jOGxBLHf5f"
      }
    },
    {
      "cell_type": "code",
      "source": [
        "a = \"hello python programming\"\n",
        "print(a.startswith(\"hello\"))"
      ],
      "metadata": {
        "colab": {
          "base_uri": "https://localhost:8080/"
        },
        "id": "8wx-sFoNHqsH",
        "outputId": "08ca89bb-7a1a-4dd2-b5ea-744a77f1f693"
      },
      "execution_count": 20,
      "outputs": [
        {
          "output_type": "stream",
          "name": "stdout",
          "text": [
            "True\n"
          ]
        }
      ]
    },
    {
      "cell_type": "code",
      "source": [
        "a = \"hello python programming\"\n",
        "print(a.startswith(\"python\"))"
      ],
      "metadata": {
        "colab": {
          "base_uri": "https://localhost:8080/"
        },
        "id": "AkxYNuLMHyFi",
        "outputId": "59078919-e619-499d-c9dd-a8ff3733128b"
      },
      "execution_count": 21,
      "outputs": [
        {
          "output_type": "stream",
          "name": "stdout",
          "text": [
            "False\n"
          ]
        }
      ]
    },
    {
      "cell_type": "code",
      "source": [
        "a = \"hello python programming\"\n",
        "print(a.startswith(\"hi\"))"
      ],
      "metadata": {
        "colab": {
          "base_uri": "https://localhost:8080/"
        },
        "id": "t_5RHjpjH1eb",
        "outputId": "2fd62e36-c150-457e-8622-94398b2f5b30"
      },
      "execution_count": 22,
      "outputs": [
        {
          "output_type": "stream",
          "name": "stdout",
          "text": [
            "False\n"
          ]
        }
      ]
    },
    {
      "cell_type": "markdown",
      "source": [
        "12. endswith() : checks if a string ends with a word."
      ],
      "metadata": {
        "id": "wju1I3y8H3vP"
      }
    },
    {
      "cell_type": "code",
      "source": [
        "a = \"hello python programming\"\n",
        "print(a.endswith(\"hello\"))"
      ],
      "metadata": {
        "colab": {
          "base_uri": "https://localhost:8080/"
        },
        "id": "HxlQr1PJH-qa",
        "outputId": "1a9613a1-0ad9-49dd-afb6-d0dcee107f60"
      },
      "execution_count": 23,
      "outputs": [
        {
          "output_type": "stream",
          "name": "stdout",
          "text": [
            "False\n"
          ]
        }
      ]
    },
    {
      "cell_type": "code",
      "source": [
        "a = \"hello python programming\"\n",
        "print(a.endswith(\"programming\"))"
      ],
      "metadata": {
        "colab": {
          "base_uri": "https://localhost:8080/"
        },
        "id": "fzZ5JK8yIByL",
        "outputId": "64b426ae-22ca-4e06-9fa5-44563f7b4cec"
      },
      "execution_count": 25,
      "outputs": [
        {
          "output_type": "stream",
          "name": "stdout",
          "text": [
            "True\n"
          ]
        }
      ]
    },
    {
      "cell_type": "markdown",
      "source": [
        "13. isalpha() : checks if a string contains only letters."
      ],
      "metadata": {
        "id": "9ySbP8TZIHVY"
      }
    },
    {
      "cell_type": "code",
      "source": [
        "a = \"hello python programming\"\n",
        "print(a.isalpha())"
      ],
      "metadata": {
        "colab": {
          "base_uri": "https://localhost:8080/"
        },
        "id": "AS847lriIPG0",
        "outputId": "373c4521-5186-4216-924f-6e61ef14ca01"
      },
      "execution_count": 26,
      "outputs": [
        {
          "output_type": "stream",
          "name": "stdout",
          "text": [
            "False\n"
          ]
        }
      ]
    },
    {
      "cell_type": "code",
      "source": [
        "a = \"hellopythonprogramming\"\n",
        "print(a.isalpha())"
      ],
      "metadata": {
        "colab": {
          "base_uri": "https://localhost:8080/"
        },
        "id": "Xa4mjiDpIXvH",
        "outputId": "196b9ab7-e400-45f5-c1b2-5cbdae649e6e"
      },
      "execution_count": 27,
      "outputs": [
        {
          "output_type": "stream",
          "name": "stdout",
          "text": [
            "True\n"
          ]
        }
      ]
    },
    {
      "cell_type": "markdown",
      "source": [
        "14. isdigit() : checks if a string contains only numbers."
      ],
      "metadata": {
        "id": "PZ-gdKYPIevz"
      }
    },
    {
      "cell_type": "code",
      "source": [
        "a = \"123 456\"\n",
        "print(a.isdigit())"
      ],
      "metadata": {
        "colab": {
          "base_uri": "https://localhost:8080/"
        },
        "id": "VyI70gZNIbsL",
        "outputId": "25a24212-a94b-492a-e036-de1c761b34a2"
      },
      "execution_count": 28,
      "outputs": [
        {
          "output_type": "stream",
          "name": "stdout",
          "text": [
            "False\n"
          ]
        }
      ]
    },
    {
      "cell_type": "code",
      "source": [
        "a = \"123456\"\n",
        "print(a.isdigit())"
      ],
      "metadata": {
        "colab": {
          "base_uri": "https://localhost:8080/"
        },
        "id": "WB2xr6_YIrZq",
        "outputId": "d70f5887-3163-4c9b-e13b-94eb88f2fdbb"
      },
      "execution_count": 29,
      "outputs": [
        {
          "output_type": "stream",
          "name": "stdout",
          "text": [
            "True\n"
          ]
        }
      ]
    },
    {
      "cell_type": "markdown",
      "source": [
        "15. isalnum() : checks if a string contains only letters and numbers."
      ],
      "metadata": {
        "id": "bD9yPsMVI2n1"
      }
    },
    {
      "cell_type": "code",
      "source": [
        "a = \"hello123456\"\n",
        "print(a.isalnum())"
      ],
      "metadata": {
        "colab": {
          "base_uri": "https://localhost:8080/"
        },
        "id": "9PbgvUSgIuWv",
        "outputId": "0ba4b6d2-fdc2-423c-d5a4-8e6c3bd85b91"
      },
      "execution_count": 31,
      "outputs": [
        {
          "output_type": "stream",
          "name": "stdout",
          "text": [
            "True\n"
          ]
        }
      ]
    },
    {
      "cell_type": "code",
      "source": [
        "a = \"hello\"\n",
        "print(a.isalnum())"
      ],
      "metadata": {
        "colab": {
          "base_uri": "https://localhost:8080/"
        },
        "id": "hFCn28ItJCWI",
        "outputId": "878de57d-a8b6-476a-d6f3-ed9c6fc5309c"
      },
      "execution_count": 32,
      "outputs": [
        {
          "output_type": "stream",
          "name": "stdout",
          "text": [
            "True\n"
          ]
        }
      ]
    },
    {
      "cell_type": "code",
      "source": [
        "a = \"123456\"\n",
        "print(a.isalnum())"
      ],
      "metadata": {
        "colab": {
          "base_uri": "https://localhost:8080/"
        },
        "id": "pTvyhufHJFpD",
        "outputId": "f85c2ffe-d42b-43a0-a89f-c344697155dd"
      },
      "execution_count": 33,
      "outputs": [
        {
          "output_type": "stream",
          "name": "stdout",
          "text": [
            "True\n"
          ]
        }
      ]
    },
    {
      "cell_type": "code",
      "source": [
        "a = \"hello.123456\"\n",
        "print(a.isalnum())"
      ],
      "metadata": {
        "colab": {
          "base_uri": "https://localhost:8080/"
        },
        "id": "D0Nhon7aJIJv",
        "outputId": "aa45039c-285a-4bb7-a118-c86318dae80c"
      },
      "execution_count": 34,
      "outputs": [
        {
          "output_type": "stream",
          "name": "stdout",
          "text": [
            "False\n"
          ]
        }
      ]
    },
    {
      "cell_type": "markdown",
      "source": [
        "16. islower() :  checks if all the letters are lowercase."
      ],
      "metadata": {
        "id": "gH_mVsiLJLZB"
      }
    },
    {
      "cell_type": "code",
      "source": [
        "a = \"hello\"\n",
        "print(a.islower())"
      ],
      "metadata": {
        "colab": {
          "base_uri": "https://localhost:8080/"
        },
        "id": "0Rx0YVYRJSPT",
        "outputId": "6c3c7aa0-449e-4a2e-d649-3d8905470b4a"
      },
      "execution_count": 35,
      "outputs": [
        {
          "output_type": "stream",
          "name": "stdout",
          "text": [
            "True\n"
          ]
        }
      ]
    },
    {
      "cell_type": "code",
      "source": [
        "a = \"hEllo\"\n",
        "print(a.islower())"
      ],
      "metadata": {
        "colab": {
          "base_uri": "https://localhost:8080/"
        },
        "id": "fAgkVYwJJaO8",
        "outputId": "951094c6-3ef8-4d1f-cc27-d2c86fdfbaaa"
      },
      "execution_count": 36,
      "outputs": [
        {
          "output_type": "stream",
          "name": "stdout",
          "text": [
            "False\n"
          ]
        }
      ]
    },
    {
      "cell_type": "code",
      "source": [
        "a = \"hello1\"\n",
        "print(a.islower())"
      ],
      "metadata": {
        "colab": {
          "base_uri": "https://localhost:8080/"
        },
        "id": "kbR9dnvpJced",
        "outputId": "9985859e-fbdf-4505-8dc4-0ae45d9440f3"
      },
      "execution_count": 37,
      "outputs": [
        {
          "output_type": "stream",
          "name": "stdout",
          "text": [
            "True\n"
          ]
        }
      ]
    },
    {
      "cell_type": "markdown",
      "source": [
        "17. isupper() : checks if all the letters are uppercase."
      ],
      "metadata": {
        "id": "nuL8S6wwJSqs"
      }
    },
    {
      "cell_type": "code",
      "source": [
        "a = \"hEllo\"\n",
        "print(a.isupper())"
      ],
      "metadata": {
        "colab": {
          "base_uri": "https://localhost:8080/"
        },
        "id": "oDum-bE6Jf4x",
        "outputId": "1c43c8df-1ca2-41e3-8d02-fa8cf5e8e63a"
      },
      "execution_count": 38,
      "outputs": [
        {
          "output_type": "stream",
          "name": "stdout",
          "text": [
            "False\n"
          ]
        }
      ]
    },
    {
      "cell_type": "code",
      "source": [
        "a = \"PYTHON PROGRAMMING\"\n",
        "print(a.isupper())"
      ],
      "metadata": {
        "colab": {
          "base_uri": "https://localhost:8080/"
        },
        "id": "wpDZj3Y8JkTB",
        "outputId": "c7022640-6a74-4834-89d8-9060a71f1247"
      },
      "execution_count": 39,
      "outputs": [
        {
          "output_type": "stream",
          "name": "stdout",
          "text": [
            "True\n"
          ]
        }
      ]
    },
    {
      "cell_type": "code",
      "source": [
        "a = \"PYTHON PROGRAMMING 1234\"\n",
        "print(a.isupper())"
      ],
      "metadata": {
        "colab": {
          "base_uri": "https://localhost:8080/"
        },
        "id": "iNwQY0LtJqoL",
        "outputId": "595f0b5f-08b6-4653-8593-c3d405acb7d1"
      },
      "execution_count": 40,
      "outputs": [
        {
          "output_type": "stream",
          "name": "stdout",
          "text": [
            "True\n"
          ]
        }
      ]
    },
    {
      "cell_type": "markdown",
      "source": [
        "18. isspace() : checks if the string contains only spaces."
      ],
      "metadata": {
        "id": "tlY2Rb5fJuVN"
      }
    },
    {
      "cell_type": "code",
      "source": [
        "a = \"     \"\n",
        "print(a.isspace())"
      ],
      "metadata": {
        "colab": {
          "base_uri": "https://localhost:8080/"
        },
        "id": "bIfc7b9gJ1O1",
        "outputId": "836fe473-e65d-4a8e-d533-6aff770a8a48"
      },
      "execution_count": 41,
      "outputs": [
        {
          "output_type": "stream",
          "name": "stdout",
          "text": [
            "True\n"
          ]
        }
      ]
    },
    {
      "cell_type": "code",
      "source": [
        "a = \"     1\"\n",
        "print(a.isspace())"
      ],
      "metadata": {
        "colab": {
          "base_uri": "https://localhost:8080/"
        },
        "id": "V8UIz9bTJ5dJ",
        "outputId": "133985b6-cec7-43cd-92d3-cccf1098f12d"
      },
      "execution_count": 42,
      "outputs": [
        {
          "output_type": "stream",
          "name": "stdout",
          "text": [
            "False\n"
          ]
        }
      ]
    },
    {
      "cell_type": "markdown",
      "source": [
        "19. swapcase() : changes uppercase to lowercase and lowercase to uppercase."
      ],
      "metadata": {
        "id": "mmUTxaoeJ8zN"
      }
    },
    {
      "cell_type": "code",
      "source": [
        "a = \"PYTHON PROGRAMMING\"\n",
        "print(a.swapcase())"
      ],
      "metadata": {
        "colab": {
          "base_uri": "https://localhost:8080/"
        },
        "id": "bGnKHEEGKDvN",
        "outputId": "03c04965-7a40-4c06-e966-ae4c2ba6b812"
      },
      "execution_count": 43,
      "outputs": [
        {
          "output_type": "stream",
          "name": "stdout",
          "text": [
            "python programming\n"
          ]
        }
      ]
    },
    {
      "cell_type": "code",
      "source": [
        "a = \"python programming\"\n",
        "print(a.swapcase())"
      ],
      "metadata": {
        "colab": {
          "base_uri": "https://localhost:8080/"
        },
        "id": "hDd8SGv-KIbs",
        "outputId": "c582da88-6257-4d5f-8d05-c68bad1d6baa"
      },
      "execution_count": 44,
      "outputs": [
        {
          "output_type": "stream",
          "name": "stdout",
          "text": [
            "PYTHON PROGRAMMING\n"
          ]
        }
      ]
    },
    {
      "cell_type": "code",
      "source": [
        "a = \"pyThoN pRoGraMming\"\n",
        "print(a.swapcase())"
      ],
      "metadata": {
        "colab": {
          "base_uri": "https://localhost:8080/"
        },
        "id": "9H8onW2KKOUh",
        "outputId": "5f242ca0-d90f-4dc4-c4f9-ae4a532972b9"
      },
      "execution_count": 45,
      "outputs": [
        {
          "output_type": "stream",
          "name": "stdout",
          "text": [
            "PYtHOn PrOgRAmMING\n"
          ]
        }
      ]
    },
    {
      "cell_type": "markdown",
      "source": [
        "20. zfill(width) : adds zeros at the beginning to match the length."
      ],
      "metadata": {
        "id": "59ZQTE98KWFJ"
      }
    },
    {
      "cell_type": "code",
      "source": [
        "a = \"89\"\n",
        "print(a.zfill(4))"
      ],
      "metadata": {
        "colab": {
          "base_uri": "https://localhost:8080/"
        },
        "id": "7KbZgKu3L8Dn",
        "outputId": "2ceec371-0d3e-4d9c-b9d8-50685f009030"
      },
      "execution_count": 47,
      "outputs": [
        {
          "output_type": "stream",
          "name": "stdout",
          "text": [
            "0089\n"
          ]
        }
      ]
    },
    {
      "cell_type": "markdown",
      "source": [
        "21. center(width) : centers the text by adding the spaces."
      ],
      "metadata": {
        "id": "okPD8TfpMIZM"
      }
    },
    {
      "cell_type": "code",
      "source": [
        "a = \"hi python\"\n",
        "print(a.center(20))"
      ],
      "metadata": {
        "colab": {
          "base_uri": "https://localhost:8080/"
        },
        "id": "gTDZul3yMT4n",
        "outputId": "327bdafc-d387-4803-b423-4f7f67e8be6a"
      },
      "execution_count": 48,
      "outputs": [
        {
          "output_type": "stream",
          "name": "stdout",
          "text": [
            "     hi python      \n"
          ]
        }
      ]
    },
    {
      "cell_type": "markdown",
      "source": [
        "22. partition() : splits into three parts: before the word, and after."
      ],
      "metadata": {
        "id": "7D3vWCQCM0a1"
      }
    },
    {
      "cell_type": "code",
      "source": [
        "a = \"hello python\"\n",
        "print(a.partition(\"a\"))"
      ],
      "metadata": {
        "colab": {
          "base_uri": "https://localhost:8080/"
        },
        "id": "L3vnKXDwNYKx",
        "outputId": "4c094b42-2f7e-4738-9cad-0a921f39faf1"
      },
      "execution_count": 50,
      "outputs": [
        {
          "output_type": "stream",
          "name": "stdout",
          "text": [
            "('hello python', '', '')\n"
          ]
        }
      ]
    },
    {
      "cell_type": "code",
      "source": [
        "a = \"hello python\"\n",
        "print(a.partition(\"hello\"))"
      ],
      "metadata": {
        "colab": {
          "base_uri": "https://localhost:8080/"
        },
        "id": "lH2IIe_-NkKS",
        "outputId": "cf2a3fd4-2532-4c44-d923-279dfdc0257d"
      },
      "execution_count": 51,
      "outputs": [
        {
          "output_type": "stream",
          "name": "stdout",
          "text": [
            "('', 'hello', ' python')\n"
          ]
        }
      ]
    },
    {
      "cell_type": "code",
      "source": [
        "a = \"hello python\"\n",
        "print(a.partition(\"python\"))"
      ],
      "metadata": {
        "colab": {
          "base_uri": "https://localhost:8080/"
        },
        "id": "sDohQ4dUNqYe",
        "outputId": "6b52fb20-544c-4196-e1f7-60c1db69df63"
      },
      "execution_count": 53,
      "outputs": [
        {
          "output_type": "stream",
          "name": "stdout",
          "text": [
            "('hello ', 'python', '')\n"
          ]
        }
      ]
    },
    {
      "cell_type": "code",
      "source": [
        "a = \"hello python\"\n",
        "print(a.partition(\"world\"))"
      ],
      "metadata": {
        "colab": {
          "base_uri": "https://localhost:8080/"
        },
        "id": "dM5OXBhUPfuL",
        "outputId": "d3e833c7-e1f5-46f2-8cc0-ba7e7289f85f"
      },
      "execution_count": 54,
      "outputs": [
        {
          "output_type": "stream",
          "name": "stdout",
          "text": [
            "('hello python', '', '')\n"
          ]
        }
      ]
    },
    {
      "cell_type": "markdown",
      "source": [
        "23. encode() : converts a string into encoded bytes."
      ],
      "metadata": {
        "id": "ISQa2evWPqdN"
      }
    },
    {
      "cell_type": "code",
      "source": [
        "a = \"python\"\n",
        "print(a.encode())"
      ],
      "metadata": {
        "colab": {
          "base_uri": "https://localhost:8080/"
        },
        "id": "5USFIFvYQAYQ",
        "outputId": "81ca417e-6093-43b5-abd5-44ffb6bac9e3"
      },
      "execution_count": 55,
      "outputs": [
        {
          "output_type": "stream",
          "name": "stdout",
          "text": [
            "b'python'\n"
          ]
        }
      ]
    },
    {
      "cell_type": "markdown",
      "source": [
        "24. splitlines() : splits string into a list at newline characters."
      ],
      "metadata": {
        "id": "vN0yXRaGQGoF"
      }
    },
    {
      "cell_type": "code",
      "source": [
        "a = \"hello\\npython\\nprogramming\"\n",
        "print(a.splitlines())"
      ],
      "metadata": {
        "colab": {
          "base_uri": "https://localhost:8080/"
        },
        "id": "JSxRNMZnQOq4",
        "outputId": "45267642-840f-4dbb-c9e7-3112864de3d7"
      },
      "execution_count": 56,
      "outputs": [
        {
          "output_type": "stream",
          "name": "stdout",
          "text": [
            "['hello', 'python', 'programming']\n"
          ]
        }
      ]
    },
    {
      "cell_type": "markdown",
      "source": [
        "25. isdecimal() : checks if th estring contains only decimal numbers."
      ],
      "metadata": {
        "id": "3AdrvOHRQnV_"
      }
    },
    {
      "cell_type": "code",
      "source": [
        "a = \"12345\"\n",
        "print(a.isdecimal()) #characters should be decimal digits(0-9)"
      ],
      "metadata": {
        "colab": {
          "base_uri": "https://localhost:8080/"
        },
        "id": "b9LN2YzFQsih",
        "outputId": "1925ee44-37e4-417e-855a-37a94ddc84e9"
      },
      "execution_count": 57,
      "outputs": [
        {
          "output_type": "stream",
          "name": "stdout",
          "text": [
            "True\n"
          ]
        }
      ]
    },
    {
      "cell_type": "code",
      "source": [
        "a = \"123.45\"\n",
        "print(a.isdecimal())  #does not allow decimal points"
      ],
      "metadata": {
        "colab": {
          "base_uri": "https://localhost:8080/"
        },
        "id": "tzwPA9ZjQzLD",
        "outputId": "d3c5a6ab-e9b8-4270-c397-d046c86d8698"
      },
      "execution_count": 58,
      "outputs": [
        {
          "output_type": "stream",
          "name": "stdout",
          "text": [
            "False\n"
          ]
        }
      ]
    },
    {
      "cell_type": "code",
      "source": [
        "a = \"-12345\"\n",
        "print(a.isdecimal()) #does not allow negative numbers"
      ],
      "metadata": {
        "colab": {
          "base_uri": "https://localhost:8080/"
        },
        "id": "C-gmNveIRUD6",
        "outputId": "6fee4170-d472-4685-eb62-edbca8ec6340"
      },
      "execution_count": 59,
      "outputs": [
        {
          "output_type": "stream",
          "name": "stdout",
          "text": [
            "False\n"
          ]
        }
      ]
    }
  ]
}