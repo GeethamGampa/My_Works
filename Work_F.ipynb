{
  "nbformat": 4,
  "nbformat_minor": 0,
  "metadata": {
    "colab": {
      "provenance": [],
      "authorship_tag": "ABX9TyO3A1sjCTxT2LsJI2tmqVfZ",
      "include_colab_link": true
    },
    "kernelspec": {
      "name": "python3",
      "display_name": "Python 3"
    },
    "language_info": {
      "name": "python"
    }
  },
  "cells": [
    {
      "cell_type": "markdown",
      "metadata": {
        "id": "view-in-github",
        "colab_type": "text"
      },
      "source": [
        "<a href=\"https://colab.research.google.com/github/GeethamGampa/My_Works/blob/main/Work_F.ipynb\" target=\"_parent\"><img src=\"https://colab.research.google.com/assets/colab-badge.svg\" alt=\"Open In Colab\"/></a>"
      ]
    },
    {
      "cell_type": "code",
      "source": [
        "#The year can be evenly divided by 4, is a leap year, unless:\n",
        "# The year can be evenly divided by 100, it is NOT a leap year, unless:\n",
        "# The year is also evenly divisible by 400. Then it is a leap year.\n",
        "\n",
        "# If a year is divisible by 4, it might be a leap year.\n",
        "# BUT if the year is also divisible by 100, it is NOT a leap year. year%100==0\n",
        "# UNLESS the year is also divisible by 400 — then it IS a leap year.\n",
        "\n",
        "# If a year is divisible by 100, it's not a leap year unless it is also divisible by 400.\n",
        "\n",
        "\n",
        "\n",
        "def is_leap(year):\n",
        "    leap = False\n",
        "\n",
        "    # Write your logic here\n",
        "    if year % 400 == 0 or (year % 4 == 0 and year % 100 != 0):\n",
        "\n",
        "# If a year is divisible by 400, it’s also divisible by 100 — so year % 100 != 0\n",
        "#  if year % 4 == 0 or (year % 400 == 0 and year % 100 != 0):\n",
        "\n",
        "\n",
        "        leap = True  # It's a leap year\n",
        "    return leap\n",
        "year = int(input())\n",
        "print(is_leap(year))"
      ],
      "metadata": {
        "colab": {
          "base_uri": "https://localhost:8080/"
        },
        "id": "rLrsu7Qa96q2",
        "outputId": "d3380f3f-a756-44d1-e111-9672a3802dc8"
      },
      "execution_count": 2,
      "outputs": [
        {
          "output_type": "stream",
          "name": "stdout",
          "text": [
            "2024\n",
            "True\n"
          ]
        }
      ]
    },
    {
      "cell_type": "markdown",
      "source": [
        "***RECURSION***"
      ],
      "metadata": {
        "id": "bOUIwBVTcPWR"
      }
    },
    {
      "cell_type": "code",
      "source": [
        "a = [10,20,30,40,50]\n",
        "for i in a:\n",
        "  a.remove(i)\n",
        "  print(a)"
      ],
      "metadata": {
        "colab": {
          "base_uri": "https://localhost:8080/"
        },
        "id": "LPfadBENTWr7",
        "outputId": "86bcaa26-2d21-4b35-b624-cdd68e4ad754"
      },
      "execution_count": 16,
      "outputs": [
        {
          "output_type": "stream",
          "name": "stdout",
          "text": [
            "[20, 30, 40, 50]\n",
            "[20, 40, 50]\n",
            "[20, 40]\n"
          ]
        }
      ]
    },
    {
      "cell_type": "code",
      "source": [
        "# def wish():\n",
        "#   print(\"Hai\")\n",
        "#   wish() #function calls itself\n",
        "# wish()\n",
        "\n",
        "\n",
        "def wish(n):\n",
        "  if n ==0:\n",
        "    return\n",
        "  print(\"Hai\")\n",
        "  wish(n-1)\n",
        "wish(3)"
      ],
      "metadata": {
        "colab": {
          "base_uri": "https://localhost:8080/"
        },
        "id": "Jo1juyuIBurY",
        "outputId": "25f907a8-0878-4da2-fd9d-9e262afbe5f5"
      },
      "execution_count": 3,
      "outputs": [
        {
          "output_type": "stream",
          "name": "stdout",
          "text": [
            "Hai\n",
            "Hai\n",
            "Hai\n"
          ]
        }
      ]
    },
    {
      "cell_type": "code",
      "source": [
        "# a = [10,20,30,40,50]\n",
        "# print(remove_ele(a))\n",
        "def remove_ele(a):\n",
        "  for i in a:\n",
        "    print(i)\n",
        "    a.remove(i)\n",
        "    if len(a) !=0:\n",
        "      remove_ele(a)\n",
        "    else:\n",
        "      print (a)\n",
        "\n",
        "a = [10,20,30,40,50]\n",
        "print(remove_ele(a))"
      ],
      "metadata": {
        "colab": {
          "base_uri": "https://localhost:8080/"
        },
        "id": "Mv8eleXtEiDK",
        "outputId": "0bdc8b00-a1c6-44cb-df79-7a1860401c81"
      },
      "execution_count": 8,
      "outputs": [
        {
          "output_type": "stream",
          "name": "stdout",
          "text": [
            "10\n",
            "20\n",
            "30\n",
            "40\n",
            "50\n",
            "[]\n",
            "None\n"
          ]
        }
      ]
    },
    {
      "cell_type": "markdown",
      "source": [
        "***Fibonacci using recursion***\n",
        "\n",
        "*Position:     1  2  3  4  5  6  7*\n",
        "\n",
        "*Fibonacci:    1  1  2  3  5  8  13*"
      ],
      "metadata": {
        "id": "dkrm_wdHcVQa"
      }
    },
    {
      "cell_type": "code",
      "source": [
        "def fibonacci(n):\n",
        "  if n == 1 or n == 2:\n",
        "    return 1  # first two Fibonacci numbers are 1\n",
        "  else:\n",
        "    return fibonacci(n - 1) + fibonacci(n - 2)  # recursive case\n",
        "\n",
        "print(fibonacci(7))\n",
        "\n",
        "\n",
        "# Breakdown:\n",
        "# fibonacci(7)\n",
        "# fibonacci(6) + fibonacci(5)\n",
        "# fibonacci(5) + fibonacci(4)\n",
        "# fibonacci(4) + fibonacci(3)\n",
        "# fibonacci(2) + fibonacci(1) -> 1,1\n",
        "\n",
        "# fibonacci(3) = 1 + 1 = 2\n",
        "# fibonacci(4) = 2 + 1 = 3\n",
        "# fibonacci(5) = 3 + 2 = 5\n",
        "# fibonacci(6) = 5 + 3 = 8\n",
        "# fibonacci(7) = 8 + 5 = 13\n",
        "\n"
      ],
      "metadata": {
        "colab": {
          "base_uri": "https://localhost:8080/"
        },
        "id": "ACaVKrRlG2Gw",
        "outputId": "1ab9d79c-f0f6-4193-8d1e-57fcb9faa54a"
      },
      "execution_count": 3,
      "outputs": [
        {
          "output_type": "stream",
          "name": "stdout",
          "text": [
            "13\n"
          ]
        }
      ]
    },
    {
      "cell_type": "markdown",
      "source": [
        "***Sum of Nested Lists Using Recursion***\n",
        "\n",
        "*1. Start with empty result(0)*\n",
        "\n",
        "*2. go through each item in list*\n",
        "\n",
        "*3. check if item is a list*\n",
        "\n",
        "   *- if yes, call the function on that list(recursion)*\n",
        "\n",
        "   *- if not, add that number to result*\n",
        "   \n",
        "*4. continue unitl all items are handles and then return the result.*\n"
      ],
      "metadata": {
        "id": "3gylI8YosVsd"
      }
    },
    {
      "cell_type": "code",
      "source": [
        "def sum_n_list(lst):\n",
        "   result = 0\n",
        "\n",
        "    # handle sublists\n",
        "   for i in lst:\n",
        "        if type(i) == list:\n",
        "            result += sum_n_list(i)  # Recursive call for sublist\n",
        "\n",
        "    # handle numbers\n",
        "  #  for item in lst:\n",
        "  #       if type(item) != list:\n",
        "  #           result += item\n",
        "\n",
        "        else:\n",
        "            result += i\n",
        "\n",
        "   return result\n",
        "\n",
        "print(sum_n_list([1, 2, [5, [8, 9]], 3]))"
      ],
      "metadata": {
        "colab": {
          "base_uri": "https://localhost:8080/"
        },
        "id": "IVAlh7RflPpr",
        "outputId": "be7d67af-db11-4c34-9de1-b2338faec258"
      },
      "execution_count": 10,
      "outputs": [
        {
          "output_type": "stream",
          "name": "stdout",
          "text": [
            "28\n"
          ]
        }
      ]
    },
    {
      "cell_type": "markdown",
      "source": [
        "***Factorial using recursion***"
      ],
      "metadata": {
        "id": "TUX8sCpIte_0"
      }
    },
    {
      "cell_type": "code",
      "source": [
        "def factorial(n):\n",
        "\n",
        "  # factorial of 0 or 1 is 1\n",
        "  # we can also write it as: if n<=1\n",
        "    if n == 0 or n == 1:\n",
        "        return 1\n",
        "    else:\n",
        "        return n * factorial(n - 1)  # Recursive- multiply n by factorial of (n - 1)\n",
        "\n",
        "a = int(input(\"Enter a number: \"))\n",
        "print(factorial(a))\n",
        "\n",
        "# return n * factorial(n - 1)\n",
        "# factorial(5) = 5 * factorial(4)\n",
        "# factorial(4) = 4 * factorial(3)\n",
        "# factorial(3) = 3 * factorial(2)\n",
        "# factorial(2) = 2 * factorial(1)\n",
        "# factorial(1) = 1\n",
        "\n",
        "# factorial(2) = 2 * 1 = 2\n",
        "# factorial(3) = 3 * 2 = 6\n",
        "# factorial(4) = 4 * 6 = 24\n",
        "# factorial(5) = 5 * 24 = 120\n",
        "\n"
      ],
      "metadata": {
        "colab": {
          "base_uri": "https://localhost:8080/"
        },
        "id": "DI9PyBQHtsrW",
        "outputId": "e163a70d-0121-42b1-b09f-f103a9dbd103"
      },
      "execution_count": 15,
      "outputs": [
        {
          "output_type": "stream",
          "name": "stdout",
          "text": [
            "Enter a number: 4\n",
            "24\n"
          ]
        }
      ]
    },
    {
      "cell_type": "markdown",
      "source": [
        "***Sum of Digits of an Integer Using Recursion***\n",
        "\n",
        "***Breakdown***\n",
        "\n",
        "1. if given an integer like 345 then the sum of digits will be 3+4+5\n",
        "\n",
        "2. To make this possible, first we need to know whether the num>0\n",
        "\n",
        "3. if n>0, we need to extract the last digit in the integer by n%10. This gives the last digit\n",
        "\n",
        "4. To know the remaining digits, we use n//10\n",
        "\n",
        "so, for example, if we take 134\n",
        "\n",
        "134%10 = 4\n",
        "\n",
        "134//10 = 13\n",
        "\n",
        "then again 13%10 = 3\n",
        "\n",
        "13//10 = 1\n",
        "\n",
        "then again 1%10 =1\n",
        "1//10 =0\n",
        "\n",
        "so finally, the sum of digits will be:\n",
        "\n",
        "sum_of_digits(1) = 1 + 0 = 1\n",
        "\n",
        "sum_of_digits(13) = 3 + 1 = 4\n",
        "\n",
        "sum_of_digits(134) = 4 + 4 = 8\n"
      ],
      "metadata": {
        "id": "e6PTKKFCwHV3"
      }
    },
    {
      "cell_type": "code",
      "source": [
        "def sum_of_digits(n):\n",
        "   # If n is 0, the sum of digits is 0\n",
        "    if n == 0:\n",
        "        return 0\n",
        "    else:\n",
        "      # n % 10 gets the last digit and n // 10 removes the last digit\n",
        "        return n % 10 + sum_of_digits(n // 10) #recursive case\n",
        "\n",
        "print(sum_of_digits(134))\n"
      ],
      "metadata": {
        "colab": {
          "base_uri": "https://localhost:8080/"
        },
        "id": "Ie1JYiGuzImt",
        "outputId": "34747b00-43ba-4589-d717-fd8aa861299e"
      },
      "execution_count": 20,
      "outputs": [
        {
          "output_type": "stream",
          "name": "stdout",
          "text": [
            "8\n"
          ]
        }
      ]
    },
    {
      "cell_type": "markdown",
      "source": [
        "***Greatest Common Divisor (GCD) Using Recursion***\n",
        "\n",
        "***Breakdown***\n",
        "1. if we calculate any two numbers a,b\n",
        "the gcd will always be a when b=0\n",
        "\n",
        "For example, consider gcd(84,120)\n",
        "\n",
        "120 % 84 = 36\n",
        "\n",
        "we call gcd(84, 36),\n",
        "\n",
        "then 84 % 36 = 12\n",
        "\n",
        "we call gcd(36, 12),\n",
        "\n",
        "then 36 % 12 = 0\n",
        "\n",
        "we call gcd(12, 0)\n",
        "\n",
        "\n",
        "\n",
        "As you see, b=0 so the gcd is a=12.\n"
      ],
      "metadata": {
        "id": "Wf8lM2TN1BEI"
      }
    },
    {
      "cell_type": "code",
      "source": [
        "def gcd(a, b):\n",
        "\n",
        "    # when b is 0, the GCD is a\n",
        "    if b == 0:\n",
        "        return a\n",
        "    else:\n",
        "        # Recursive case\n",
        "        return gcd(b, a % b)\n",
        "\n",
        "\n",
        "print(gcd(84,120))\n"
      ],
      "metadata": {
        "colab": {
          "base_uri": "https://localhost:8080/"
        },
        "id": "xDa1Hmcr4Uzh",
        "outputId": "10bfde1a-dd69-4749-ae9c-ade9467ac256"
      },
      "execution_count": 22,
      "outputs": [
        {
          "output_type": "stream",
          "name": "stdout",
          "text": [
            "12\n"
          ]
        }
      ]
    },
    {
      "cell_type": "markdown",
      "source": [
        "***Exponentiation Using Recursion***\n",
        "\n",
        "***Breakdown***\n",
        "We need to consider 3 things for exponentiation:\n",
        "let's consider (a,b)\n",
        "1. if b=0, then return 1 beacuase any number raised to power 0 is 1.\n",
        "\n",
        "2. if a=0, the return 0, because 0 raised to any power is 0.\n",
        "\n",
        "3. if b=1, return a because any number raised to the power 1 is the number itself.\n",
        "\n",
        "If none of the above cases met, then we have to recursively call power function."
      ],
      "metadata": {
        "id": "kuy0z8Xv76aY"
      }
    },
    {
      "cell_type": "code",
      "source": [
        "def power(a,b):\n",
        "  if b==0:\n",
        "    return 1\n",
        "  elif b ==1:\n",
        "    return a\n",
        "  elif a==0:\n",
        "    return 0\n",
        "  else:\n",
        "    return a*power(a,b-1)\n",
        "\n",
        "print(power(2,3))\n",
        "\n",
        "\n",
        "\n",
        "# if we take (2,3) i.e 2^3\n",
        "# a=2, b=3\n",
        "# a*power(a,b-1)\n",
        "# 2*power(2,3-1)\n",
        "# 2*power(2,2)\n",
        "\n"
      ],
      "metadata": {
        "colab": {
          "base_uri": "https://localhost:8080/"
        },
        "id": "_tSlxx6o-TD8",
        "outputId": "82cedb07-417b-4ff4-e90d-727c5d51fdbc"
      },
      "execution_count": 24,
      "outputs": [
        {
          "output_type": "stream",
          "name": "stdout",
          "text": [
            "8\n"
          ]
        }
      ]
    }
  ]
}