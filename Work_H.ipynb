{
  "nbformat": 4,
  "nbformat_minor": 0,
  "metadata": {
    "colab": {
      "provenance": [],
      "authorship_tag": "ABX9TyN1vXgA/XIIKIl50MAsGmOU",
      "include_colab_link": true
    },
    "kernelspec": {
      "name": "python3",
      "display_name": "Python 3"
    },
    "language_info": {
      "name": "python"
    }
  },
  "cells": [
    {
      "cell_type": "markdown",
      "metadata": {
        "id": "view-in-github",
        "colab_type": "text"
      },
      "source": [
        "<a href=\"https://colab.research.google.com/github/GeethamGampa/My_Works/blob/main/Work_H.ipynb\" target=\"_parent\"><img src=\"https://colab.research.google.com/assets/colab-badge.svg\" alt=\"Open In Colab\"/></a>"
      ]
    },
    {
      "cell_type": "markdown",
      "source": [
        "# *LEETCODE:*"
      ],
      "metadata": {
        "id": "9RjWTCabvcby"
      }
    },
    {
      "cell_type": "markdown",
      "source": [
        "#**Check Whether Two Strings are Almost Equivalent**"
      ],
      "metadata": {
        "id": "79LXLxYtbNd1"
      }
    },
    {
      "cell_type": "markdown",
      "source": [
        "***Two strings word1 and word2 are considered almost equivalent if the differences between the frequencies of each letter from 'a' to 'z' between word1 and word2 is at most 3.***\n",
        "\n",
        "***Given two strings word1 and word2, each of length n, return true if word1 and word2 are almost equivalent, or false otherwise.***\n",
        "\n",
        "***The frequency of a letter x is the number of times it occurs in the string***"
      ],
      "metadata": {
        "id": "CV6u74gvbeXH"
      }
    },
    {
      "cell_type": "markdown",
      "source": [
        "**Steps Breakdown**\n",
        "\n",
        "> *Initialize frequency counters for both strings*.\n",
        "\n",
        "> *Count frequency of each letter in both word1 and word2*\n",
        "\n",
        "> *Compare the frequency of each letter (from 'a' to 'z') in both words.*\n",
        "\n",
        "> *If all differences are <= 3, return True.*\n",
        "\n",
        "***NOTE:*** *We need to go through all the letters in this case because:*\n",
        "\n",
        "> *Some letters may not appear in either word, and we still need to check them.*\n",
        "\n",
        ">*Letters may appear in one word but not the other, and we need to account for that in the frequency difference.*\n",
        "\n",
        "\n",
        ">> *I used a dictionary instead of a list because a dictionary lets me easily find and update the count of each letter, while a list would make this more complicated.*"
      ],
      "metadata": {
        "id": "yeUKddWTbuxv"
      }
    },
    {
      "cell_type": "code",
      "execution_count": 9,
      "metadata": {
        "colab": {
          "base_uri": "https://localhost:8080/"
        },
        "id": "mwVtL5oVanIR",
        "outputId": "392704da-bf20-40b9-860d-b54d9d5a8e8e"
      },
      "outputs": [
        {
          "output_type": "stream",
          "name": "stdout",
          "text": [
            "Enter the first word: fdcxc\n",
            "Enter the second word: dsfcsdfsd\n",
            "The words are almost equivalent.\n"
          ]
        }
      ],
      "source": [
        "def AlmostEquivalent(word1, word2):\n",
        "\n",
        "    # Empty dictionaries to store letter frequencies\n",
        "    freq1 = {}\n",
        "    freq2 = {}\n",
        "\n",
        "    # Count frequency of each letter in word1\n",
        "    for i in word1:\n",
        "        if i in freq1:\n",
        "            # If letter already seen, increase its count\n",
        "            freq1[i] += 1\n",
        "        else:\n",
        "            # If letter is new, set count to 1\n",
        "            freq1[i] = 1\n",
        "\n",
        "    # Count frequency of each letter in word2\n",
        "    for i in word2:\n",
        "        if i in freq2:\n",
        "            freq2[i] += 1\n",
        "        else:\n",
        "            freq2[i] = 1\n",
        "\n",
        "    # Compare the frequency differences\n",
        "    for i in 'abcdefghijklmnopqrstuvwxyz':\n",
        "\n",
        "        # Get the count of the current letter from both words\n",
        "        # If the letter is not found, use 0 as default\n",
        "        #I used get() method to retrieve the value associated with a given key\n",
        "\n",
        "        count1 = freq1.get(i, 0)\n",
        "        count2 = freq2.get(i, 0)\n",
        "\n",
        "        # If the absolute difference in counts is more than 3, return False\n",
        "        if abs(count1 - count2) > 3:\n",
        "            return False\n",
        "\n",
        "    return True\n",
        "\n",
        "# without using abs()\n",
        "#     if count1 > count2:\n",
        "#     difference = count1 - count2\n",
        "# else:\n",
        "#     difference = count2 - count1\n",
        "\n",
        "# if difference > 3:\n",
        "#     return False\n",
        "\n",
        "word1 = input(\"Enter the first word: \")\n",
        "word2 = input(\"Enter the second word: \")\n",
        "\n",
        "# Check if the words are almost equivalent\n",
        "# result = AlmostEquivalent(word1, word2)\n",
        "\n",
        "\n",
        "if AlmostEquivalent(word1, word2):\n",
        "    print(\"The words are almost equivalent.\")\n",
        "else:\n",
        "    print(\"The words are NOT almost equivalent.\")\n"
      ]
    },
    {
      "cell_type": "markdown",
      "source": [
        "# **Determine if String Halves Are Alike**"
      ],
      "metadata": {
        "id": "5Q1NLIf2ljbX"
      }
    },
    {
      "cell_type": "markdown",
      "source": [
        "***You are given a string s of even length. Split this string into two halves of equal lengths, and let a be the first half and b be the second half.***\n",
        "\n",
        "***Two strings are alike if they have the same number of vowels ('a', 'e', 'i', 'o', 'u', 'A', 'E', 'I', 'O', 'U'). Notice that s contains uppercase and lowercase letters.***\n",
        "\n",
        "***Return true if a and b are alike. Otherwise, return false.***"
      ],
      "metadata": {
        "id": "fHr3H1-gmbB_"
      }
    },
    {
      "cell_type": "markdown",
      "source": [
        "**Steps Breakdown:**\n",
        " > *Split the string s*\n",
        "\n",
        " > *Count the number of vowels in both halves.*\n",
        "\n",
        " > *Compare the counts*\n",
        "\n",
        " > *If the counts are same, then return True.*\n",
        " *If not, return False.*"
      ],
      "metadata": {
        "id": "aXgmCaekmhOK"
      }
    },
    {
      "cell_type": "code",
      "source": [
        "def HalvesAreAlike(s):\n",
        "\n",
        "    vowels = 'aeiouAEIOU'\n",
        "\n",
        "    x = len(s) // 2\n",
        "\n",
        "    count_y = 0\n",
        "    count_z = 0\n",
        "\n",
        "    # count vowels in 1st half\n",
        "    for i in range(x):\n",
        "        if s[i] in vowels: # Check if the character is a vowel\n",
        "            count_y += 1 # Increment the count for the first half if a vowel is found\n",
        "\n",
        "    # count vowels in 2nd half\n",
        "    for i in range(x, len(s)):  # Loop through the second half of the string\n",
        "        if s[i] in vowels:  # Check if the character is a vowel\n",
        "            count_z += 1 # Increment the count for the second half if a vowel is found\n",
        "\n",
        "    # Return True if both halves have same no of vowels\n",
        "    return count_y == count_z\n",
        "\n",
        "s = input(\"Enter the string: \")\n",
        "\n",
        "if HalvesAreAlike(s):\n",
        "    print(\"Halves are alike.\\n TRUE\")\n",
        "else:\n",
        "    print(\"Halves are NOT alike.\\n FALSE\")\n",
        "\n",
        "#==============================================================================#\n",
        "\n",
        "# # using one loop instead of two\n",
        "\n",
        "# def HalvesAreAlike(s):\n",
        "#     vowels = 'aeiouAEIOU'\n",
        "#     x = len(s) // 2\n",
        "\n",
        "#     count_a = 0\n",
        "#     count_b = 0\n",
        "\n",
        "#     #go through every character in the string using its index i\n",
        "#     for i in range(len(s)):\n",
        "#         if s[i] in vowels: # If the character at index i is a vowel, we continue\n",
        "#             if i < x:\n",
        "#                 count_a += 1  # Vowel in first half,so increase count_a\n",
        "#             else:\n",
        "#                 count_b += 1  # Vowel in second half, so increase count_b\n",
        "\n",
        "#     return count_a == count_b\n",
        "\n",
        "# s = input(\"Enter the string: \")\n",
        "\n",
        "# if HalvesAreAlike(s):\n",
        "#     print(\"Halves are alike.\\n TRUE\")\n",
        "# else:\n",
        "#     print(\"Halves are NOT alike.\\n FALSE\")\n"
      ],
      "metadata": {
        "colab": {
          "base_uri": "https://localhost:8080/"
        },
        "id": "a5n2qJ9PnGPp",
        "outputId": "b4f2477b-f5c3-4071-c0c9-3b0d1d4e1a6a"
      },
      "execution_count": 6,
      "outputs": [
        {
          "output_type": "stream",
          "name": "stdout",
          "text": [
            "Enter the string: book\n",
            "Halves are alike.\n",
            " TRUE\n"
          ]
        }
      ]
    },
    {
      "cell_type": "markdown",
      "source": [
        "# *HACKERRANK:*"
      ],
      "metadata": {
        "id": "e4Ycy5Mnvhy3"
      }
    },
    {
      "cell_type": "markdown",
      "source": [
        "***Consider a list (list = []). You can perform the following commands:***\n",
        "\n",
        "***insert i e: Insert integer e  at position i .***\n",
        "\n",
        "***print: Print the list.***\n",
        "\n",
        "***remove e: Delete the first occurrence of integer e .***\n",
        "\n",
        "***append e: Insert integer e at the end of the list.***\n",
        "\n",
        "***sort: Sort the list.***\n",
        "\n",
        "***pop: Pop the last element from the list.***\n",
        "\n",
        "***reverse: Reverse the list.***\n",
        "\n",
        "***Initialize your list and read in the value of  followed by  lines of commands where each command will be of the  types listed above. Iterate through each command in order and perform the corresponding operation on your list.***"
      ],
      "metadata": {
        "id": "7TzpPXbwwDkW"
      }
    },
    {
      "cell_type": "markdown",
      "source": [
        "**Steps Breakdown : **\n",
        "\n",
        "> *Start with an empty list*\n",
        "\n",
        "> *Take input n (number of commands to perform)*\n",
        "\n",
        "> *Loop through each of the n lines*\n",
        "\n",
        "> *Now go through each command*"
      ],
      "metadata": {
        "id": "H-oeL3n8Fkp2"
      }
    },
    {
      "cell_type": "code",
      "source": [
        "N = int(input())\n",
        "my_list = []\n",
        "\n",
        "for i in range(N):\n",
        "  command = input().split()\n",
        "\n",
        "  #command[0] is the name of operation i.e., insert, print, remove etc\n",
        "\n",
        "  if command[0] == \"insert\":\n",
        "      #command = ['insert', '1', '10']\n",
        "      index = int(command[1]) #gives the index\n",
        "      val = int(command[2]) #gives the value to insert\n",
        "      my_list.insert(index, val)\n",
        "\n",
        "  elif command[0] == \"print\":\n",
        "            print(my_list)\n",
        "\n",
        "  elif command[0] == \"remove\": #Removes the first occurrence\n",
        "            val = int(command[1]) #example: ['remove', '5']\n",
        "            my_list.remove(val)\n",
        "\n",
        "  elif command[0] == \"append\": #Adds a value at the end of the list\n",
        "            #command = ['append', '3']\n",
        "            value = int(command[1])\n",
        "            my_list.append(val)\n",
        "\n",
        "  elif command[0] == \"sort\":\n",
        "            my_list.sort()\n",
        "\n",
        "  elif command[0] == \"pop\":\n",
        "            my_list.pop()\n",
        "\n",
        "  elif command[0] == \"reverse\":\n",
        "            my_list.reverse()"
      ],
      "metadata": {
        "colab": {
          "base_uri": "https://localhost:8080/"
        },
        "id": "eUYhGTuQY9rP",
        "outputId": "70b3a65e-3db5-4983-ac26-d92e3e2549e4"
      },
      "execution_count": 2,
      "outputs": [
        {
          "output_type": "stream",
          "name": "stdout",
          "text": [
            "4\n",
            "insert 0 1\n",
            "insert 1 3\n",
            "insert 0 2\n",
            "print\n",
            "[2, 1, 3]\n"
          ]
        }
      ]
    }
  ]
}