{
  "nbformat": 4,
  "nbformat_minor": 0,
  "metadata": {
    "colab": {
      "provenance": [],
      "authorship_tag": "ABX9TyPvBVb8NgwZhXJV0VNCusu0",
      "include_colab_link": true
    },
    "kernelspec": {
      "name": "python3",
      "display_name": "Python 3"
    },
    "language_info": {
      "name": "python"
    }
  },
  "cells": [
    {
      "cell_type": "markdown",
      "metadata": {
        "id": "view-in-github",
        "colab_type": "text"
      },
      "source": [
        "<a href=\"https://colab.research.google.com/github/GeethamGampa/My_Works/blob/main/Work_K.ipynb\" target=\"_parent\"><img src=\"https://colab.research.google.com/assets/colab-badge.svg\" alt=\"Open In Colab\"/></a>"
      ]
    },
    {
      "cell_type": "markdown",
      "source": [
        "# ***OOPS***\n",
        "\n",
        "> ***Object*** - data and code\n",
        "\n",
        "> Four pillars - Encapsulation, Inheritance, Polymorphism, Abstraction\n",
        "\n",
        "> Encapsulation - keeps data safe like passwords\n",
        "\n"
      ],
      "metadata": {
        "id": "BcmYiPi8ZkCi"
      }
    },
    {
      "cell_type": "code",
      "execution_count": null,
      "metadata": {
        "id": "xJd9ZSUVZi5o"
      },
      "outputs": [],
      "source": [
        "class Person:\n",
        "  def __init__(self, name, age):\n",
        "    self._name = name\n",
        "\n",
        "  def get_name(self):\n",
        "    return self._name\n",
        "#================ Encapsulation =================#"
      ]
    },
    {
      "cell_type": "code",
      "source": [
        "# INHERITANCE\n",
        "\n",
        "# class Father: #----> Superclass or parent class\n",
        "#   def __init__(self, name, age, house):\n",
        "#     self._name = name\n",
        "#     self._age = age\n",
        "#     self._house = house\n",
        "\n",
        "# class Geetha(Father): #----> Subclass or child class\n",
        "#   def __init__(self, name, age, house, address):\n",
        "#     super().__init__(name, age, house)\n",
        "#     self._address = address\n",
        "\n",
        "\n",
        "\n",
        "# class Person:\n",
        "#   def __init__(self, fname, lname):\n",
        "#     self.fname = fname #self declaration\n",
        "#     self.lname = lname #self declaration\n",
        "\n",
        "#   def printname(self):\n",
        "#     print(self.fname, self.lname)\n",
        "\n",
        "# class Student(Person): #---> subclass\n",
        "#   #pass\n",
        "#   def __init__(school,section):\n",
        "#     Person().__init__(fname, lname)\n",
        "#     self.school = school\n",
        "#     self.section = section\n",
        "\n",
        "#     def printnbio(self):\n",
        "#      print(self.fname, self.section)\n",
        "\n",
        "# s1 = Student(\"Mike\", \"dadi\", \"kv\", \"A\") #s1 is object\n",
        "# s1.printname()\n",
        "\n",
        "\n",
        "class Person:\n",
        "    def __init__(self, fname, lname):\n",
        "        self.fname = fname\n",
        "        self.lname = lname\n",
        "\n",
        "    def printname(self):\n",
        "        print(self.fname, self.lname)\n",
        "\n",
        "class Student(Person):  # subclass\n",
        "    def __init__(self, fname, lname, school, section):\n",
        "        Person.__init__(self, fname, lname)\n",
        "        self.school = school\n",
        "        self.section = section\n",
        "\n",
        "    def printbio(self):\n",
        "        print(self.fname, self.section)\n",
        "\n",
        "s1 = Student(\"Mike\", \"Dadi\", \"KV\", \"A\")\n",
        "s1.printname()\n",
        "s1.printbio()\n",
        "\n"
      ],
      "metadata": {
        "colab": {
          "base_uri": "https://localhost:8080/"
        },
        "id": "jLTROlaSI7Pd",
        "outputId": "aa341ffb-9eac-414f-99a9-f7f62463acf6"
      },
      "execution_count": 19,
      "outputs": [
        {
          "output_type": "stream",
          "name": "stdout",
          "text": [
            "Mike Dadi\n",
            "Mike A\n"
          ]
        }
      ]
    },
    {
      "cell_type": "code",
      "source": [
        "class Person:\n",
        " def __init__(self,name,age):\n",
        "  self.name = name\n",
        "  self.age = age\n",
        "\n",
        " def funct1(self):\n",
        "  return (f\"my name {self.name}, age is {self.age}\")\n",
        "\n",
        "p1 = Person(\"pari\",24)\n",
        "p2 = Person(\"baby\",23)\n",
        "p3 = Person(\"aron\",25)\n",
        "\n",
        "print(p1.name)\n",
        "print(p2.name)\n",
        "print(p3.name)\n",
        "\n",
        "print(p1.funct1())"
      ],
      "metadata": {
        "colab": {
          "base_uri": "https://localhost:8080/"
        },
        "id": "gECLNO3PibQC",
        "outputId": "eb6b9b98-0c34-4cbb-c258-13fe30bc96e2"
      },
      "execution_count": 1,
      "outputs": [
        {
          "output_type": "stream",
          "name": "stdout",
          "text": [
            "pari\n",
            "baby\n",
            "aron\n",
            "my name pari, age is 24\n"
          ]
        }
      ]
    },
    {
      "cell_type": "markdown",
      "source": [
        "# ***Homework***"
      ],
      "metadata": {
        "id": "SWawaBNOKBuC"
      }
    },
    {
      "cell_type": "code",
      "source": [
        "class Animal:  # main class\n",
        "    def __init__(self, name, bark):\n",
        "        self.name = name\n",
        "        self.bark = bark\n",
        "\n",
        "    # defining method\n",
        "    def speak(self):\n",
        "        print(self.name, \"barks\", self.bark)\n",
        "\n",
        "class Dog(Animal):  # subclass\n",
        "    def __init__(self, name, bark, color):\n",
        "        Animal.__init__(self, name, bark)\n",
        "        self.color = color\n",
        "\n",
        "    def info(self):\n",
        "        print(self.name, \"is a\", self.color, \"dog\")\n",
        "\n",
        "class Cat(Animal):  # subclass\n",
        "    def __init__(self, name, bark, color):\n",
        "        Animal.__init__(self, name, bark)\n",
        "        self.color = color\n",
        "\n",
        "    def info(self):\n",
        "        print(self.name, \"is a\", self.color, \"cat\")\n",
        "\n",
        "# Creating objects\n",
        "d1 = Dog(\"ChowChow\", \"Bow Bow!\", \"black\")\n",
        "c1 = Cat(\"Nyke\", \"Meow Meow!\", \"white\")\n",
        "\n",
        "# Calling methods\n",
        "d1.speak()\n",
        "d1.info()\n",
        "\n",
        "c1.speak()\n",
        "c1.info()\n"
      ],
      "metadata": {
        "colab": {
          "base_uri": "https://localhost:8080/"
        },
        "id": "jeSJwc1k_l2G",
        "outputId": "114d0325-8048-4992-ea7d-1fd956118f9f"
      },
      "execution_count": 25,
      "outputs": [
        {
          "output_type": "stream",
          "name": "stdout",
          "text": [
            "ChowChow barks Bow Bow!\n",
            "ChowChow is a black dog\n",
            "Nyke barks Meow Meow!\n",
            "Nyke is a white cat\n"
          ]
        }
      ]
    },
    {
      "cell_type": "code",
      "source": [
        "class Person:  # main class\n",
        "    def __init__(self, name, age, location):\n",
        "        self.name = name\n",
        "        self.age = age\n",
        "        self.location = location\n",
        "\n",
        "    def show_info(self):\n",
        "        print(self.name, \"is\", self.age, \"years old from\", self.location)\n",
        "\n",
        "class Traveller(Person):  # subclass\n",
        "    def __init__(self, name, age, location, destination):\n",
        "        Person.__init__(self, name, age, location)\n",
        "        self.destination = destination\n",
        "\n",
        "    def travel_plan(self):\n",
        "        print(self.name, \"is traveling to\", self.destination)\n",
        "\n",
        "class Driver(Person):  # subclass\n",
        "    def __init__(self, name, age, location, vehicle):\n",
        "        Person.__init__(self, name, age, location)\n",
        "        self.vehicle = vehicle\n",
        "\n",
        "    def drive_info(self):\n",
        "        print(self.name, \"drives a\", self.vehicle)\n",
        "\n",
        "\n",
        "# Creating objects\n",
        "t1 = Traveller(\"Geetha\", 25, \"Bangalore\", \"Goa\")  # Object of Traveller class\n",
        "d1 = Driver(\"Harry\", 26, \"Mumbai\", \"Taxi\")         # Object of Driver class\n",
        "\n",
        "\n",
        "# Calling methods\n",
        "t1.show_info()\n",
        "t1.travel_plan()\n",
        "\n",
        "d1.show_info()\n",
        "d1.drive_info()\n"
      ],
      "metadata": {
        "colab": {
          "base_uri": "https://localhost:8080/"
        },
        "id": "5F1Tu5uWD5Uo",
        "outputId": "efe6be0e-5924-4347-a722-5d44bd14fd22"
      },
      "execution_count": 27,
      "outputs": [
        {
          "output_type": "stream",
          "name": "stdout",
          "text": [
            "Geetha is 25 years old from Bangalore\n",
            "Geetha is traveling to Goa\n",
            "Harry is 26 years old from Mumbai\n",
            "Harry drives a Taxi\n"
          ]
        }
      ]
    },
    {
      "cell_type": "code",
      "source": [
        "class Trees:  # main class\n",
        "    def __init__(self, name, tree_type, climate):\n",
        "        self.name = name\n",
        "        self.tree_type = tree_type\n",
        "        self.climate = climate\n",
        "\n",
        "    def tree_info(self):\n",
        "        print(f\"{self.name} is a {self.tree_type} tree and grows in {self.climate} climate.\")\n",
        "\n",
        "class Jasmine(Trees):  # subclass\n",
        "    def __init__(self, name, tree_type, climate, fragrance, color):\n",
        "        Trees.__init__(self, name, tree_type, climate)\n",
        "        self.fragrance = fragrance\n",
        "        self.color = color\n",
        "\n",
        "    def jasmine_info(self):\n",
        "        print(f\"{self.name} has a {self.fragrance} fragrance and is {self.color} in color.\")\n",
        "\n",
        "class Rose(Trees):  # subclass\n",
        "    def __init__(self, name, tree_type, climate, fragrance, color):\n",
        "        Trees.__init__(self, name, tree_type, climate)\n",
        "        self.fragrance = fragrance\n",
        "        self.color = color\n",
        "\n",
        "    def rose_info(self):\n",
        "        print(f\"{self.name} has a {self.fragrance} fragrance and is {self.color} in color.\")\n",
        "\n",
        "\n",
        "# Creating Objects\n",
        "j1 = Jasmine(\"Jasmine\", \"flowering\", \"tropical\", \"sweet\", \"white\")\n",
        "r1 = Rose(\"Rose\", \"flowering\", \"temperate\", \"fruity\", \"red\")\n",
        "\n",
        "# Calling methods\n",
        "j1.tree_info()\n",
        "j1.jasmine_info()\n",
        "\n",
        "r1.tree_info()\n",
        "r1.rose_info()\n"
      ],
      "metadata": {
        "colab": {
          "base_uri": "https://localhost:8080/"
        },
        "id": "saxDgkkHGGTp",
        "outputId": "6a745e5a-291a-4c64-fe60-82a001d0e87e"
      },
      "execution_count": 26,
      "outputs": [
        {
          "output_type": "stream",
          "name": "stdout",
          "text": [
            "Jasmine is a flowering tree and grows in tropical climate.\n",
            "Jasmine has a sweet fragrance and is white in color.\n",
            "Rose is a flowering tree and grows in temperate climate.\n",
            "Rose has a fruity fragrance and is red in color.\n"
          ]
        }
      ]
    }
  ]
}