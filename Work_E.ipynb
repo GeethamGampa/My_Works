{
  "nbformat": 4,
  "nbformat_minor": 0,
  "metadata": {
    "colab": {
      "provenance": [],
      "authorship_tag": "ABX9TyMkTlEXcmOsUa6Ug2dDs/Rt",
      "include_colab_link": true
    },
    "kernelspec": {
      "name": "python3",
      "display_name": "Python 3"
    },
    "language_info": {
      "name": "python"
    }
  },
  "cells": [
    {
      "cell_type": "markdown",
      "metadata": {
        "id": "view-in-github",
        "colab_type": "text"
      },
      "source": [
        "<a href=\"https://colab.research.google.com/github/GeethamGampa/My_Works/blob/main/Work_E.ipynb\" target=\"_parent\"><img src=\"https://colab.research.google.com/assets/colab-badge.svg\" alt=\"Open In Colab\"/></a>"
      ]
    },
    {
      "cell_type": "markdown",
      "source": [
        "***FILE HANDLING***"
      ],
      "metadata": {
        "id": "uXTtqU7wUegQ"
      }
    },
    {
      "cell_type": "code",
      "source": [
        "\n",
        "# r -> read\n",
        "# a -> append\n",
        "# w -> write\n",
        "# x -> create\n",
        "\n",
        "# file = open(\"/Users/pavandadi/Desktop/batch10/python-projects/demo.txt\", \"a\")\n",
        "# file.write(\"  my pavan is pavan\")\n",
        "# file.close()\n",
        "\n",
        "# f = open(\"/Users/pavandadi/Desktop/batch10/python-projects/demo.txt\", \"r\")\n",
        "# print(f.read())\n",
        "# f.close()\n",
        "\n",
        "\n",
        "# f = open(\"/Users/pavandadi/Desktop/batch10/python-projects/demo.txt\", \"r\")\n",
        "# print(f.read())\n",
        "# f.close()\n",
        "# file_name = [\"demo.txt\", \"demo2.txt\", \"demo5.txt\"]\n",
        "# for file in file_name:\n",
        "#     f = open(f\"/Users/pavandadi/Desktop/batch10/python-projects/{file}\", \"w\")\n",
        "#     f.read\n",
        "#     f.close()\n",
        "\n",
        "# import os\n",
        "# print(\"my system name\",os)\n",
        "# if os.path.exists(\"/Users/pavandadi/Desktop/batch10/python-projects/demo.txt\"):\n",
        "#     os.remove(\"/Users/pavandadi/Desktop/batch10/python-projects/demo.txt\")\n",
        "# else:\n",
        "#     print(\"file is not there\")\n",
        "\n",
        "# import os\n",
        "# print(\"my system name\",os)\n",
        "# if os.path.exists(\"/Users/pavandadi/Desktop/batch10/python-projects/demo.txt\"):\n",
        "#     open(\"/Users/pavandadi/Desktop/batch10/python-projects/demo.txt\")\n",
        "# else:\n",
        "#    f = open(\"/Users/pavandadi/Desktop/batch10/python-projects/demo.txt\",\"w\")\n",
        "#    f.write(\"This is python class\")\n",
        "#    f.close()\n",
        "\n"
      ],
      "metadata": {
        "id": "zoRXLbQKUiJ5"
      },
      "execution_count": null,
      "outputs": []
    },
    {
      "cell_type": "markdown",
      "source": [
        "***LIST***"
      ],
      "metadata": {
        "id": "-O46sB8SUNpN"
      }
    },
    {
      "cell_type": "code",
      "source": [
        "# mutabale data\n",
        "# c->CREATE\n",
        "# R->Read\n",
        "# U->UPDATE\n",
        "# D-> Delete\n",
        "\n",
        "\n",
        "# s = []\n",
        "# print(type(s))\n",
        "\n",
        "# s = ['a',1,1.5, 2]\n",
        "# print(s[0])\n",
        "# print(len(s))\n",
        "\n",
        "# for i in s:\n",
        "#     print(i, ':', type(i))\n",
        "\n",
        "#append\n",
        "# s.append('k')\n",
        "# print(s)\n",
        "\n",
        "# s[0] = 'n'\n",
        "# print(s)\n",
        "\n",
        "# list1 = ['banana','apple', 'cherry']\n",
        "# list2 = [1,2,3,4,5,6]\n",
        "\n",
        "# print(list1+list2)\n",
        "\n",
        "# list3 = ('banana','apple', 'cherry')\n",
        "# list4  = list(list3)\n",
        "# print(type(list4))\n",
        "# print(list4)\n",
        "\n",
        "# list4.pop(0)\n",
        "# print(list4)\n",
        "\n",
        "# # list4.clear()\n",
        "# # print(list4)\n",
        "\n",
        "# print(count(list4))\n",
        "\n",
        "# list4.count('apple')\n",
        "\n",
        "# 'pavan.txt'\n",
        "\n",
        "\n",
        "# mylist = ['apple', 'banana', 'cherry']\n",
        "# # # print(mylist[1])\n",
        "\n",
        "# # print(mylist[-1])\n",
        "\n",
        "# # print(mylist[0:])\n",
        "\n",
        "\n",
        "# # mylist[0] = 'mango'\n",
        "\n",
        "# # print(mylist)\n",
        "\n",
        "# mylist.insert(1, \"mango\")\n",
        "# print(mylist)\n",
        "# thislist = [\"apple\", \"banana\", \"cherry\"]\n",
        "# tropical = [\"mango\", \"pineapple\", \"papaya\"]\n",
        "# thislist.extend(tropical)\n",
        "# print(thislist)\n",
        "\n"
      ],
      "metadata": {
        "id": "i4fmU12-UTG8"
      },
      "execution_count": null,
      "outputs": []
    },
    {
      "cell_type": "markdown",
      "source": [
        "***1. Sum Items in List***\n",
        "\n",
        "*(Write a Python program to sum all the items in a list.)*\n"
      ],
      "metadata": {
        "id": "rvmxprccHiaR"
      }
    },
    {
      "cell_type": "code",
      "execution_count": 23,
      "metadata": {
        "colab": {
          "base_uri": "https://localhost:8080/"
        },
        "id": "-uW9r7S1Hhjc",
        "outputId": "079bbdcb-f4fa-4dbf-cac9-327d55e613f0"
      },
      "outputs": [
        {
          "output_type": "stream",
          "name": "stdout",
          "text": [
            "Sum of list: 25\n"
          ]
        }
      ],
      "source": [
        "# numbers = [3, 5, 1, 7, 9]\n",
        "# result = sum(numbers)\n",
        "# print(\"Sum of list:\", result)\n",
        "\n",
        "# ------------------------------------------------------------------------------\n",
        "\n",
        "# def sum_of_list(lst):\n",
        "#     return sum(lst)\n",
        "\n",
        "# numbers = [3, 5, 1, 7, 9]\n",
        "# print(\"Sum of list:\", sum_of_list(numbers))\n",
        "\n",
        "# ------------------------------------------------------------------------------\n",
        "\n",
        "\n",
        "def sum_of_list(lst):\n",
        "    result = 0\n",
        "    for num in lst:  # Loop through each number in the list\n",
        "        result += num  # Add the number to the result\n",
        "    return result  # Return the final sum to the result\n",
        "\n",
        "\n",
        "numbers = [3, 5, 1, 7, 9]\n",
        "print(\"Sum of list:\", sum_of_list(numbers))\n"
      ]
    },
    {
      "cell_type": "markdown",
      "source": [
        "***2. Multiply Items in List***\n",
        "\n",
        "*(Write a Python program to multiply all the items in a list.)*"
      ],
      "metadata": {
        "id": "UT88TonCJ8Qe"
      }
    },
    {
      "cell_type": "code",
      "source": [
        "# numbers = [1, 2, 3, 4, 5]\n",
        "# result = 1\n",
        "# for num in numbers:\n",
        "#     result *= num\n",
        "# print(\"Product of list:\", result)\n",
        "\n",
        "# ------------------------------------------------------------------------------\n",
        "\n",
        "\n",
        "def product_list(lst):\n",
        "    result = 1\n",
        "    for num in lst:\n",
        "        result *= num  # Multiply the number with the result\n",
        "    return result\n",
        "\n",
        "\n",
        "numbers = [1, 2, 3, 4, 5]\n",
        "print(\"Product of list:\", product_list(numbers))\n",
        "\n"
      ],
      "metadata": {
        "colab": {
          "base_uri": "https://localhost:8080/"
        },
        "id": "AJBne94HHqtj",
        "outputId": "c167cc3d-0cb6-409b-b8a6-1392064af647"
      },
      "execution_count": 25,
      "outputs": [
        {
          "output_type": "stream",
          "name": "stdout",
          "text": [
            "Product of list: 120\n"
          ]
        }
      ]
    },
    {
      "cell_type": "markdown",
      "source": [
        "***3. Get Largest Number in List***\n",
        "\n",
        "*(Write a Python program to get the largest number from a list)*\n"
      ],
      "metadata": {
        "id": "2yn4p0NJKF6M"
      }
    },
    {
      "cell_type": "code",
      "source": [
        "# numbers = [30, 10, 3, 9, 45]\n",
        "# largest = max(numbers)\n",
        "# print(\"Largest number:\", largest)\n",
        "\n",
        "# ------------------------------------------------------------------------------\n",
        "\n",
        "\n",
        "def large_number(lst):\n",
        "    return max(lst)  # Use built-in max() function to find the largest number\n",
        "\n",
        "numbers = [30, 10, 3, 9, 45]\n",
        "print(\"Largest number is:\", large_number(numbers))\n",
        "\n"
      ],
      "metadata": {
        "colab": {
          "base_uri": "https://localhost:8080/"
        },
        "id": "PLXk3K_sHtJa",
        "outputId": "518a775c-a076-4cdb-a174-2b0948c6556b"
      },
      "execution_count": 19,
      "outputs": [
        {
          "output_type": "stream",
          "name": "stdout",
          "text": [
            "Largest number is: 45\n"
          ]
        }
      ]
    },
    {
      "cell_type": "markdown",
      "source": [
        "***4. Get Smallest Number in List***\n",
        "\n",
        "*(Write a Python program to get the smallest number from a list.)*\n"
      ],
      "metadata": {
        "id": "t58A-oOJKMzh"
      }
    },
    {
      "cell_type": "code",
      "source": [
        "# numbers =[30, 10, 3, 9, 45]\n",
        "# smallest = min(numbers)\n",
        "# print(\"Smallest number:\", smallest)\n",
        "\n",
        "# ------------------------------------------------------------------------------\n",
        "\n",
        "\n",
        "def small_number(lst):\n",
        "    return min(lst)  # Use the built-in min() function to find the smallest number\n",
        "\n",
        "numbers = [30, 10, 3, 9, 45]\n",
        "print(\"Smallest number:\", small_number(numbers))\n",
        "\n"
      ],
      "metadata": {
        "colab": {
          "base_uri": "https://localhost:8080/"
        },
        "id": "rsI0CE1jHvJF",
        "outputId": "9c0ce588-ed7c-49eb-ce14-658caca05712"
      },
      "execution_count": 18,
      "outputs": [
        {
          "output_type": "stream",
          "name": "stdout",
          "text": [
            "Smallest number: 3\n"
          ]
        }
      ]
    },
    {
      "cell_type": "markdown",
      "source": [
        "***5. Count Strings with Same Start and End***\n",
        "\n",
        "*(Write a Python program to count the number of strings from a given list of strings. The string length is 2 or more and the first and last characters are the same.)*\n",
        "*Sample List : ['abc', 'xyz', 'aba', '1221']*\n",
        "*Expected Result : 2*"
      ],
      "metadata": {
        "id": "km1aVR90KSZ-"
      }
    },
    {
      "cell_type": "code",
      "source": [
        "# s_list = ['abc', 'xyz', 'aba', '1221']\n",
        "# count = 0\n",
        "# for word in s_list:\n",
        "#     if len(word) >= 2 and word[0] == word[-1]:\n",
        "#         count += 1\n",
        "# print(\"Count of same strings:\", count)\n",
        "\n",
        "# ------------------------------------------------------------------------------\n",
        "\n",
        "def count_strings(lst):\n",
        "    count = 0\n",
        "    for word in lst:  # Loop through each string in the list\n",
        "\n",
        "        # Check if the string length is >= 2 and first and last characters are the same\n",
        "        if len(word) >= 2 and word[0] == word[-1]:\n",
        "\n",
        "            count += 1\n",
        "    return count\n",
        "\n",
        "s_list = ['abc', 'xyz', 'aba', '1221']\n",
        "print(\"Count of same strings:\", count_strings(s_list))\n",
        "\n"
      ],
      "metadata": {
        "colab": {
          "base_uri": "https://localhost:8080/"
        },
        "id": "RurV2zW-Hw_W",
        "outputId": "6008e36a-204f-4fff-e22e-feae3caa0931"
      },
      "execution_count": 26,
      "outputs": [
        {
          "output_type": "stream",
          "name": "stdout",
          "text": [
            "Count of same strings: 2\n"
          ]
        }
      ]
    }
  ]
}