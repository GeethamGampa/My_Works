{
  "nbformat": 4,
  "nbformat_minor": 0,
  "metadata": {
    "colab": {
      "provenance": [],
      "authorship_tag": "ABX9TyPJZAqJHi0YyD5oUQbZbmAK",
      "include_colab_link": true
    },
    "kernelspec": {
      "name": "python3",
      "display_name": "Python 3"
    },
    "language_info": {
      "name": "python"
    }
  },
  "cells": [
    {
      "cell_type": "markdown",
      "metadata": {
        "id": "view-in-github",
        "colab_type": "text"
      },
      "source": [
        "<a href=\"https://colab.research.google.com/github/GeethamGampa/My_Works/blob/main/Work_L.ipynb\" target=\"_parent\"><img src=\"https://colab.research.google.com/assets/colab-badge.svg\" alt=\"Open In Colab\"/></a>"
      ]
    },
    {
      "cell_type": "markdown",
      "source": [
        "# ***Inheritance Advantages***\n",
        "\n",
        "> *Code reusability*\n",
        "\n",
        "> *Avoid repetition*\n",
        "\n",
        "> *Structure Organize*\n",
        "\n",
        "\n",
        "*main_class --> Udemy 1st landing page*\n",
        "\n",
        "*sub_class --> Udemy details*"
      ],
      "metadata": {
        "id": "6Fu5TtGMi0TO"
      }
    },
    {
      "cell_type": "code",
      "execution_count": null,
      "metadata": {
        "id": "55s_ftPrgv0r"
      },
      "outputs": [],
      "source": [
        "class Udemy_basic_page(): #--> super class 1\n",
        "    def __init__(self, title_page, price):\n",
        "        self.title_page = title_page\n",
        "        self.price = price\n",
        "\n",
        "\n",
        "class Udemy_detail(): #--> super class 2\n",
        "    def __init__(self, who_this_course_for, included_in_this_course, description):\n",
        "        self.who_this_course_for = who_this_course_for\n",
        "        self.included_in_this_course = included_in_this_course\n",
        "        self.description = description\n",
        "\n",
        "\n",
        "# child_class\n",
        "\n",
        "class Udemy_salesforce(Udemy_basic_page, Udemy_detail):\n",
        "    def __init__(self, title_page, price, description, who_this_course_for, included_in_this_course):\n",
        "        Udemy_basic_page.__init__(self, title_page, price, description)\n",
        "        Udemy_detail.__init__(self, who_this_course_for, included_in_this_course)\n",
        "\n",
        "class Udemy_salesforce(Udemy_basic_page, Udemy_detail):\n",
        "  # initial_page = Udemy_basic_page --> s1\n",
        "  # detail_page = Udemy_detail --> s2\n",
        "  # price = pricing --> s3\n",
        "  # explore related topics --> s4\n",
        "  # requirements --> s5\n"
      ]
    },
    {
      "cell_type": "code",
      "source": [
        "class Task:\n",
        "    # def __init__(self, title):\n",
        "    #     # self.title = title\n",
        "    #     # self.status = False\n",
        "\n",
        "    def display(self):\n",
        "        print(\"Regular Task\")\n",
        "\n",
        "class UrgentTask(Task):\n",
        "    # def __init__(self, title, due_time):\n",
        "    #     super().__init__(title)\n",
        "    #     self.due_time = due_time\n",
        "\n",
        "    def display(self):\n",
        "        print(\"Urgent Task\")\n",
        "\n",
        "# Method Overriding\n",
        "task1 = Task()\n",
        "urgent1 = UrgentTask()\n",
        "\n",
        "task1.display()\n",
        "urgent1.display()\n"
      ],
      "metadata": {
        "colab": {
          "base_uri": "https://localhost:8080/"
        },
        "id": "Kdnw7efUnLHa",
        "outputId": "a5bf2165-14bd-42c7-dd25-a1b56f4c5d28"
      },
      "execution_count": null,
      "outputs": [
        {
          "output_type": "stream",
          "name": "stdout",
          "text": [
            "Regular Task\n",
            "Urgent Task\n"
          ]
        }
      ]
    },
    {
      "cell_type": "code",
      "source": [
        "class Task:\n",
        "    def __init__(self, title):\n",
        "        self.title = title\n",
        "        self.status = False\n",
        "\n",
        "    def mark_done(self):\n",
        "        self.status = True\n",
        "\n",
        "    def display(self):\n",
        "        if self.status == True:\n",
        "            status = \"Done\"\n",
        "        else:\n",
        "            status = \"Not Done\"\n",
        "        print(self.title, status)\n",
        "\n",
        "class UrgentTask(Task):\n",
        "    def __init__(self, title, due_time):\n",
        "        super().__init__(title)\n",
        "        self.due_time = due_time\n",
        "\n",
        "    # Overriding\n",
        "    def display(self):\n",
        "        if self.status == True:\n",
        "            status = \"Done\"\n",
        "        else:\n",
        "            status = \"Not Done\"\n",
        "        print(self.title, status)\n",
        "\n",
        "# Method Overriding\n",
        "task1 = UrgentTask(\"Fix login bug\", \"5pm\")\n",
        "\n",
        "# Method Overriding\n",
        "task1 = UrgentTask(\"Fix login bug\", \"5pm\")\n",
        "task1.display()\n",
        "task1.mark_done()\n",
        "task1.display()"
      ],
      "metadata": {
        "colab": {
          "base_uri": "https://localhost:8080/"
        },
        "id": "SI9NjZCFqnbA",
        "outputId": "63d449f3-dab3-4ead-cf0f-86a8388a2be9"
      },
      "execution_count": null,
      "outputs": [
        {
          "output_type": "stream",
          "name": "stdout",
          "text": [
            "Fix login bug Not Done\n",
            "Fix login bug Done\n"
          ]
        }
      ]
    },
    {
      "cell_type": "markdown",
      "source": [
        "*> Single Inheritance : One child class inherits from one parent *\n",
        "\n",
        "*>Multiple Inheritance : One child inherits from two or more parents*\n"
      ],
      "metadata": {
        "id": "pfEpqOobuY_9"
      }
    },
    {
      "cell_type": "markdown",
      "source": [
        "# ***Multilevel Inheritance***\n",
        "\n",
        "*parent class --> p1*\n",
        "*parent class --> p2*\n",
        "\n",
        "*child1 --> c1 --> p2*\n",
        "\n",
        "*child2 -->p1 parent class properties, parent_class_sub_class2*\n",
        "\n",
        "\n"
      ],
      "metadata": {
        "id": "Z_IgeH_Hu2fc"
      }
    },
    {
      "cell_type": "code",
      "source": [
        "class Animal: # Parent class\n",
        "    def __init__(self, name):\n",
        "        self.name = name\n",
        "    def sleep(self):\n",
        "        print(f\"{self.name} is sleeping.\")\n",
        "class Dog(Animal): # Child class\n",
        "    def bark(self):\n",
        "        print(f\"{self.name} says bow bow\")\n",
        "d1 = Dog(\"Jerry\")\n",
        "d1.sleep()\n",
        "d1.bark()\n"
      ],
      "metadata": {
        "colab": {
          "base_uri": "https://localhost:8080/"
        },
        "id": "3MaFSsmXwdXW",
        "outputId": "3f69d910-0046-4bb1-ce05-8d09a6d01e3b"
      },
      "execution_count": null,
      "outputs": [
        {
          "output_type": "stream",
          "name": "stdout",
          "text": [
            "Jerry is sleeping.\n",
            "Jerry says bow bow\n"
          ]
        }
      ]
    },
    {
      "cell_type": "code",
      "source": [
        "class Animal:\n",
        "    def __init__(self, name, age):\n",
        "        self.name = name\n",
        "        self.age = age\n",
        "\n",
        "    def sound(self):\n",
        "        print(f\"{self.name} makes a sound.\")\n",
        "\n",
        "    def show_age(self):\n",
        "        print(f\"{self.name} is {self.age} years old.\")\n",
        "\n",
        "class Aquatic(Animal):\n",
        "    def __init__(self, name, age, color, size):\n",
        "        super().__init__(name, age)\n",
        "        self.color = color\n",
        "        self.size = size\n",
        "\n",
        "    def swim(self):\n",
        "        print(f\"{self.name} swims nicely, it is {self.color} and {self.size} in size.\")\n",
        "\n",
        "    def dive(self):\n",
        "        print(f\"{self.name} can dive deep in the water.\")\n",
        "\n",
        "class NonAquatic(Animal):\n",
        "    def __init__(self, name, age, legs, color):\n",
        "        super().__init__(name, age)\n",
        "        self.legs = legs\n",
        "        self.color = color\n",
        "\n",
        "    def walk(self):\n",
        "        print(f\"{self.name} walks on {self.legs} legs and is {self.color} in color.\")\n",
        "\n",
        "    def sleep(self):\n",
        "        print(f\"{self.name} is sleeping.\")\n",
        "\n",
        "# Create objects\n",
        "fish = Aquatic(\"Fighterfish\", 12, \"blue\", \"big\")\n",
        "dog = NonAquatic(\"Dog\", 5, 4, \"black\")\n",
        "\n",
        "# Call methods\n",
        "fish.show_age()\n",
        "fish.swim()\n",
        "fish.dive()\n",
        "\n",
        "dog.show_age()\n",
        "dog.walk()\n",
        "dog.sleep()\n"
      ],
      "metadata": {
        "colab": {
          "base_uri": "https://localhost:8080/"
        },
        "id": "dMHk_M2VImsT",
        "outputId": "f05d7776-c2ff-4d64-9a18-6be6eb171785"
      },
      "execution_count": null,
      "outputs": [
        {
          "output_type": "stream",
          "name": "stdout",
          "text": [
            "Fighterfish is 12 years old.\n",
            "Fighterfish swims nicely, it is blue and big in size.\n",
            "Fighterfish can dive deep in the water.\n",
            "Dog is 5 years old.\n",
            "Dog walks on 4 legs and is black in color.\n",
            "Dog is sleeping.\n"
          ]
        }
      ]
    }
  ]
}